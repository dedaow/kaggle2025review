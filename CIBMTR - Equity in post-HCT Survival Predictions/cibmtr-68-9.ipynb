{
 "cells": [
  {
   "cell_type": "markdown",
   "id": "bc791d9b",
   "metadata": {
    "papermill": {
     "duration": 0.009496,
     "end_time": "2025-01-11T07:14:55.448451",
     "exception": false,
     "start_time": "2025-01-11T07:14:55.438955",
     "status": "completed"
    },
    "tags": []
   },
   "source": [
    "<p style=\"background-color: rgb(247, 230, 202); font-size: 300%; text-align: center; border-radius: 40px 40px; color: rgb(162, 87, 79); font-weight: bold; font-family: 'Roboto'; border: 4px solid rgb(162, 87, 79);\">Introduction</p>"
   ]
  },
  {
   "cell_type": "markdown",
   "id": "0bda2753",
   "metadata": {
    "papermill": {
     "duration": 0.007254,
     "end_time": "2025-01-11T07:14:55.463349",
     "exception": false,
     "start_time": "2025-01-11T07:14:55.456095",
     "status": "completed"
    },
    "tags": []
   },
   "source": [
    "Addition in this notebook is the recalculation of HLA sums which are often missing. Since the sum is full of missing values, it was interesting to modify the values by recalculating them based on the data dictionary explanations and see the results.\n",
    "\n"
   ]
  },
  {
   "cell_type": "code",
   "execution_count": 1,
   "id": "a257629a",
   "metadata": {
    "execution": {
     "iopub.execute_input": "2025-01-11T07:14:55.479894Z",
     "iopub.status.busy": "2025-01-11T07:14:55.479551Z",
     "iopub.status.idle": "2025-01-11T07:14:55.488140Z",
     "shell.execute_reply": "2025-01-11T07:14:55.487348Z"
    },
    "papermill": {
     "duration": 0.018949,
     "end_time": "2025-01-11T07:14:55.489710",
     "exception": false,
     "start_time": "2025-01-11T07:14:55.470761",
     "status": "completed"
    },
    "tags": []
   },
   "outputs": [],
   "source": [
    "# HLA : Human Leukocyte Antigen matching levels.\n",
    "# Homozygous chromosomes have the same allele at a given locus (fixed position on a chromosome where a particular gene is located).\n",
    "# Those that have different alleles at a given locus are called heterozygous.\n",
    "# Values Explanation\n",
    "# 0 - No Match: Neither of the donor's two HLA antigens/alleles matches the recipient's HLA.\n",
    "# This indicates a complete mismatch at the locus, which increases the risk of complications like graft rejection or graft-versus-host disease (GVHD).\n",
    "# 1 - Partial Match: One of the donor's HLA antigens/alleles matches one of the recipient's.\n",
    "# This represents a half-match (heterozygous compatibility) at the locus. It's better than a full mismatch but still carries a moderate risk of immune complications.\n",
    "# 2 - Full Match: Both of the donor's HLA match both of the recipient's HLA.\n",
    "# This is the optimal scenario, indicating full compatibility at the locus and minimizing the risk of immune complications.\n",
    "\n",
    "# High VS Low resolution\n",
    "\n",
    "# High-Resolution Typing: Identifies specific alleles (e.g., HLA-A*02:01).\n",
    "# Provides the most precise match and is essential for unrelated donor transplants.\n",
    "\n",
    "# Low-Resolution Typing: Identifies broader antigen groups (e.g., HLA-A2).\n",
    "# May suffice for related donor transplants where genetic similarity is inherently higher.\n",
    "\n",
    "HLA_COLUMNS = [\n",
    "    # MHC class I molecules are one of two primary classes of major histocompatibility complex (MHC) molecules and are found on the cell surface of all nucleated cells.\n",
    "    # In humans, the HLAs corresponding to MHC class I are HLA-A, HLA-B, and HLA-C.\n",
    "    'hla_match_a_low', 'hla_match_a_high',\n",
    "    'hla_match_b_low', 'hla_match_b_high',\n",
    "    'hla_match_c_low', 'hla_match_c_high',\n",
    "\n",
    "    # MHC Class II molecules are a class of major histocompatibility complex (MHC) molecules normally found only on professional antigen-presenting cells \n",
    "    # such as dendritic cells, macrophages, some endothelial cells, thymic epithelial cells, and B cells.\n",
    "    # Antigens presented by MHC class II molecules are exogenous, originating from extracellular proteins rather than cytosolic and endogenous sources like \n",
    "    # those presented by MHC class I.\n",
    "    # HLAs corresponding to MHC class II are HLA-DP, HLA-DM, HLA-DOA, HLA-DOB, HLA-DQ, and HLA-DR.\n",
    "    # In this competition, we only have HLA-DR and HLA-DQ\n",
    "    \n",
    "    # Visit https://en.wikipedia.org/wiki/HLA-DQB1\n",
    "\n",
    "    'hla_match_dqb1_low', 'hla_match_dqb1_high',\n",
    "    'hla_match_drb1_low', 'hla_match_drb1_high',\n",
    "\n",
    "    # Combination of matches : sum of matches between multiple categories\n",
    "\n",
    "    # Matching at HLA-A(low), -B(low), -DRB1(high)\n",
    "    'hla_nmdp_6',\n",
    "    # Matching at HLA-A,-B,-DRB1 (low or high)\n",
    "    'hla_low_res_6', 'hla_high_res_6',\n",
    "    # Matching at HLA-A, -B, -C, -DRB1 (low or high)\n",
    "    'hla_low_res_8', 'hla_high_res_8',\n",
    "    # Matching at HLA-A, -B, -C, -DRB1, -DQB1 (low or high)\n",
    "    'hla_low_res_10', 'hla_high_res_10'\n",
    "]"
   ]
  },
  {
   "cell_type": "markdown",
   "id": "a2d68765",
   "metadata": {
    "papermill": {
     "duration": 0.007226,
     "end_time": "2025-01-11T07:14:55.504280",
     "exception": false,
     "start_time": "2025-01-11T07:14:55.497054",
     "status": "completed"
    },
    "tags": []
   },
   "source": [
    "<div style=\"background-color: rgb(247, 230, 202); border: 4px solid rgb(162, 87, 79); border-radius: 40px; padding: 20px; font-family: 'Roboto'; color: rgb(162, 87, 79); text-align: left; font-size: 120%;\">\n",
    "    <ul style=\"list-style-type: square; padding-left: 20px;\">\n",
    "        <li>Missing values are replaced with:\n",
    "            <ul style=\"list-style-type: circle; margin-top: 10px; margin-bottom: 10px;\">\n",
    "                <li>-1 for numeric columns</li>\n",
    "                <li>Unknown for categorical columns</li>\n",
    "            </ul>\n",
    "        </li>\n",
    "        <li style=\"margin-top: 10px;\">\n",
    "            LightGBM and CatBoost are trained on 3 different targets, estimated from the survival models:\n",
    "            <ul style=\"list-style-type: circle; margin-top: 10px; margin-bottom: 10px;\">\n",
    "                <li>Cox</li>\n",
    "                <li>Kaplan-Meier</li>\n",
    "                <li>Nelson-Aalen</li>\n",
    "            </ul>\n",
    "        </li>\n",
    "        <li style=\"margin-top: 10px;\">Two additional CatBoost model are trained, with Cox loss function.</li>\n",
    "        <li style=\"margin-top: 10px;\">As per <a href=\"https://www.kaggle.com/competitions/equity-post-HCT-survival-predictions/discussion/553061\" style=\"color: #A2574F; text-decoration: underline;\">this</a> discussion post, the target is consisted of the Out-of-Fold predictions of the survival models on the validation folds to prevent target leakage.</li>\n",
    "        <li style=\"margin-top: 10px;\">\n",
    "            The ensemble prediction for each sample is computed as:\n",
    "            <ul style=\"list-style-type: circle; margin-top: 10px; margin-bottom: 10px;\">\n",
    "                <p style=\"margin-top: 10px; font-size: 110%; color: #A2574F; font-family: 'Roboto'; text-align: left;\">\n",
    "                    $ \\text{preds}_{\\text{ensemble}} = \\sum_{i=1}^{n} w_i \\cdot \\text{rankdata}(\\text{preds}_i) $\n",
    "                </p>\n",
    "                where $n$ is the number of models, $w_i$ is the weight assigned to the $i$-th model, and $\\text{rankdata}(\\text{preds}_i)$ is the rank of predictions from the $i$-th model.\n",
    "            </ul>\n",
    "        </li>\n",
    "        <li style=\"margin-top: 10px;\">Last but not least, since the competition metric evaluates only the order of predictions and not their magnitude, the model weights are not required to sum to 1, nor should the predictions fall within a predefined range.</li>\n",
    "    </ul>\n",
    "</div>"
   ]
  },
  {
   "cell_type": "markdown",
   "id": "367440ea",
   "metadata": {
    "papermill": {
     "duration": 0.00719,
     "end_time": "2025-01-11T07:14:55.518913",
     "exception": false,
     "start_time": "2025-01-11T07:14:55.511723",
     "status": "completed"
    },
    "tags": []
   },
   "source": [
    "<p style=\"background-color: rgb(247, 230, 202); font-size: 300%; text-align: center; border-radius: 40px 40px; color: rgb(162, 87, 79); font-weight: bold; font-family: 'Roboto'; border: 4px solid rgb(162, 87, 79);\">Install Libraries</p>"
   ]
  },
  {
   "cell_type": "code",
   "execution_count": 2,
   "id": "62ee48e0",
   "metadata": {
    "_kg_hide-output": true,
    "execution": {
     "iopub.execute_input": "2025-01-11T07:14:55.534954Z",
     "iopub.status.busy": "2025-01-11T07:14:55.534674Z",
     "iopub.status.idle": "2025-01-11T07:18:19.636700Z",
     "shell.execute_reply": "2025-01-11T07:18:19.635782Z"
    },
    "papermill": {
     "duration": 204.11323,
     "end_time": "2025-01-11T07:18:19.639577",
     "exception": false,
     "start_time": "2025-01-11T07:14:55.526347",
     "status": "completed"
    },
    "tags": []
   },
   "outputs": [
    {
     "name": "stdout",
     "output_type": "stream",
     "text": [
      "Processing /kaggle/input/pip-install-lifelines/autograd-1.7.0-py3-none-any.whl\r\n",
      "Requirement already satisfied: numpy in /opt/conda/lib/python3.10/site-packages (from autograd==1.7.0) (1.26.4)\r\n",
      "Installing collected packages: autograd\r\n",
      "Successfully installed autograd-1.7.0\r\n",
      "Processing /kaggle/input/pip-install-lifelines/autograd-gamma-0.5.0.tar.gz\r\n",
      "  Preparing metadata (setup.py) ... \u001b[?25l-\b \bdone\r\n",
      "\u001b[?25hRequirement already satisfied: autograd>=1.2.0 in /opt/conda/lib/python3.10/site-packages (from autograd-gamma==0.5.0) (1.7.0)\r\n",
      "Requirement already satisfied: scipy>=1.2.0 in /opt/conda/lib/python3.10/site-packages (from autograd-gamma==0.5.0) (1.14.1)\r\n",
      "Requirement already satisfied: numpy in /opt/conda/lib/python3.10/site-packages (from autograd>=1.2.0->autograd-gamma==0.5.0) (1.26.4)\r\n",
      "Building wheels for collected packages: autograd-gamma\r\n",
      "  Building wheel for autograd-gamma (setup.py) ... \u001b[?25l-\b \b\\\b \bdone\r\n",
      "\u001b[?25h  Created wheel for autograd-gamma: filename=autograd_gamma-0.5.0-py3-none-any.whl size=4030 sha256=1b388f9957a9b0e98e8882c3217eb796479392017ada8a962f66e832385605a3\r\n",
      "  Stored in directory: /root/.cache/pip/wheels/6b/b5/e0/4c79e15c0b5f2c15ecf613c720bb20daab20a666eb67135155\r\n",
      "Successfully built autograd-gamma\r\n",
      "Installing collected packages: autograd-gamma\r\n",
      "Successfully installed autograd-gamma-0.5.0\r\n",
      "Processing /kaggle/input/pip-install-lifelines/interface_meta-1.3.0-py3-none-any.whl\r\n",
      "Installing collected packages: interface-meta\r\n",
      "Successfully installed interface-meta-1.3.0\r\n",
      "Processing /kaggle/input/pip-install-lifelines/formulaic-1.0.2-py3-none-any.whl\r\n",
      "Requirement already satisfied: interface-meta>=1.2.0 in /opt/conda/lib/python3.10/site-packages (from formulaic==1.0.2) (1.3.0)\r\n",
      "Requirement already satisfied: numpy>=1.16.5 in /opt/conda/lib/python3.10/site-packages (from formulaic==1.0.2) (1.26.4)\r\n",
      "Requirement already satisfied: pandas>=1.0 in /opt/conda/lib/python3.10/site-packages (from formulaic==1.0.2) (2.2.3)\r\n",
      "Requirement already satisfied: scipy>=1.6 in /opt/conda/lib/python3.10/site-packages (from formulaic==1.0.2) (1.14.1)\r\n",
      "Requirement already satisfied: typing-extensions>=4.2.0 in /opt/conda/lib/python3.10/site-packages (from formulaic==1.0.2) (4.12.2)\r\n",
      "Requirement already satisfied: wrapt>=1.0 in /opt/conda/lib/python3.10/site-packages (from formulaic==1.0.2) (1.16.0)\r\n",
      "Requirement already satisfied: python-dateutil>=2.8.2 in /opt/conda/lib/python3.10/site-packages (from pandas>=1.0->formulaic==1.0.2) (2.9.0.post0)\r\n",
      "Requirement already satisfied: pytz>=2020.1 in /opt/conda/lib/python3.10/site-packages (from pandas>=1.0->formulaic==1.0.2) (2024.1)\r\n",
      "Requirement already satisfied: tzdata>=2022.7 in /opt/conda/lib/python3.10/site-packages (from pandas>=1.0->formulaic==1.0.2) (2024.1)\r\n",
      "Requirement already satisfied: six>=1.5 in /opt/conda/lib/python3.10/site-packages (from python-dateutil>=2.8.2->pandas>=1.0->formulaic==1.0.2) (1.16.0)\r\n",
      "Installing collected packages: formulaic\r\n",
      "Successfully installed formulaic-1.0.2\r\n",
      "Processing /kaggle/input/pip-install-lifelines/lifelines-0.30.0-py3-none-any.whl\r\n",
      "Requirement already satisfied: numpy>=1.14.0 in /opt/conda/lib/python3.10/site-packages (from lifelines==0.30.0) (1.26.4)\r\n",
      "Requirement already satisfied: scipy>=1.7.0 in /opt/conda/lib/python3.10/site-packages (from lifelines==0.30.0) (1.14.1)\r\n",
      "Requirement already satisfied: pandas>=2.1 in /opt/conda/lib/python3.10/site-packages (from lifelines==0.30.0) (2.2.3)\r\n",
      "Requirement already satisfied: matplotlib>=3.0 in /opt/conda/lib/python3.10/site-packages (from lifelines==0.30.0) (3.7.5)\r\n",
      "Requirement already satisfied: autograd>=1.5 in /opt/conda/lib/python3.10/site-packages (from lifelines==0.30.0) (1.7.0)\r\n",
      "Requirement already satisfied: autograd-gamma>=0.3 in /opt/conda/lib/python3.10/site-packages (from lifelines==0.30.0) (0.5.0)\r\n",
      "Requirement already satisfied: formulaic>=0.2.2 in /opt/conda/lib/python3.10/site-packages (from lifelines==0.30.0) (1.0.2)\r\n",
      "Requirement already satisfied: interface-meta>=1.2.0 in /opt/conda/lib/python3.10/site-packages (from formulaic>=0.2.2->lifelines==0.30.0) (1.3.0)\r\n",
      "Requirement already satisfied: typing-extensions>=4.2.0 in /opt/conda/lib/python3.10/site-packages (from formulaic>=0.2.2->lifelines==0.30.0) (4.12.2)\r\n",
      "Requirement already satisfied: wrapt>=1.0 in /opt/conda/lib/python3.10/site-packages (from formulaic>=0.2.2->lifelines==0.30.0) (1.16.0)\r\n",
      "Requirement already satisfied: contourpy>=1.0.1 in /opt/conda/lib/python3.10/site-packages (from matplotlib>=3.0->lifelines==0.30.0) (1.2.1)\r\n",
      "Requirement already satisfied: cycler>=0.10 in /opt/conda/lib/python3.10/site-packages (from matplotlib>=3.0->lifelines==0.30.0) (0.12.1)\r\n",
      "Requirement already satisfied: fonttools>=4.22.0 in /opt/conda/lib/python3.10/site-packages (from matplotlib>=3.0->lifelines==0.30.0) (4.53.0)\r\n",
      "Requirement already satisfied: kiwisolver>=1.0.1 in /opt/conda/lib/python3.10/site-packages (from matplotlib>=3.0->lifelines==0.30.0) (1.4.5)\r\n",
      "Requirement already satisfied: packaging>=20.0 in /opt/conda/lib/python3.10/site-packages (from matplotlib>=3.0->lifelines==0.30.0) (21.3)\r\n",
      "Requirement already satisfied: pillow>=6.2.0 in /opt/conda/lib/python3.10/site-packages (from matplotlib>=3.0->lifelines==0.30.0) (10.3.0)\r\n",
      "Requirement already satisfied: pyparsing>=2.3.1 in /opt/conda/lib/python3.10/site-packages (from matplotlib>=3.0->lifelines==0.30.0) (3.1.2)\r\n",
      "Requirement already satisfied: python-dateutil>=2.7 in /opt/conda/lib/python3.10/site-packages (from matplotlib>=3.0->lifelines==0.30.0) (2.9.0.post0)\r\n",
      "Requirement already satisfied: pytz>=2020.1 in /opt/conda/lib/python3.10/site-packages (from pandas>=2.1->lifelines==0.30.0) (2024.1)\r\n",
      "Requirement already satisfied: tzdata>=2022.7 in /opt/conda/lib/python3.10/site-packages (from pandas>=2.1->lifelines==0.30.0) (2024.1)\r\n",
      "Requirement already satisfied: six>=1.5 in /opt/conda/lib/python3.10/site-packages (from python-dateutil>=2.7->matplotlib>=3.0->lifelines==0.30.0) (1.16.0)\r\n",
      "Installing collected packages: lifelines\r\n",
      "Successfully installed lifelines-0.30.0\r\n"
     ]
    }
   ],
   "source": [
    "!pip install /kaggle/input/pip-install-lifelines/autograd-1.7.0-py3-none-any.whl\n",
    "!pip install /kaggle/input/pip-install-lifelines/autograd-gamma-0.5.0.tar.gz\n",
    "!pip install /kaggle/input/pip-install-lifelines/interface_meta-1.3.0-py3-none-any.whl\n",
    "!pip install /kaggle/input/pip-install-lifelines/formulaic-1.0.2-py3-none-any.whl\n",
    "!pip install /kaggle/input/pip-install-lifelines/lifelines-0.30.0-py3-none-any.whl"
   ]
  },
  {
   "cell_type": "markdown",
   "id": "bccb5a55",
   "metadata": {
    "papermill": {
     "duration": 0.008372,
     "end_time": "2025-01-11T07:18:19.656948",
     "exception": false,
     "start_time": "2025-01-11T07:18:19.648576",
     "status": "completed"
    },
    "tags": []
   },
   "source": [
    "<p style=\"background-color: rgb(247, 230, 202); font-size: 300%; text-align: center; border-radius: 40px 40px; color: rgb(162, 87, 79); font-weight: bold; font-family: 'Roboto'; border: 4px solid rgb(162, 87, 79);\">Imports</p>"
   ]
  },
  {
   "cell_type": "code",
   "execution_count": 3,
   "id": "d3695fdc",
   "metadata": {
    "execution": {
     "iopub.execute_input": "2025-01-11T07:18:19.676623Z",
     "iopub.status.busy": "2025-01-11T07:18:19.676253Z",
     "iopub.status.idle": "2025-01-11T07:18:19.680583Z",
     "shell.execute_reply": "2025-01-11T07:18:19.679826Z"
    },
    "papermill": {
     "duration": 0.015734,
     "end_time": "2025-01-11T07:18:19.682298",
     "exception": false,
     "start_time": "2025-01-11T07:18:19.666564",
     "status": "completed"
    },
    "tags": []
   },
   "outputs": [],
   "source": [
    "import warnings\n",
    "from pathlib import Path\n",
    "warnings.filterwarnings('ignore')"
   ]
  },
  {
   "cell_type": "code",
   "execution_count": 4,
   "id": "a0bad377",
   "metadata": {
    "execution": {
     "iopub.execute_input": "2025-01-11T07:18:19.700127Z",
     "iopub.status.busy": "2025-01-11T07:18:19.699880Z",
     "iopub.status.idle": "2025-01-11T07:18:21.047715Z",
     "shell.execute_reply": "2025-01-11T07:18:21.046996Z"
    },
    "papermill": {
     "duration": 1.358909,
     "end_time": "2025-01-11T07:18:21.049572",
     "exception": false,
     "start_time": "2025-01-11T07:18:19.690663",
     "status": "completed"
    },
    "tags": []
   },
   "outputs": [],
   "source": [
    "import numpy as np\n",
    "import polars as pl\n",
    "import pandas as pd\n",
    "import plotly.colors as pc\n",
    "import plotly.express as px\n",
    "import plotly.graph_objects as go"
   ]
  },
  {
   "cell_type": "code",
   "execution_count": 5,
   "id": "07ab86d8",
   "metadata": {
    "execution": {
     "iopub.execute_input": "2025-01-11T07:18:21.068437Z",
     "iopub.status.busy": "2025-01-11T07:18:21.067792Z",
     "iopub.status.idle": "2025-01-11T07:18:21.195650Z",
     "shell.execute_reply": "2025-01-11T07:18:21.195078Z"
    },
    "papermill": {
     "duration": 0.139251,
     "end_time": "2025-01-11T07:18:21.197664",
     "exception": false,
     "start_time": "2025-01-11T07:18:21.058413",
     "status": "completed"
    },
    "tags": []
   },
   "outputs": [],
   "source": [
    "import plotly.io as pio\n",
    "pio.renderers.default = 'iframe'"
   ]
  },
  {
   "cell_type": "code",
   "execution_count": 6,
   "id": "2af14fd7",
   "metadata": {
    "execution": {
     "iopub.execute_input": "2025-01-11T07:18:21.217066Z",
     "iopub.status.busy": "2025-01-11T07:18:21.216205Z",
     "iopub.status.idle": "2025-01-11T07:18:21.220974Z",
     "shell.execute_reply": "2025-01-11T07:18:21.220189Z"
    },
    "papermill": {
     "duration": 0.015845,
     "end_time": "2025-01-11T07:18:21.222601",
     "exception": false,
     "start_time": "2025-01-11T07:18:21.206756",
     "status": "completed"
    },
    "tags": []
   },
   "outputs": [],
   "source": [
    "pd.options.display.max_columns = None"
   ]
  },
  {
   "cell_type": "code",
   "execution_count": 7,
   "id": "f502061f",
   "metadata": {
    "execution": {
     "iopub.execute_input": "2025-01-11T07:18:21.241107Z",
     "iopub.status.busy": "2025-01-11T07:18:21.240819Z",
     "iopub.status.idle": "2025-01-11T07:18:22.309468Z",
     "shell.execute_reply": "2025-01-11T07:18:22.308587Z"
    },
    "papermill": {
     "duration": 1.080208,
     "end_time": "2025-01-11T07:18:22.311608",
     "exception": false,
     "start_time": "2025-01-11T07:18:21.231400",
     "status": "completed"
    },
    "tags": []
   },
   "outputs": [],
   "source": [
    "from lifelines import CoxPHFitter\n",
    "from lifelines import KaplanMeierFitter\n",
    "from lifelines import NelsonAalenFitter"
   ]
  },
  {
   "cell_type": "code",
   "execution_count": 8,
   "id": "e066b1fe",
   "metadata": {
    "execution": {
     "iopub.execute_input": "2025-01-11T07:18:22.330692Z",
     "iopub.status.busy": "2025-01-11T07:18:22.330205Z",
     "iopub.status.idle": "2025-01-11T07:18:25.340141Z",
     "shell.execute_reply": "2025-01-11T07:18:25.339434Z"
    },
    "papermill": {
     "duration": 3.021889,
     "end_time": "2025-01-11T07:18:25.342502",
     "exception": false,
     "start_time": "2025-01-11T07:18:22.320613",
     "status": "completed"
    },
    "tags": []
   },
   "outputs": [],
   "source": [
    "import lightgbm as lgb\n",
    "from metric import score\n",
    "from scipy.stats import rankdata \n",
    "from catboost import CatBoostRegressor\n",
    "from sklearn.model_selection import KFold"
   ]
  },
  {
   "cell_type": "markdown",
   "id": "caba8a9b",
   "metadata": {
    "papermill": {
     "duration": 0.008381,
     "end_time": "2025-01-11T07:18:25.359981",
     "exception": false,
     "start_time": "2025-01-11T07:18:25.351600",
     "status": "completed"
    },
    "tags": []
   },
   "source": [
    "<p style=\"background-color: rgb(247, 230, 202); font-size: 300%; text-align: center; border-radius: 40px 40px; color: rgb(162, 87, 79); font-weight: bold; font-family: 'Roboto'; border: 4px solid rgb(162, 87, 79);\">Configuration</p>"
   ]
  },
  {
   "cell_type": "code",
   "execution_count": 9,
   "id": "8d3060c9",
   "metadata": {
    "execution": {
     "iopub.execute_input": "2025-01-11T07:18:25.378645Z",
     "iopub.status.busy": "2025-01-11T07:18:25.378005Z",
     "iopub.status.idle": "2025-01-11T07:18:25.385582Z",
     "shell.execute_reply": "2025-01-11T07:18:25.384775Z"
    },
    "papermill": {
     "duration": 0.018735,
     "end_time": "2025-01-11T07:18:25.387298",
     "exception": false,
     "start_time": "2025-01-11T07:18:25.368563",
     "status": "completed"
    },
    "tags": []
   },
   "outputs": [],
   "source": [
    "class CFG:\n",
    "\n",
    "    train_path = Path('/kaggle/input/equity-post-HCT-survival-predictions/train.csv')\n",
    "    test_path = Path('/kaggle/input/equity-post-HCT-survival-predictions/test.csv')\n",
    "    subm_path = Path('/kaggle/input/equity-post-HCT-survival-predictions/sample_submission.csv')\n",
    "\n",
    "    color = '#A2574F'\n",
    "\n",
    "    batch_size = 32768\n",
    "    early_stop = 300\n",
    "    penalizer = 0.01\n",
    "    n_splits = 5\n",
    "\n",
    "    weights = [1.0, 1.0, 8.0, 4.0, 8.0, 4.0, 6.0, 6.0]\n",
    "\n",
    "    ctb_params = {\n",
    "        'loss_function': 'RMSE',\n",
    "        'learning_rate': 0.03,\n",
    "        'random_state': 42,\n",
    "        'task_type': 'CPU',\n",
    "        'num_trees': 6000,\n",
    "        'subsample': 0.85,\n",
    "        'reg_lambda': 8.0,\n",
    "        'depth': 8\n",
    "    }\n",
    "\n",
    "    lgb_params = {\n",
    "        'objective': 'regression',\n",
    "        'min_child_samples': 32,\n",
    "        'num_iterations': 6000,\n",
    "        'learning_rate': 0.03,\n",
    "        'extra_trees': True,\n",
    "        'reg_lambda': 8.0,\n",
    "        'reg_alpha': 0.1,\n",
    "        'num_leaves': 64,\n",
    "        'metric': 'rmse',\n",
    "        'max_depth': 8,\n",
    "        'device': 'cpu',\n",
    "        'max_bin': 128,\n",
    "        'verbose': -1,\n",
    "        'seed': 42\n",
    "    }\n",
    "\n",
    "    # Parameters for the first CatBoost model with Cox loss function\n",
    "    cox1_params = {\n",
    "        'grow_policy': 'Depthwise',\n",
    "        'min_child_samples': 8,\n",
    "        'loss_function': 'Cox',\n",
    "        'learning_rate': 0.03,\n",
    "        'random_state': 42,\n",
    "        'task_type': 'CPU',\n",
    "        'num_trees': 6000,\n",
    "        'subsample': 0.85,\n",
    "        'reg_lambda': 8.0,\n",
    "        'depth': 8\n",
    "    }\n",
    "\n",
    "    # Parameters for the second CatBoost model with Cox loss function\n",
    "    cox2_params = {\n",
    "        'grow_policy': 'Lossguide',\n",
    "        'loss_function': 'Cox',\n",
    "        'learning_rate': 0.03,\n",
    "        'random_state': 42,\n",
    "        'task_type': 'CPU',\n",
    "        'num_trees': 6000,\n",
    "        'subsample': 0.85,\n",
    "        'reg_lambda': 8.0,\n",
    "        'num_leaves': 32,\n",
    "        'depth': 8\n",
    "    }"
   ]
  },
  {
   "cell_type": "markdown",
   "id": "a603e181",
   "metadata": {
    "papermill": {
     "duration": 0.008148,
     "end_time": "2025-01-11T07:18:25.404008",
     "exception": false,
     "start_time": "2025-01-11T07:18:25.395860",
     "status": "completed"
    },
    "tags": []
   },
   "source": [
    "<p style=\"background-color: rgb(247, 230, 202); font-size: 300%; text-align: center; border-radius: 40px 40px; color: rgb(162, 87, 79); font-weight: bold; font-family: 'Roboto'; border: 4px solid rgb(162, 87, 79);\">Feature Engineering</p>"
   ]
  },
  {
   "cell_type": "code",
   "execution_count": 10,
   "id": "0da1de5f",
   "metadata": {
    "_kg_hide-input": false,
    "execution": {
     "iopub.execute_input": "2025-01-11T07:18:25.421739Z",
     "iopub.status.busy": "2025-01-11T07:18:25.421467Z",
     "iopub.status.idle": "2025-01-11T07:18:25.434693Z",
     "shell.execute_reply": "2025-01-11T07:18:25.433907Z"
    },
    "papermill": {
     "duration": 0.023922,
     "end_time": "2025-01-11T07:18:25.436212",
     "exception": false,
     "start_time": "2025-01-11T07:18:25.412290",
     "status": "completed"
    },
    "tags": []
   },
   "outputs": [],
   "source": [
    "class FE:\n",
    "\n",
    "    def __init__(self, batch_size):\n",
    "        self._batch_size = batch_size\n",
    "\n",
    "    def load_data(self, path):\n",
    "\n",
    "        return pl.read_csv(path, batch_size=self._batch_size)\n",
    "\n",
    "    def recalculate_hla_sums(self, df):\n",
    "        \n",
    "        df = df.with_columns(\n",
    "            (pl.col(\"hla_match_a_low\").fill_null(0) + pl.col(\"hla_match_b_low\").fill_null(0) + \n",
    "             pl.col(\"hla_match_drb1_high\").fill_null(0)).alias(\"hla_nmdp_6\"),\n",
    "            \n",
    "            (pl.col(\"hla_match_a_low\").fill_null(0) + pl.col(\"hla_match_b_low\").fill_null(0) + \n",
    "             pl.col(\"hla_match_drb1_low\").fill_null(0)).alias(\"hla_low_res_6\"),\n",
    "            \n",
    "            (pl.col(\"hla_match_a_high\").fill_null(0) + pl.col(\"hla_match_b_high\").fill_null(0) + \n",
    "             pl.col(\"hla_match_drb1_high\").fill_null(0)).alias(\"hla_high_res_6\"),\n",
    "            \n",
    "            (pl.col(\"hla_match_a_low\").fill_null(0) + pl.col(\"hla_match_b_low\").fill_null(0) + \n",
    "             pl.col(\"hla_match_c_low\").fill_null(0) + pl.col(\"hla_match_drb1_low\").fill_null(0)\n",
    "            ).alias(\"hla_low_res_8\"),\n",
    "            \n",
    "            (pl.col(\"hla_match_a_high\").fill_null(0) + pl.col(\"hla_match_b_high\").fill_null(0) + \n",
    "             pl.col(\"hla_match_c_high\").fill_null(0) + pl.col(\"hla_match_drb1_high\").fill_null(0)\n",
    "            ).alias(\"hla_high_res_8\"),\n",
    "            \n",
    "            (pl.col(\"hla_match_a_low\").fill_null(0) + pl.col(\"hla_match_b_low\").fill_null(0) + \n",
    "             pl.col(\"hla_match_c_low\").fill_null(0) + pl.col(\"hla_match_drb1_low\").fill_null(0) +\n",
    "             pl.col(\"hla_match_dqb1_low\").fill_null(0)).alias(\"hla_low_res_10\"),\n",
    "            \n",
    "            (pl.col(\"hla_match_a_high\").fill_null(0) + pl.col(\"hla_match_b_high\").fill_null(0) + \n",
    "             pl.col(\"hla_match_c_high\").fill_null(0) + pl.col(\"hla_match_drb1_high\").fill_null(0) +\n",
    "             pl.col(\"hla_match_dqb1_high\").fill_null(0)).alias(\"hla_high_res_10\"),\n",
    "        )\n",
    "\n",
    "        return df\n",
    "\n",
    "    def cast_datatypes(self, df):\n",
    "\n",
    "        num_cols = [\n",
    "            'hla_high_res_8',\n",
    "            'hla_low_res_8',\n",
    "            'hla_high_res_6',\n",
    "            'hla_low_res_6',\n",
    "            'hla_high_res_10',\n",
    "            'hla_low_res_10',\n",
    "            'hla_match_dqb1_high',\n",
    "            'hla_match_dqb1_low',\n",
    "            'hla_match_drb1_high',\n",
    "            'hla_match_drb1_low',\n",
    "            'hla_nmdp_6',\n",
    "            'year_hct',\n",
    "            'hla_match_a_high',\n",
    "            'hla_match_a_low',\n",
    "            'hla_match_b_high',\n",
    "            'hla_match_b_low',\n",
    "            'hla_match_c_high',\n",
    "            'hla_match_c_low',\n",
    "            'donor_age',\n",
    "            'age_at_hct',\n",
    "            'comorbidity_score',\n",
    "            'karnofsky_score',\n",
    "            'efs',\n",
    "            'efs_time'\n",
    "        ]\n",
    "\n",
    "        for col in df.columns:\n",
    "\n",
    "            if col in num_cols:\n",
    "                df = df.with_columns(pl.col(col).fill_null(-1).cast(pl.Float32))  \n",
    "\n",
    "            else:\n",
    "                df = df.with_columns(pl.col(col).fill_null('Unknown').cast(pl.String))  \n",
    "\n",
    "        return df.with_columns(pl.col('ID').cast(pl.Int32))\n",
    "\n",
    "    def info(self, df):\n",
    "        \n",
    "        print(f'\\nShape of dataframe: {df.shape}') \n",
    "        \n",
    "        mem = df.memory_usage().sum() / 1024**2\n",
    "        print('Memory usage: {:.2f} MB\\n'.format(mem))\n",
    "\n",
    "        display(df.head())\n",
    "\n",
    "    def apply_fe(self, path):\n",
    "\n",
    "        df = self.load_data(path)\n",
    "        df = self.recalculate_hla_sums(df)\n",
    "        df = self.cast_datatypes(df)\n",
    "        df = df.to_pandas()\n",
    "\n",
    "        self.info(df)\n",
    "        \n",
    "        cat_cols = [col for col in df.columns if df[col].dtype == pl.String]\n",
    "\n",
    "        return df, cat_cols"
   ]
  },
  {
   "cell_type": "code",
   "execution_count": 11,
   "id": "750ae4b4",
   "metadata": {
    "_kg_hide-input": false,
    "execution": {
     "iopub.execute_input": "2025-01-11T07:18:25.454780Z",
     "iopub.status.busy": "2025-01-11T07:18:25.454240Z",
     "iopub.status.idle": "2025-01-11T07:18:25.457885Z",
     "shell.execute_reply": "2025-01-11T07:18:25.457094Z"
    },
    "papermill": {
     "duration": 0.014752,
     "end_time": "2025-01-11T07:18:25.459435",
     "exception": false,
     "start_time": "2025-01-11T07:18:25.444683",
     "status": "completed"
    },
    "tags": []
   },
   "outputs": [],
   "source": [
    "fe = FE(CFG.batch_size)"
   ]
  },
  {
   "cell_type": "code",
   "execution_count": 12,
   "id": "a4315784",
   "metadata": {
    "execution": {
     "iopub.execute_input": "2025-01-11T07:18:25.477353Z",
     "iopub.status.busy": "2025-01-11T07:18:25.477124Z",
     "iopub.status.idle": "2025-01-11T07:18:26.026685Z",
     "shell.execute_reply": "2025-01-11T07:18:26.025727Z"
    },
    "papermill": {
     "duration": 0.560603,
     "end_time": "2025-01-11T07:18:26.028472",
     "exception": false,
     "start_time": "2025-01-11T07:18:25.467869",
     "status": "completed"
    },
    "tags": []
   },
   "outputs": [
    {
     "name": "stdout",
     "output_type": "stream",
     "text": [
      "\n",
      "Shape of dataframe: (28800, 60)\n",
      "Memory usage: 10.44 MB\n",
      "\n"
     ]
    },
    {
     "data": {
      "text/html": [
       "<div>\n",
       "<style scoped>\n",
       "    .dataframe tbody tr th:only-of-type {\n",
       "        vertical-align: middle;\n",
       "    }\n",
       "\n",
       "    .dataframe tbody tr th {\n",
       "        vertical-align: top;\n",
       "    }\n",
       "\n",
       "    .dataframe thead th {\n",
       "        text-align: right;\n",
       "    }\n",
       "</style>\n",
       "<table border=\"1\" class=\"dataframe\">\n",
       "  <thead>\n",
       "    <tr style=\"text-align: right;\">\n",
       "      <th></th>\n",
       "      <th>ID</th>\n",
       "      <th>dri_score</th>\n",
       "      <th>psych_disturb</th>\n",
       "      <th>cyto_score</th>\n",
       "      <th>diabetes</th>\n",
       "      <th>hla_match_c_high</th>\n",
       "      <th>hla_high_res_8</th>\n",
       "      <th>tbi_status</th>\n",
       "      <th>arrhythmia</th>\n",
       "      <th>hla_low_res_6</th>\n",
       "      <th>graft_type</th>\n",
       "      <th>vent_hist</th>\n",
       "      <th>renal_issue</th>\n",
       "      <th>pulm_severe</th>\n",
       "      <th>prim_disease_hct</th>\n",
       "      <th>hla_high_res_6</th>\n",
       "      <th>cmv_status</th>\n",
       "      <th>hla_high_res_10</th>\n",
       "      <th>hla_match_dqb1_high</th>\n",
       "      <th>tce_imm_match</th>\n",
       "      <th>hla_nmdp_6</th>\n",
       "      <th>hla_match_c_low</th>\n",
       "      <th>rituximab</th>\n",
       "      <th>hla_match_drb1_low</th>\n",
       "      <th>hla_match_dqb1_low</th>\n",
       "      <th>prod_type</th>\n",
       "      <th>cyto_score_detail</th>\n",
       "      <th>conditioning_intensity</th>\n",
       "      <th>ethnicity</th>\n",
       "      <th>year_hct</th>\n",
       "      <th>obesity</th>\n",
       "      <th>mrd_hct</th>\n",
       "      <th>in_vivo_tcd</th>\n",
       "      <th>tce_match</th>\n",
       "      <th>hla_match_a_high</th>\n",
       "      <th>hepatic_severe</th>\n",
       "      <th>donor_age</th>\n",
       "      <th>prior_tumor</th>\n",
       "      <th>hla_match_b_low</th>\n",
       "      <th>peptic_ulcer</th>\n",
       "      <th>age_at_hct</th>\n",
       "      <th>hla_match_a_low</th>\n",
       "      <th>gvhd_proph</th>\n",
       "      <th>rheum_issue</th>\n",
       "      <th>sex_match</th>\n",
       "      <th>hla_match_b_high</th>\n",
       "      <th>race_group</th>\n",
       "      <th>comorbidity_score</th>\n",
       "      <th>karnofsky_score</th>\n",
       "      <th>hepatic_mild</th>\n",
       "      <th>tce_div_match</th>\n",
       "      <th>donor_related</th>\n",
       "      <th>melphalan_dose</th>\n",
       "      <th>hla_low_res_8</th>\n",
       "      <th>cardiac</th>\n",
       "      <th>hla_match_drb1_high</th>\n",
       "      <th>pulm_moderate</th>\n",
       "      <th>hla_low_res_10</th>\n",
       "      <th>efs</th>\n",
       "      <th>efs_time</th>\n",
       "    </tr>\n",
       "  </thead>\n",
       "  <tbody>\n",
       "    <tr>\n",
       "      <th>0</th>\n",
       "      <td>0</td>\n",
       "      <td>N/A - non-malignant indication</td>\n",
       "      <td>No</td>\n",
       "      <td>Unknown</td>\n",
       "      <td>No</td>\n",
       "      <td>-1.0</td>\n",
       "      <td>6.0</td>\n",
       "      <td>No TBI</td>\n",
       "      <td>No</td>\n",
       "      <td>6.0</td>\n",
       "      <td>Bone marrow</td>\n",
       "      <td>No</td>\n",
       "      <td>No</td>\n",
       "      <td>No</td>\n",
       "      <td>IEA</td>\n",
       "      <td>6.0</td>\n",
       "      <td>+/+</td>\n",
       "      <td>8.0</td>\n",
       "      <td>2.0</td>\n",
       "      <td>Unknown</td>\n",
       "      <td>6.0</td>\n",
       "      <td>2.0</td>\n",
       "      <td>No</td>\n",
       "      <td>2.0</td>\n",
       "      <td>2.0</td>\n",
       "      <td>BM</td>\n",
       "      <td>Unknown</td>\n",
       "      <td>Unknown</td>\n",
       "      <td>Not Hispanic or Latino</td>\n",
       "      <td>2016.0</td>\n",
       "      <td>No</td>\n",
       "      <td>Unknown</td>\n",
       "      <td>Yes</td>\n",
       "      <td>Unknown</td>\n",
       "      <td>2.0</td>\n",
       "      <td>No</td>\n",
       "      <td>-1.000000</td>\n",
       "      <td>No</td>\n",
       "      <td>2.0</td>\n",
       "      <td>No</td>\n",
       "      <td>9.942000</td>\n",
       "      <td>2.0</td>\n",
       "      <td>FKalone</td>\n",
       "      <td>No</td>\n",
       "      <td>M-F</td>\n",
       "      <td>2.0</td>\n",
       "      <td>More than one race</td>\n",
       "      <td>0.0</td>\n",
       "      <td>90.0</td>\n",
       "      <td>No</td>\n",
       "      <td>Unknown</td>\n",
       "      <td>Unrelated</td>\n",
       "      <td>N/A, Mel not given</td>\n",
       "      <td>8.0</td>\n",
       "      <td>No</td>\n",
       "      <td>2.0</td>\n",
       "      <td>No</td>\n",
       "      <td>10.0</td>\n",
       "      <td>0.0</td>\n",
       "      <td>42.355999</td>\n",
       "    </tr>\n",
       "    <tr>\n",
       "      <th>1</th>\n",
       "      <td>1</td>\n",
       "      <td>Intermediate</td>\n",
       "      <td>No</td>\n",
       "      <td>Intermediate</td>\n",
       "      <td>No</td>\n",
       "      <td>2.0</td>\n",
       "      <td>8.0</td>\n",
       "      <td>TBI +- Other, &gt;cGy</td>\n",
       "      <td>No</td>\n",
       "      <td>6.0</td>\n",
       "      <td>Peripheral blood</td>\n",
       "      <td>No</td>\n",
       "      <td>No</td>\n",
       "      <td>No</td>\n",
       "      <td>AML</td>\n",
       "      <td>6.0</td>\n",
       "      <td>+/+</td>\n",
       "      <td>10.0</td>\n",
       "      <td>2.0</td>\n",
       "      <td>P/P</td>\n",
       "      <td>6.0</td>\n",
       "      <td>2.0</td>\n",
       "      <td>No</td>\n",
       "      <td>2.0</td>\n",
       "      <td>2.0</td>\n",
       "      <td>PB</td>\n",
       "      <td>Intermediate</td>\n",
       "      <td>MAC</td>\n",
       "      <td>Not Hispanic or Latino</td>\n",
       "      <td>2008.0</td>\n",
       "      <td>No</td>\n",
       "      <td>Positive</td>\n",
       "      <td>No</td>\n",
       "      <td>Permissive</td>\n",
       "      <td>2.0</td>\n",
       "      <td>No</td>\n",
       "      <td>72.290001</td>\n",
       "      <td>No</td>\n",
       "      <td>2.0</td>\n",
       "      <td>No</td>\n",
       "      <td>43.705002</td>\n",
       "      <td>2.0</td>\n",
       "      <td>Other GVHD Prophylaxis</td>\n",
       "      <td>No</td>\n",
       "      <td>F-F</td>\n",
       "      <td>2.0</td>\n",
       "      <td>Asian</td>\n",
       "      <td>3.0</td>\n",
       "      <td>90.0</td>\n",
       "      <td>No</td>\n",
       "      <td>Permissive mismatched</td>\n",
       "      <td>Related</td>\n",
       "      <td>N/A, Mel not given</td>\n",
       "      <td>8.0</td>\n",
       "      <td>No</td>\n",
       "      <td>2.0</td>\n",
       "      <td>Yes</td>\n",
       "      <td>10.0</td>\n",
       "      <td>1.0</td>\n",
       "      <td>4.672000</td>\n",
       "    </tr>\n",
       "    <tr>\n",
       "      <th>2</th>\n",
       "      <td>2</td>\n",
       "      <td>N/A - non-malignant indication</td>\n",
       "      <td>No</td>\n",
       "      <td>Unknown</td>\n",
       "      <td>No</td>\n",
       "      <td>2.0</td>\n",
       "      <td>8.0</td>\n",
       "      <td>No TBI</td>\n",
       "      <td>No</td>\n",
       "      <td>6.0</td>\n",
       "      <td>Bone marrow</td>\n",
       "      <td>No</td>\n",
       "      <td>No</td>\n",
       "      <td>No</td>\n",
       "      <td>HIS</td>\n",
       "      <td>6.0</td>\n",
       "      <td>+/+</td>\n",
       "      <td>10.0</td>\n",
       "      <td>2.0</td>\n",
       "      <td>P/P</td>\n",
       "      <td>6.0</td>\n",
       "      <td>2.0</td>\n",
       "      <td>No</td>\n",
       "      <td>2.0</td>\n",
       "      <td>2.0</td>\n",
       "      <td>BM</td>\n",
       "      <td>Unknown</td>\n",
       "      <td>Unknown</td>\n",
       "      <td>Not Hispanic or Latino</td>\n",
       "      <td>2019.0</td>\n",
       "      <td>No</td>\n",
       "      <td>Unknown</td>\n",
       "      <td>Yes</td>\n",
       "      <td>Unknown</td>\n",
       "      <td>2.0</td>\n",
       "      <td>No</td>\n",
       "      <td>-1.000000</td>\n",
       "      <td>No</td>\n",
       "      <td>2.0</td>\n",
       "      <td>No</td>\n",
       "      <td>33.997002</td>\n",
       "      <td>2.0</td>\n",
       "      <td>Cyclophosphamide alone</td>\n",
       "      <td>No</td>\n",
       "      <td>F-M</td>\n",
       "      <td>2.0</td>\n",
       "      <td>More than one race</td>\n",
       "      <td>0.0</td>\n",
       "      <td>90.0</td>\n",
       "      <td>No</td>\n",
       "      <td>Permissive mismatched</td>\n",
       "      <td>Related</td>\n",
       "      <td>N/A, Mel not given</td>\n",
       "      <td>8.0</td>\n",
       "      <td>No</td>\n",
       "      <td>2.0</td>\n",
       "      <td>No</td>\n",
       "      <td>10.0</td>\n",
       "      <td>0.0</td>\n",
       "      <td>19.792999</td>\n",
       "    </tr>\n",
       "    <tr>\n",
       "      <th>3</th>\n",
       "      <td>3</td>\n",
       "      <td>High</td>\n",
       "      <td>No</td>\n",
       "      <td>Intermediate</td>\n",
       "      <td>No</td>\n",
       "      <td>2.0</td>\n",
       "      <td>8.0</td>\n",
       "      <td>No TBI</td>\n",
       "      <td>No</td>\n",
       "      <td>6.0</td>\n",
       "      <td>Bone marrow</td>\n",
       "      <td>No</td>\n",
       "      <td>No</td>\n",
       "      <td>No</td>\n",
       "      <td>ALL</td>\n",
       "      <td>6.0</td>\n",
       "      <td>+/+</td>\n",
       "      <td>10.0</td>\n",
       "      <td>2.0</td>\n",
       "      <td>P/P</td>\n",
       "      <td>6.0</td>\n",
       "      <td>2.0</td>\n",
       "      <td>No</td>\n",
       "      <td>2.0</td>\n",
       "      <td>2.0</td>\n",
       "      <td>BM</td>\n",
       "      <td>Intermediate</td>\n",
       "      <td>MAC</td>\n",
       "      <td>Not Hispanic or Latino</td>\n",
       "      <td>2009.0</td>\n",
       "      <td>No</td>\n",
       "      <td>Positive</td>\n",
       "      <td>No</td>\n",
       "      <td>Permissive</td>\n",
       "      <td>2.0</td>\n",
       "      <td>No</td>\n",
       "      <td>29.230000</td>\n",
       "      <td>No</td>\n",
       "      <td>2.0</td>\n",
       "      <td>No</td>\n",
       "      <td>43.244999</td>\n",
       "      <td>2.0</td>\n",
       "      <td>FK+ MMF +- others</td>\n",
       "      <td>No</td>\n",
       "      <td>M-M</td>\n",
       "      <td>2.0</td>\n",
       "      <td>White</td>\n",
       "      <td>0.0</td>\n",
       "      <td>90.0</td>\n",
       "      <td>Yes</td>\n",
       "      <td>Permissive mismatched</td>\n",
       "      <td>Unrelated</td>\n",
       "      <td>N/A, Mel not given</td>\n",
       "      <td>8.0</td>\n",
       "      <td>No</td>\n",
       "      <td>2.0</td>\n",
       "      <td>No</td>\n",
       "      <td>10.0</td>\n",
       "      <td>0.0</td>\n",
       "      <td>102.348999</td>\n",
       "    </tr>\n",
       "    <tr>\n",
       "      <th>4</th>\n",
       "      <td>4</td>\n",
       "      <td>High</td>\n",
       "      <td>No</td>\n",
       "      <td>Unknown</td>\n",
       "      <td>No</td>\n",
       "      <td>2.0</td>\n",
       "      <td>8.0</td>\n",
       "      <td>No TBI</td>\n",
       "      <td>No</td>\n",
       "      <td>6.0</td>\n",
       "      <td>Peripheral blood</td>\n",
       "      <td>No</td>\n",
       "      <td>No</td>\n",
       "      <td>No</td>\n",
       "      <td>MPN</td>\n",
       "      <td>6.0</td>\n",
       "      <td>+/+</td>\n",
       "      <td>10.0</td>\n",
       "      <td>2.0</td>\n",
       "      <td>Unknown</td>\n",
       "      <td>6.0</td>\n",
       "      <td>2.0</td>\n",
       "      <td>No</td>\n",
       "      <td>2.0</td>\n",
       "      <td>2.0</td>\n",
       "      <td>PB</td>\n",
       "      <td>Unknown</td>\n",
       "      <td>MAC</td>\n",
       "      <td>Hispanic or Latino</td>\n",
       "      <td>2018.0</td>\n",
       "      <td>No</td>\n",
       "      <td>Unknown</td>\n",
       "      <td>Yes</td>\n",
       "      <td>Unknown</td>\n",
       "      <td>2.0</td>\n",
       "      <td>No</td>\n",
       "      <td>56.810001</td>\n",
       "      <td>No</td>\n",
       "      <td>2.0</td>\n",
       "      <td>No</td>\n",
       "      <td>29.740000</td>\n",
       "      <td>2.0</td>\n",
       "      <td>TDEPLETION +- other</td>\n",
       "      <td>No</td>\n",
       "      <td>M-F</td>\n",
       "      <td>2.0</td>\n",
       "      <td>American Indian or Alaska Native</td>\n",
       "      <td>1.0</td>\n",
       "      <td>90.0</td>\n",
       "      <td>No</td>\n",
       "      <td>Permissive mismatched</td>\n",
       "      <td>Related</td>\n",
       "      <td>MEL</td>\n",
       "      <td>8.0</td>\n",
       "      <td>No</td>\n",
       "      <td>2.0</td>\n",
       "      <td>No</td>\n",
       "      <td>10.0</td>\n",
       "      <td>0.0</td>\n",
       "      <td>16.223000</td>\n",
       "    </tr>\n",
       "  </tbody>\n",
       "</table>\n",
       "</div>"
      ],
      "text/plain": [
       "   ID                       dri_score psych_disturb    cyto_score diabetes  \\\n",
       "0   0  N/A - non-malignant indication            No       Unknown       No   \n",
       "1   1                    Intermediate            No  Intermediate       No   \n",
       "2   2  N/A - non-malignant indication            No       Unknown       No   \n",
       "3   3                            High            No  Intermediate       No   \n",
       "4   4                            High            No       Unknown       No   \n",
       "\n",
       "   hla_match_c_high  hla_high_res_8          tbi_status arrhythmia  \\\n",
       "0              -1.0             6.0              No TBI         No   \n",
       "1               2.0             8.0  TBI +- Other, >cGy         No   \n",
       "2               2.0             8.0              No TBI         No   \n",
       "3               2.0             8.0              No TBI         No   \n",
       "4               2.0             8.0              No TBI         No   \n",
       "\n",
       "   hla_low_res_6        graft_type vent_hist renal_issue pulm_severe  \\\n",
       "0            6.0       Bone marrow        No          No          No   \n",
       "1            6.0  Peripheral blood        No          No          No   \n",
       "2            6.0       Bone marrow        No          No          No   \n",
       "3            6.0       Bone marrow        No          No          No   \n",
       "4            6.0  Peripheral blood        No          No          No   \n",
       "\n",
       "  prim_disease_hct  hla_high_res_6 cmv_status  hla_high_res_10  \\\n",
       "0              IEA             6.0        +/+              8.0   \n",
       "1              AML             6.0        +/+             10.0   \n",
       "2              HIS             6.0        +/+             10.0   \n",
       "3              ALL             6.0        +/+             10.0   \n",
       "4              MPN             6.0        +/+             10.0   \n",
       "\n",
       "   hla_match_dqb1_high tce_imm_match  hla_nmdp_6  hla_match_c_low rituximab  \\\n",
       "0                  2.0       Unknown         6.0              2.0        No   \n",
       "1                  2.0           P/P         6.0              2.0        No   \n",
       "2                  2.0           P/P         6.0              2.0        No   \n",
       "3                  2.0           P/P         6.0              2.0        No   \n",
       "4                  2.0       Unknown         6.0              2.0        No   \n",
       "\n",
       "   hla_match_drb1_low  hla_match_dqb1_low prod_type cyto_score_detail  \\\n",
       "0                 2.0                 2.0        BM           Unknown   \n",
       "1                 2.0                 2.0        PB      Intermediate   \n",
       "2                 2.0                 2.0        BM           Unknown   \n",
       "3                 2.0                 2.0        BM      Intermediate   \n",
       "4                 2.0                 2.0        PB           Unknown   \n",
       "\n",
       "  conditioning_intensity               ethnicity  year_hct obesity   mrd_hct  \\\n",
       "0                Unknown  Not Hispanic or Latino    2016.0      No   Unknown   \n",
       "1                    MAC  Not Hispanic or Latino    2008.0      No  Positive   \n",
       "2                Unknown  Not Hispanic or Latino    2019.0      No   Unknown   \n",
       "3                    MAC  Not Hispanic or Latino    2009.0      No  Positive   \n",
       "4                    MAC      Hispanic or Latino    2018.0      No   Unknown   \n",
       "\n",
       "  in_vivo_tcd   tce_match  hla_match_a_high hepatic_severe  donor_age  \\\n",
       "0         Yes     Unknown               2.0             No  -1.000000   \n",
       "1          No  Permissive               2.0             No  72.290001   \n",
       "2         Yes     Unknown               2.0             No  -1.000000   \n",
       "3          No  Permissive               2.0             No  29.230000   \n",
       "4         Yes     Unknown               2.0             No  56.810001   \n",
       "\n",
       "  prior_tumor  hla_match_b_low peptic_ulcer  age_at_hct  hla_match_a_low  \\\n",
       "0          No              2.0           No    9.942000              2.0   \n",
       "1          No              2.0           No   43.705002              2.0   \n",
       "2          No              2.0           No   33.997002              2.0   \n",
       "3          No              2.0           No   43.244999              2.0   \n",
       "4          No              2.0           No   29.740000              2.0   \n",
       "\n",
       "               gvhd_proph rheum_issue sex_match  hla_match_b_high  \\\n",
       "0                 FKalone          No       M-F               2.0   \n",
       "1  Other GVHD Prophylaxis          No       F-F               2.0   \n",
       "2  Cyclophosphamide alone          No       F-M               2.0   \n",
       "3       FK+ MMF +- others          No       M-M               2.0   \n",
       "4     TDEPLETION +- other          No       M-F               2.0   \n",
       "\n",
       "                         race_group  comorbidity_score  karnofsky_score  \\\n",
       "0                More than one race                0.0             90.0   \n",
       "1                             Asian                3.0             90.0   \n",
       "2                More than one race                0.0             90.0   \n",
       "3                             White                0.0             90.0   \n",
       "4  American Indian or Alaska Native                1.0             90.0   \n",
       "\n",
       "  hepatic_mild          tce_div_match donor_related      melphalan_dose  \\\n",
       "0           No                Unknown     Unrelated  N/A, Mel not given   \n",
       "1           No  Permissive mismatched       Related  N/A, Mel not given   \n",
       "2           No  Permissive mismatched       Related  N/A, Mel not given   \n",
       "3          Yes  Permissive mismatched     Unrelated  N/A, Mel not given   \n",
       "4           No  Permissive mismatched       Related                 MEL   \n",
       "\n",
       "   hla_low_res_8 cardiac  hla_match_drb1_high pulm_moderate  hla_low_res_10  \\\n",
       "0            8.0      No                  2.0            No            10.0   \n",
       "1            8.0      No                  2.0           Yes            10.0   \n",
       "2            8.0      No                  2.0            No            10.0   \n",
       "3            8.0      No                  2.0            No            10.0   \n",
       "4            8.0      No                  2.0            No            10.0   \n",
       "\n",
       "   efs    efs_time  \n",
       "0  0.0   42.355999  \n",
       "1  1.0    4.672000  \n",
       "2  0.0   19.792999  \n",
       "3  0.0  102.348999  \n",
       "4  0.0   16.223000  "
      ]
     },
     "metadata": {},
     "output_type": "display_data"
    }
   ],
   "source": [
    "train_data, cat_cols = fe.apply_fe(CFG.train_path)"
   ]
  },
  {
   "cell_type": "code",
   "execution_count": 13,
   "id": "cd314736",
   "metadata": {
    "execution": {
     "iopub.execute_input": "2025-01-11T07:18:26.048221Z",
     "iopub.status.busy": "2025-01-11T07:18:26.047957Z",
     "iopub.status.idle": "2025-01-11T07:18:26.096817Z",
     "shell.execute_reply": "2025-01-11T07:18:26.096051Z"
    },
    "papermill": {
     "duration": 0.060514,
     "end_time": "2025-01-11T07:18:26.098583",
     "exception": false,
     "start_time": "2025-01-11T07:18:26.038069",
     "status": "completed"
    },
    "tags": []
   },
   "outputs": [
    {
     "name": "stdout",
     "output_type": "stream",
     "text": [
      "\n",
      "Shape of dataframe: (3, 58)\n",
      "Memory usage: 0.00 MB\n",
      "\n"
     ]
    },
    {
     "data": {
      "text/html": [
       "<div>\n",
       "<style scoped>\n",
       "    .dataframe tbody tr th:only-of-type {\n",
       "        vertical-align: middle;\n",
       "    }\n",
       "\n",
       "    .dataframe tbody tr th {\n",
       "        vertical-align: top;\n",
       "    }\n",
       "\n",
       "    .dataframe thead th {\n",
       "        text-align: right;\n",
       "    }\n",
       "</style>\n",
       "<table border=\"1\" class=\"dataframe\">\n",
       "  <thead>\n",
       "    <tr style=\"text-align: right;\">\n",
       "      <th></th>\n",
       "      <th>ID</th>\n",
       "      <th>dri_score</th>\n",
       "      <th>psych_disturb</th>\n",
       "      <th>cyto_score</th>\n",
       "      <th>diabetes</th>\n",
       "      <th>hla_match_c_high</th>\n",
       "      <th>hla_high_res_8</th>\n",
       "      <th>tbi_status</th>\n",
       "      <th>arrhythmia</th>\n",
       "      <th>hla_low_res_6</th>\n",
       "      <th>graft_type</th>\n",
       "      <th>vent_hist</th>\n",
       "      <th>renal_issue</th>\n",
       "      <th>pulm_severe</th>\n",
       "      <th>prim_disease_hct</th>\n",
       "      <th>hla_high_res_6</th>\n",
       "      <th>cmv_status</th>\n",
       "      <th>hla_high_res_10</th>\n",
       "      <th>hla_match_dqb1_high</th>\n",
       "      <th>tce_imm_match</th>\n",
       "      <th>hla_nmdp_6</th>\n",
       "      <th>hla_match_c_low</th>\n",
       "      <th>rituximab</th>\n",
       "      <th>hla_match_drb1_low</th>\n",
       "      <th>hla_match_dqb1_low</th>\n",
       "      <th>prod_type</th>\n",
       "      <th>cyto_score_detail</th>\n",
       "      <th>conditioning_intensity</th>\n",
       "      <th>ethnicity</th>\n",
       "      <th>year_hct</th>\n",
       "      <th>obesity</th>\n",
       "      <th>mrd_hct</th>\n",
       "      <th>in_vivo_tcd</th>\n",
       "      <th>tce_match</th>\n",
       "      <th>hla_match_a_high</th>\n",
       "      <th>hepatic_severe</th>\n",
       "      <th>donor_age</th>\n",
       "      <th>prior_tumor</th>\n",
       "      <th>hla_match_b_low</th>\n",
       "      <th>peptic_ulcer</th>\n",
       "      <th>age_at_hct</th>\n",
       "      <th>hla_match_a_low</th>\n",
       "      <th>gvhd_proph</th>\n",
       "      <th>rheum_issue</th>\n",
       "      <th>sex_match</th>\n",
       "      <th>hla_match_b_high</th>\n",
       "      <th>race_group</th>\n",
       "      <th>comorbidity_score</th>\n",
       "      <th>karnofsky_score</th>\n",
       "      <th>hepatic_mild</th>\n",
       "      <th>tce_div_match</th>\n",
       "      <th>donor_related</th>\n",
       "      <th>melphalan_dose</th>\n",
       "      <th>hla_low_res_8</th>\n",
       "      <th>cardiac</th>\n",
       "      <th>hla_match_drb1_high</th>\n",
       "      <th>pulm_moderate</th>\n",
       "      <th>hla_low_res_10</th>\n",
       "    </tr>\n",
       "  </thead>\n",
       "  <tbody>\n",
       "    <tr>\n",
       "      <th>0</th>\n",
       "      <td>28800</td>\n",
       "      <td>N/A - non-malignant indication</td>\n",
       "      <td>No</td>\n",
       "      <td>Unknown</td>\n",
       "      <td>No</td>\n",
       "      <td>-1.0</td>\n",
       "      <td>6.0</td>\n",
       "      <td>No TBI</td>\n",
       "      <td>No</td>\n",
       "      <td>6.0</td>\n",
       "      <td>Bone marrow</td>\n",
       "      <td>No</td>\n",
       "      <td>No</td>\n",
       "      <td>No</td>\n",
       "      <td>IEA</td>\n",
       "      <td>6.0</td>\n",
       "      <td>+/+</td>\n",
       "      <td>8.0</td>\n",
       "      <td>2.0</td>\n",
       "      <td>Unknown</td>\n",
       "      <td>6.0</td>\n",
       "      <td>2.0</td>\n",
       "      <td>No</td>\n",
       "      <td>2.0</td>\n",
       "      <td>2.0</td>\n",
       "      <td>BM</td>\n",
       "      <td>Unknown</td>\n",
       "      <td>Unknown</td>\n",
       "      <td>Not Hispanic or Latino</td>\n",
       "      <td>2016.0</td>\n",
       "      <td>No</td>\n",
       "      <td>Unknown</td>\n",
       "      <td>Yes</td>\n",
       "      <td>Unknown</td>\n",
       "      <td>2.0</td>\n",
       "      <td>No</td>\n",
       "      <td>-1.000000</td>\n",
       "      <td>No</td>\n",
       "      <td>2.0</td>\n",
       "      <td>No</td>\n",
       "      <td>9.942000</td>\n",
       "      <td>2.0</td>\n",
       "      <td>FKalone</td>\n",
       "      <td>No</td>\n",
       "      <td>M-F</td>\n",
       "      <td>2.0</td>\n",
       "      <td>More than one race</td>\n",
       "      <td>0.0</td>\n",
       "      <td>90.0</td>\n",
       "      <td>No</td>\n",
       "      <td>Unknown</td>\n",
       "      <td>Unrelated</td>\n",
       "      <td>N/A, Mel not given</td>\n",
       "      <td>8.0</td>\n",
       "      <td>No</td>\n",
       "      <td>2.0</td>\n",
       "      <td>No</td>\n",
       "      <td>10.0</td>\n",
       "    </tr>\n",
       "    <tr>\n",
       "      <th>1</th>\n",
       "      <td>28801</td>\n",
       "      <td>Intermediate</td>\n",
       "      <td>No</td>\n",
       "      <td>Intermediate</td>\n",
       "      <td>No</td>\n",
       "      <td>2.0</td>\n",
       "      <td>8.0</td>\n",
       "      <td>TBI +- Other, &gt;cGy</td>\n",
       "      <td>No</td>\n",
       "      <td>6.0</td>\n",
       "      <td>Peripheral blood</td>\n",
       "      <td>No</td>\n",
       "      <td>No</td>\n",
       "      <td>No</td>\n",
       "      <td>AML</td>\n",
       "      <td>6.0</td>\n",
       "      <td>+/+</td>\n",
       "      <td>10.0</td>\n",
       "      <td>2.0</td>\n",
       "      <td>P/P</td>\n",
       "      <td>6.0</td>\n",
       "      <td>2.0</td>\n",
       "      <td>No</td>\n",
       "      <td>2.0</td>\n",
       "      <td>2.0</td>\n",
       "      <td>PB</td>\n",
       "      <td>Intermediate</td>\n",
       "      <td>MAC</td>\n",
       "      <td>Not Hispanic or Latino</td>\n",
       "      <td>2008.0</td>\n",
       "      <td>No</td>\n",
       "      <td>Positive</td>\n",
       "      <td>No</td>\n",
       "      <td>Permissive</td>\n",
       "      <td>2.0</td>\n",
       "      <td>No</td>\n",
       "      <td>72.290001</td>\n",
       "      <td>No</td>\n",
       "      <td>2.0</td>\n",
       "      <td>No</td>\n",
       "      <td>43.705002</td>\n",
       "      <td>2.0</td>\n",
       "      <td>Other GVHD Prophylaxis</td>\n",
       "      <td>No</td>\n",
       "      <td>F-F</td>\n",
       "      <td>2.0</td>\n",
       "      <td>Asian</td>\n",
       "      <td>3.0</td>\n",
       "      <td>90.0</td>\n",
       "      <td>No</td>\n",
       "      <td>Permissive mismatched</td>\n",
       "      <td>Related</td>\n",
       "      <td>N/A, Mel not given</td>\n",
       "      <td>8.0</td>\n",
       "      <td>No</td>\n",
       "      <td>2.0</td>\n",
       "      <td>Yes</td>\n",
       "      <td>10.0</td>\n",
       "    </tr>\n",
       "    <tr>\n",
       "      <th>2</th>\n",
       "      <td>28802</td>\n",
       "      <td>N/A - non-malignant indication</td>\n",
       "      <td>No</td>\n",
       "      <td>Unknown</td>\n",
       "      <td>No</td>\n",
       "      <td>2.0</td>\n",
       "      <td>8.0</td>\n",
       "      <td>No TBI</td>\n",
       "      <td>No</td>\n",
       "      <td>6.0</td>\n",
       "      <td>Bone marrow</td>\n",
       "      <td>No</td>\n",
       "      <td>No</td>\n",
       "      <td>No</td>\n",
       "      <td>HIS</td>\n",
       "      <td>6.0</td>\n",
       "      <td>+/+</td>\n",
       "      <td>10.0</td>\n",
       "      <td>2.0</td>\n",
       "      <td>P/P</td>\n",
       "      <td>6.0</td>\n",
       "      <td>2.0</td>\n",
       "      <td>No</td>\n",
       "      <td>2.0</td>\n",
       "      <td>2.0</td>\n",
       "      <td>BM</td>\n",
       "      <td>Unknown</td>\n",
       "      <td>Unknown</td>\n",
       "      <td>Not Hispanic or Latino</td>\n",
       "      <td>2019.0</td>\n",
       "      <td>No</td>\n",
       "      <td>Unknown</td>\n",
       "      <td>Yes</td>\n",
       "      <td>Unknown</td>\n",
       "      <td>2.0</td>\n",
       "      <td>No</td>\n",
       "      <td>-1.000000</td>\n",
       "      <td>No</td>\n",
       "      <td>2.0</td>\n",
       "      <td>No</td>\n",
       "      <td>33.997002</td>\n",
       "      <td>2.0</td>\n",
       "      <td>Cyclophosphamide alone</td>\n",
       "      <td>No</td>\n",
       "      <td>F-M</td>\n",
       "      <td>2.0</td>\n",
       "      <td>More than one race</td>\n",
       "      <td>0.0</td>\n",
       "      <td>90.0</td>\n",
       "      <td>No</td>\n",
       "      <td>Permissive mismatched</td>\n",
       "      <td>Related</td>\n",
       "      <td>N/A, Mel not given</td>\n",
       "      <td>8.0</td>\n",
       "      <td>No</td>\n",
       "      <td>2.0</td>\n",
       "      <td>No</td>\n",
       "      <td>10.0</td>\n",
       "    </tr>\n",
       "  </tbody>\n",
       "</table>\n",
       "</div>"
      ],
      "text/plain": [
       "      ID                       dri_score psych_disturb    cyto_score diabetes  \\\n",
       "0  28800  N/A - non-malignant indication            No       Unknown       No   \n",
       "1  28801                    Intermediate            No  Intermediate       No   \n",
       "2  28802  N/A - non-malignant indication            No       Unknown       No   \n",
       "\n",
       "   hla_match_c_high  hla_high_res_8          tbi_status arrhythmia  \\\n",
       "0              -1.0             6.0              No TBI         No   \n",
       "1               2.0             8.0  TBI +- Other, >cGy         No   \n",
       "2               2.0             8.0              No TBI         No   \n",
       "\n",
       "   hla_low_res_6        graft_type vent_hist renal_issue pulm_severe  \\\n",
       "0            6.0       Bone marrow        No          No          No   \n",
       "1            6.0  Peripheral blood        No          No          No   \n",
       "2            6.0       Bone marrow        No          No          No   \n",
       "\n",
       "  prim_disease_hct  hla_high_res_6 cmv_status  hla_high_res_10  \\\n",
       "0              IEA             6.0        +/+              8.0   \n",
       "1              AML             6.0        +/+             10.0   \n",
       "2              HIS             6.0        +/+             10.0   \n",
       "\n",
       "   hla_match_dqb1_high tce_imm_match  hla_nmdp_6  hla_match_c_low rituximab  \\\n",
       "0                  2.0       Unknown         6.0              2.0        No   \n",
       "1                  2.0           P/P         6.0              2.0        No   \n",
       "2                  2.0           P/P         6.0              2.0        No   \n",
       "\n",
       "   hla_match_drb1_low  hla_match_dqb1_low prod_type cyto_score_detail  \\\n",
       "0                 2.0                 2.0        BM           Unknown   \n",
       "1                 2.0                 2.0        PB      Intermediate   \n",
       "2                 2.0                 2.0        BM           Unknown   \n",
       "\n",
       "  conditioning_intensity               ethnicity  year_hct obesity   mrd_hct  \\\n",
       "0                Unknown  Not Hispanic or Latino    2016.0      No   Unknown   \n",
       "1                    MAC  Not Hispanic or Latino    2008.0      No  Positive   \n",
       "2                Unknown  Not Hispanic or Latino    2019.0      No   Unknown   \n",
       "\n",
       "  in_vivo_tcd   tce_match  hla_match_a_high hepatic_severe  donor_age  \\\n",
       "0         Yes     Unknown               2.0             No  -1.000000   \n",
       "1          No  Permissive               2.0             No  72.290001   \n",
       "2         Yes     Unknown               2.0             No  -1.000000   \n",
       "\n",
       "  prior_tumor  hla_match_b_low peptic_ulcer  age_at_hct  hla_match_a_low  \\\n",
       "0          No              2.0           No    9.942000              2.0   \n",
       "1          No              2.0           No   43.705002              2.0   \n",
       "2          No              2.0           No   33.997002              2.0   \n",
       "\n",
       "               gvhd_proph rheum_issue sex_match  hla_match_b_high  \\\n",
       "0                 FKalone          No       M-F               2.0   \n",
       "1  Other GVHD Prophylaxis          No       F-F               2.0   \n",
       "2  Cyclophosphamide alone          No       F-M               2.0   \n",
       "\n",
       "           race_group  comorbidity_score  karnofsky_score hepatic_mild  \\\n",
       "0  More than one race                0.0             90.0           No   \n",
       "1               Asian                3.0             90.0           No   \n",
       "2  More than one race                0.0             90.0           No   \n",
       "\n",
       "           tce_div_match donor_related      melphalan_dose  hla_low_res_8  \\\n",
       "0                Unknown     Unrelated  N/A, Mel not given            8.0   \n",
       "1  Permissive mismatched       Related  N/A, Mel not given            8.0   \n",
       "2  Permissive mismatched       Related  N/A, Mel not given            8.0   \n",
       "\n",
       "  cardiac  hla_match_drb1_high pulm_moderate  hla_low_res_10  \n",
       "0      No                  2.0            No            10.0  \n",
       "1      No                  2.0           Yes            10.0  \n",
       "2      No                  2.0            No            10.0  "
      ]
     },
     "metadata": {},
     "output_type": "display_data"
    }
   ],
   "source": [
    "test_data, _ = fe.apply_fe(CFG.test_path)"
   ]
  },
  {
   "cell_type": "markdown",
   "id": "0fd631e3",
   "metadata": {
    "papermill": {
     "duration": 0.009534,
     "end_time": "2025-01-11T07:18:26.117878",
     "exception": false,
     "start_time": "2025-01-11T07:18:26.108344",
     "status": "completed"
    },
    "tags": []
   },
   "source": [
    "<p style=\"background-color: rgb(247, 230, 202); font-size: 300%; text-align: center; border-radius: 40px 40px; color: rgb(162, 87, 79); font-weight: bold; font-family: 'Roboto'; border: 4px solid rgb(162, 87, 79);\">Model Development</p>"
   ]
  },
  {
   "cell_type": "code",
   "execution_count": 14,
   "id": "c2ae6959",
   "metadata": {
    "execution": {
     "iopub.execute_input": "2025-01-11T07:18:26.138075Z",
     "iopub.status.busy": "2025-01-11T07:18:26.137503Z",
     "iopub.status.idle": "2025-01-11T07:18:26.148104Z",
     "shell.execute_reply": "2025-01-11T07:18:26.147267Z"
    },
    "papermill": {
     "duration": 0.022541,
     "end_time": "2025-01-11T07:18:26.149727",
     "exception": false,
     "start_time": "2025-01-11T07:18:26.127186",
     "status": "completed"
    },
    "tags": []
   },
   "outputs": [],
   "source": [
    "class EDA:\n",
    "    \n",
    "    def __init__(self, color, data):\n",
    "        self._color = color  \n",
    "        self.data = data\n",
    "\n",
    "    def _template(self, fig, title):\n",
    "        \n",
    "        fig.update_layout(\n",
    "            title=title,\n",
    "            title_x=0.5, \n",
    "            plot_bgcolor='rgba(247, 230, 202, 1)',  \n",
    "            paper_bgcolor='rgba(247, 230, 202, 1)', \n",
    "            font=dict(color=self._color),\n",
    "            margin=dict(l=72, r=72, t=72, b=72), \n",
    "            height=720\n",
    "        )\n",
    "        \n",
    "        return fig\n",
    "\n",
    "    def distribution_plot(self, col, title):\n",
    "        \n",
    "        fig = px.histogram(\n",
    "            self.data,\n",
    "            x=col,\n",
    "            nbins=100,\n",
    "            color_discrete_sequence=[self._color]\n",
    "        )\n",
    "        \n",
    "        fig.update_layout(\n",
    "            xaxis_title='Values',\n",
    "            yaxis_title='Count',\n",
    "            bargap=0.1,\n",
    "            xaxis=dict(gridcolor='grey'),\n",
    "            yaxis=dict(gridcolor='grey', zerolinecolor='grey')\n",
    "        )\n",
    "        \n",
    "        fig.update_traces(hovertemplate='Value: %{x:.2f}<br>Count: %{y:,}')\n",
    "        \n",
    "        fig = self._template(fig, f'{title}')\n",
    "        fig.show()\n",
    "        \n",
    "    def _plot_cv(self, scores, title, metric='Stratified C-Index'):\n",
    "        \n",
    "        fold_scores = [round(score, 3) for score in scores]\n",
    "        mean_score = round(np.mean(scores), 3)\n",
    "\n",
    "        fig = go.Figure()\n",
    "\n",
    "        fig.add_trace(go.Scatter(\n",
    "            x = list(range(1, len(fold_scores) + 1)),\n",
    "            y = fold_scores,\n",
    "            mode = 'markers', \n",
    "            name = 'Fold Scores',\n",
    "            marker = dict(size = 27, color=self._color, symbol='diamond'),\n",
    "            text = [f'{score:.3f}' for score in fold_scores],\n",
    "            hovertemplate = 'Fold %{x}: %{text}<extra></extra>',\n",
    "            hoverlabel = dict(font=dict(size=18))  \n",
    "        ))\n",
    "\n",
    "        fig.add_trace(go.Scatter(\n",
    "            x = [1, len(fold_scores)],\n",
    "            y = [mean_score, mean_score],\n",
    "            mode = 'lines',\n",
    "            name = f'Mean: {mean_score:.3f}',\n",
    "            line = dict(dash = 'dash', color = '#B22222'),\n",
    "            hoverinfo = 'none'\n",
    "        ))\n",
    "        \n",
    "        fig.update_layout(\n",
    "            title = f'{title} | Cross-validation Mean {metric} Score: {mean_score}',\n",
    "            xaxis_title = 'Fold',\n",
    "            yaxis_title = f'{metric} Score',\n",
    "            plot_bgcolor = 'rgba(247, 230, 202, 1)',  \n",
    "            paper_bgcolor = 'rgba(247, 230, 202, 1)',\n",
    "            font = dict(color=self._color), \n",
    "            xaxis = dict(\n",
    "                gridcolor = 'grey',\n",
    "                tickmode = 'linear',\n",
    "                tick0 = 1,\n",
    "                dtick = 1,\n",
    "                range = [0.5, len(fold_scores) + 0.5],\n",
    "                zerolinecolor = 'grey'\n",
    "            ),\n",
    "            yaxis = dict(\n",
    "                gridcolor = 'grey',\n",
    "                zerolinecolor = 'grey'\n",
    "            )\n",
    "        )\n",
    "        \n",
    "        fig.show()"
   ]
  },
  {
   "cell_type": "code",
   "execution_count": 15,
   "id": "1a8f4e0b",
   "metadata": {
    "execution": {
     "iopub.execute_input": "2025-01-11T07:18:26.169815Z",
     "iopub.status.busy": "2025-01-11T07:18:26.169557Z",
     "iopub.status.idle": "2025-01-11T07:18:26.181647Z",
     "shell.execute_reply": "2025-01-11T07:18:26.180852Z"
    },
    "papermill": {
     "duration": 0.024034,
     "end_time": "2025-01-11T07:18:26.183168",
     "exception": false,
     "start_time": "2025-01-11T07:18:26.159134",
     "status": "completed"
    },
    "tags": []
   },
   "outputs": [],
   "source": [
    "class Targets:\n",
    "\n",
    "    def __init__(self, data, cat_cols, penalizer, n_splits):\n",
    "        \n",
    "        self.data = data\n",
    "        self.cat_cols = cat_cols\n",
    "        \n",
    "        self._length = len(self.data)\n",
    "        self._penalizer = penalizer\n",
    "        self._n_splits = n_splits\n",
    "\n",
    "    def _prepare_cv(self):\n",
    "        \n",
    "        oof_preds = np.zeros(self._length)\n",
    "            \n",
    "        cv = KFold(n_splits=self._n_splits, shuffle=True, random_state=42)\n",
    "\n",
    "        return cv, oof_preds\n",
    "\n",
    "    def validate_model(self, preds, title):\n",
    "            \n",
    "        y_true = self.data[['ID', 'efs', 'efs_time', 'race_group']].copy()\n",
    "        y_pred = self.data[['ID']].copy()\n",
    "        \n",
    "        y_pred['prediction'] = preds\n",
    "            \n",
    "        c_index_score = score(y_true.copy(), y_pred.copy(), 'ID')\n",
    "        print(f'Overall Stratified C-Index Score for {title}: {c_index_score:.4f}')\n",
    "\n",
    "    def create_target1(self):  \n",
    "\n",
    "        '''\n",
    "        Inside the CV loop, constant columns are dropped if they exist in a fold. Otherwise, the code produces error:\n",
    "\n",
    "        delta contains nan value(s). Convergence halted. Please see the following tips in the lifelines documentation: \n",
    "        https://lifelines.readthedocs.io/en/latest/Examples.html#problems-with-convergence-in-the-cox-proportional-hazard-model\n",
    "        '''\n",
    "\n",
    "        cv, oof_preds = self._prepare_cv()\n",
    "\n",
    "        # Apply one hot encoding to categorical columns\n",
    "        data = pd.get_dummies(self.data, columns=self.cat_cols, drop_first=True).drop('ID', axis=1) \n",
    "\n",
    "        for train_index, valid_index in cv.split(data):\n",
    "\n",
    "            train_data = data.iloc[train_index]\n",
    "            valid_data = data.iloc[valid_index]\n",
    "\n",
    "            # Drop constant columns if they exist\n",
    "            train_data = train_data.loc[:, train_data.nunique() > 1]\n",
    "            valid_data = valid_data[train_data.columns]\n",
    "\n",
    "            cph = CoxPHFitter(penalizer=self._penalizer)\n",
    "            cph.fit(train_data, duration_col='efs_time', event_col='efs')\n",
    "            \n",
    "            oof_preds[valid_index] = cph.predict_partial_hazard(valid_data)              \n",
    "\n",
    "        self.data['target1'] = oof_preds \n",
    "        self.validate_model(oof_preds, 'Cox') \n",
    "\n",
    "        return self.data\n",
    "\n",
    "    def create_target2(self):        \n",
    "\n",
    "        cv, oof_preds = self._prepare_cv()\n",
    "\n",
    "        for train_index, valid_index in cv.split(self.data):\n",
    "\n",
    "            train_data = self.data.iloc[train_index]\n",
    "            valid_data = self.data.iloc[valid_index]\n",
    "\n",
    "            kmf = KaplanMeierFitter()\n",
    "            kmf.fit(durations=train_data['efs_time'], event_observed=train_data['efs'])\n",
    "            \n",
    "            oof_preds[valid_index] = kmf.survival_function_at_times(valid_data['efs_time']).values\n",
    "\n",
    "        self.data['target2'] = oof_preds  \n",
    "        self.validate_model(oof_preds, 'Kaplan-Meier')\n",
    "\n",
    "        return self.data\n",
    "\n",
    "    def create_target3(self):        \n",
    "\n",
    "        cv, oof_preds = self._prepare_cv()\n",
    "\n",
    "        for train_index, valid_index in cv.split(self.data):\n",
    "\n",
    "            train_data = self.data.iloc[train_index]\n",
    "            valid_data = self.data.iloc[valid_index]\n",
    "            \n",
    "            naf = NelsonAalenFitter()\n",
    "            naf.fit(durations=train_data['efs_time'], event_observed=train_data['efs'])\n",
    "            \n",
    "            oof_preds[valid_index] = -naf.cumulative_hazard_at_times(valid_data['efs_time']).values\n",
    "\n",
    "        self.data['target3'] = oof_preds  \n",
    "        self.validate_model(oof_preds, 'Nelson-Aalen')\n",
    "\n",
    "        return self.data\n",
    "\n",
    "    def create_target4(self):\n",
    "\n",
    "        self.data['target4'] = self.data.efs_time.copy()\n",
    "        self.data.loc[self.data.efs == 0, 'target4'] *= -1\n",
    "\n",
    "        return self.data"
   ]
  },
  {
   "cell_type": "code",
   "execution_count": 16,
   "id": "8a9889f5",
   "metadata": {
    "_kg_hide-input": false,
    "execution": {
     "iopub.execute_input": "2025-01-11T07:18:26.203121Z",
     "iopub.status.busy": "2025-01-11T07:18:26.202874Z",
     "iopub.status.idle": "2025-01-11T07:18:26.213519Z",
     "shell.execute_reply": "2025-01-11T07:18:26.212716Z"
    },
    "papermill": {
     "duration": 0.022482,
     "end_time": "2025-01-11T07:18:26.215027",
     "exception": false,
     "start_time": "2025-01-11T07:18:26.192545",
     "status": "completed"
    },
    "tags": []
   },
   "outputs": [],
   "source": [
    "class MD:\n",
    "    \n",
    "    def __init__(self, color, data, cat_cols, early_stop, penalizer, n_splits):\n",
    "        \n",
    "        self.eda = EDA(color, data)\n",
    "        self.targets = Targets(data, cat_cols, penalizer, n_splits)\n",
    "        \n",
    "        self.data = data\n",
    "        self.cat_cols = cat_cols\n",
    "        self._early_stop = early_stop\n",
    "\n",
    "    def create_targets(self):\n",
    "\n",
    "        self.data = self.targets.create_target1()\n",
    "        self.data = self.targets.create_target2()\n",
    "        self.data = self.targets.create_target3()\n",
    "        self.data = self.targets.create_target4()\n",
    "\n",
    "        return self.data\n",
    "        \n",
    "    def train_model(self, params, target, title):\n",
    "        \n",
    "        for col in self.cat_cols:\n",
    "            self.data[col] = self.data[col].astype('category')\n",
    "            \n",
    "        X = self.data.drop(['ID', 'efs', 'efs_time', 'target1', 'target2', 'target3', 'target4'], axis=1)\n",
    "        y = self.data[target]\n",
    "        \n",
    "        models, fold_scores = [], []\n",
    "            \n",
    "        cv, oof_preds = self.targets._prepare_cv()\n",
    "    \n",
    "        for fold, (train_index, valid_index) in enumerate(cv.split(X, y)):\n",
    "                \n",
    "            X_train = X.iloc[train_index]\n",
    "            X_valid = X.iloc[valid_index]\n",
    "                \n",
    "            y_train = y.iloc[train_index]\n",
    "            y_valid = y.iloc[valid_index]\n",
    "    \n",
    "            if title.startswith('LightGBM'):\n",
    "                        \n",
    "                model = lgb.LGBMRegressor(**params)\n",
    "                        \n",
    "                model.fit(\n",
    "                    X_train, \n",
    "                    y_train,  \n",
    "                    eval_set=[(X_valid, y_valid)],\n",
    "                    eval_metric='rmse',\n",
    "                    callbacks=[lgb.early_stopping(self._early_stop, verbose=0), lgb.log_evaluation(0)]\n",
    "                )\n",
    "                        \n",
    "            elif title.startswith('CatBoost'):\n",
    "                        \n",
    "                model = CatBoostRegressor(**params, verbose=0, cat_features=self.cat_cols)\n",
    "                        \n",
    "                model.fit(\n",
    "                    X_train,\n",
    "                    y_train,\n",
    "                    eval_set=(X_valid, y_valid),\n",
    "                    early_stopping_rounds=self._early_stop, \n",
    "                    verbose=0\n",
    "                )               \n",
    "                    \n",
    "            models.append(model)\n",
    "                \n",
    "            oof_preds[valid_index] = model.predict(X_valid)\n",
    "\n",
    "            y_true_fold = self.data.iloc[valid_index][['ID', 'efs', 'efs_time', 'race_group']].copy()\n",
    "            y_pred_fold = self.data.iloc[valid_index][['ID']].copy()\n",
    "            \n",
    "            y_pred_fold['prediction'] = oof_preds[valid_index]\n",
    "    \n",
    "            fold_score = score(y_true_fold, y_pred_fold, 'ID')\n",
    "            fold_scores.append(fold_score)\n",
    "    \n",
    "        self.eda._plot_cv(fold_scores, title)\n",
    "        self.targets.validate_model(oof_preds, title)\n",
    "        \n",
    "        return models, oof_preds\n",
    "\n",
    "    def infer_model(self, data, models):\n",
    "        \n",
    "        data = data.drop(['ID'], axis=1)\n",
    "\n",
    "        for col in self.cat_cols:\n",
    "            data[col] = data[col].astype('category')\n",
    "\n",
    "        return np.mean([model.predict(data) for model in models], axis=0)"
   ]
  },
  {
   "cell_type": "code",
   "execution_count": 17,
   "id": "c80a3eec",
   "metadata": {
    "_kg_hide-input": false,
    "execution": {
     "iopub.execute_input": "2025-01-11T07:18:26.235821Z",
     "iopub.status.busy": "2025-01-11T07:18:26.235568Z",
     "iopub.status.idle": "2025-01-11T07:18:26.239171Z",
     "shell.execute_reply": "2025-01-11T07:18:26.238416Z"
    },
    "papermill": {
     "duration": 0.015263,
     "end_time": "2025-01-11T07:18:26.240700",
     "exception": false,
     "start_time": "2025-01-11T07:18:26.225437",
     "status": "completed"
    },
    "tags": []
   },
   "outputs": [],
   "source": [
    "md = MD(CFG.color, train_data, cat_cols, CFG.early_stop, CFG.penalizer, CFG.n_splits)"
   ]
  },
  {
   "cell_type": "code",
   "execution_count": 18,
   "id": "70831159",
   "metadata": {
    "execution": {
     "iopub.execute_input": "2025-01-11T07:18:26.260708Z",
     "iopub.status.busy": "2025-01-11T07:18:26.260460Z",
     "iopub.status.idle": "2025-01-11T07:20:35.083170Z",
     "shell.execute_reply": "2025-01-11T07:20:35.082176Z"
    },
    "papermill": {
     "duration": 128.834748,
     "end_time": "2025-01-11T07:20:35.085056",
     "exception": false,
     "start_time": "2025-01-11T07:18:26.250308",
     "status": "completed"
    },
    "tags": []
   },
   "outputs": [
    {
     "name": "stdout",
     "output_type": "stream",
     "text": [
      "Overall Stratified C-Index Score for Cox: 0.6564\n",
      "Overall Stratified C-Index Score for Kaplan-Meier: 0.9983\n",
      "Overall Stratified C-Index Score for Nelson-Aalen: 0.9983\n"
     ]
    }
   ],
   "source": [
    "train_data = md.create_targets()"
   ]
  },
  {
   "cell_type": "code",
   "execution_count": 19,
   "id": "e9586794",
   "metadata": {
    "execution": {
     "iopub.execute_input": "2025-01-11T07:20:35.106873Z",
     "iopub.status.busy": "2025-01-11T07:20:35.106055Z",
     "iopub.status.idle": "2025-01-11T07:20:36.358823Z",
     "shell.execute_reply": "2025-01-11T07:20:36.357991Z"
    },
    "papermill": {
     "duration": 1.265457,
     "end_time": "2025-01-11T07:20:36.360632",
     "exception": false,
     "start_time": "2025-01-11T07:20:35.095175",
     "status": "completed"
    },
    "tags": []
   },
   "outputs": [
    {
     "data": {
      "text/html": [
       "<iframe\n",
       "    scrolling=\"no\"\n",
       "    width=\"100%\"\n",
       "    height=\"740\"\n",
       "    src=\"iframe_figures/figure_19.html\"\n",
       "    frameborder=\"0\"\n",
       "    allowfullscreen\n",
       "></iframe>\n"
      ]
     },
     "metadata": {},
     "output_type": "display_data"
    }
   ],
   "source": [
    "md.eda.distribution_plot('target1', 'Cox Target')"
   ]
  },
  {
   "cell_type": "code",
   "execution_count": 20,
   "id": "3bc37ccd",
   "metadata": {
    "execution": {
     "iopub.execute_input": "2025-01-11T07:20:36.381891Z",
     "iopub.status.busy": "2025-01-11T07:20:36.381610Z",
     "iopub.status.idle": "2025-01-11T07:20:36.444789Z",
     "shell.execute_reply": "2025-01-11T07:20:36.444019Z"
    },
    "papermill": {
     "duration": 0.075623,
     "end_time": "2025-01-11T07:20:36.446449",
     "exception": false,
     "start_time": "2025-01-11T07:20:36.370826",
     "status": "completed"
    },
    "tags": []
   },
   "outputs": [
    {
     "data": {
      "text/html": [
       "<iframe\n",
       "    scrolling=\"no\"\n",
       "    width=\"100%\"\n",
       "    height=\"740\"\n",
       "    src=\"iframe_figures/figure_20.html\"\n",
       "    frameborder=\"0\"\n",
       "    allowfullscreen\n",
       "></iframe>\n"
      ]
     },
     "metadata": {},
     "output_type": "display_data"
    }
   ],
   "source": [
    "md.eda.distribution_plot('target2', 'Kaplan-Meier Target')"
   ]
  },
  {
   "cell_type": "code",
   "execution_count": 21,
   "id": "1620b1bf",
   "metadata": {
    "execution": {
     "iopub.execute_input": "2025-01-11T07:20:36.468120Z",
     "iopub.status.busy": "2025-01-11T07:20:36.467861Z",
     "iopub.status.idle": "2025-01-11T07:20:36.529819Z",
     "shell.execute_reply": "2025-01-11T07:20:36.528990Z"
    },
    "papermill": {
     "duration": 0.074979,
     "end_time": "2025-01-11T07:20:36.531516",
     "exception": false,
     "start_time": "2025-01-11T07:20:36.456537",
     "status": "completed"
    },
    "tags": []
   },
   "outputs": [
    {
     "data": {
      "text/html": [
       "<iframe\n",
       "    scrolling=\"no\"\n",
       "    width=\"100%\"\n",
       "    height=\"740\"\n",
       "    src=\"iframe_figures/figure_21.html\"\n",
       "    frameborder=\"0\"\n",
       "    allowfullscreen\n",
       "></iframe>\n"
      ]
     },
     "metadata": {},
     "output_type": "display_data"
    }
   ],
   "source": [
    "md.eda.distribution_plot('target3', 'Nelson-Aalen Target')"
   ]
  },
  {
   "cell_type": "code",
   "execution_count": 22,
   "id": "7cd11c7d",
   "metadata": {
    "execution": {
     "iopub.execute_input": "2025-01-11T07:20:36.552720Z",
     "iopub.status.busy": "2025-01-11T07:20:36.552466Z",
     "iopub.status.idle": "2025-01-11T07:20:36.612031Z",
     "shell.execute_reply": "2025-01-11T07:20:36.611139Z"
    },
    "papermill": {
     "duration": 0.072129,
     "end_time": "2025-01-11T07:20:36.613954",
     "exception": false,
     "start_time": "2025-01-11T07:20:36.541825",
     "status": "completed"
    },
    "tags": []
   },
   "outputs": [
    {
     "data": {
      "text/html": [
       "<iframe\n",
       "    scrolling=\"no\"\n",
       "    width=\"100%\"\n",
       "    height=\"740\"\n",
       "    src=\"iframe_figures/figure_22.html\"\n",
       "    frameborder=\"0\"\n",
       "    allowfullscreen\n",
       "></iframe>\n"
      ]
     },
     "metadata": {},
     "output_type": "display_data"
    }
   ],
   "source": [
    "md.eda.distribution_plot('target4', 'Target for Cox-Loss Models')"
   ]
  },
  {
   "cell_type": "code",
   "execution_count": 23,
   "id": "3bb7bca4",
   "metadata": {
    "execution": {
     "iopub.execute_input": "2025-01-11T07:20:36.635688Z",
     "iopub.status.busy": "2025-01-11T07:20:36.635400Z",
     "iopub.status.idle": "2025-01-11T07:20:36.677478Z",
     "shell.execute_reply": "2025-01-11T07:20:36.676601Z"
    },
    "papermill": {
     "duration": 0.05479,
     "end_time": "2025-01-11T07:20:36.679071",
     "exception": false,
     "start_time": "2025-01-11T07:20:36.624281",
     "status": "completed"
    },
    "tags": []
   },
   "outputs": [
    {
     "name": "stdout",
     "output_type": "stream",
     "text": [
      "\n",
      "Shape of dataframe: (28800, 64)\n",
      "Memory usage: 11.21 MB\n",
      "\n"
     ]
    },
    {
     "data": {
      "text/html": [
       "<div>\n",
       "<style scoped>\n",
       "    .dataframe tbody tr th:only-of-type {\n",
       "        vertical-align: middle;\n",
       "    }\n",
       "\n",
       "    .dataframe tbody tr th {\n",
       "        vertical-align: top;\n",
       "    }\n",
       "\n",
       "    .dataframe thead th {\n",
       "        text-align: right;\n",
       "    }\n",
       "</style>\n",
       "<table border=\"1\" class=\"dataframe\">\n",
       "  <thead>\n",
       "    <tr style=\"text-align: right;\">\n",
       "      <th></th>\n",
       "      <th>ID</th>\n",
       "      <th>dri_score</th>\n",
       "      <th>psych_disturb</th>\n",
       "      <th>cyto_score</th>\n",
       "      <th>diabetes</th>\n",
       "      <th>hla_match_c_high</th>\n",
       "      <th>hla_high_res_8</th>\n",
       "      <th>tbi_status</th>\n",
       "      <th>arrhythmia</th>\n",
       "      <th>hla_low_res_6</th>\n",
       "      <th>graft_type</th>\n",
       "      <th>vent_hist</th>\n",
       "      <th>renal_issue</th>\n",
       "      <th>pulm_severe</th>\n",
       "      <th>prim_disease_hct</th>\n",
       "      <th>hla_high_res_6</th>\n",
       "      <th>cmv_status</th>\n",
       "      <th>hla_high_res_10</th>\n",
       "      <th>hla_match_dqb1_high</th>\n",
       "      <th>tce_imm_match</th>\n",
       "      <th>hla_nmdp_6</th>\n",
       "      <th>hla_match_c_low</th>\n",
       "      <th>rituximab</th>\n",
       "      <th>hla_match_drb1_low</th>\n",
       "      <th>hla_match_dqb1_low</th>\n",
       "      <th>prod_type</th>\n",
       "      <th>cyto_score_detail</th>\n",
       "      <th>conditioning_intensity</th>\n",
       "      <th>ethnicity</th>\n",
       "      <th>year_hct</th>\n",
       "      <th>obesity</th>\n",
       "      <th>mrd_hct</th>\n",
       "      <th>in_vivo_tcd</th>\n",
       "      <th>tce_match</th>\n",
       "      <th>hla_match_a_high</th>\n",
       "      <th>hepatic_severe</th>\n",
       "      <th>donor_age</th>\n",
       "      <th>prior_tumor</th>\n",
       "      <th>hla_match_b_low</th>\n",
       "      <th>peptic_ulcer</th>\n",
       "      <th>age_at_hct</th>\n",
       "      <th>hla_match_a_low</th>\n",
       "      <th>gvhd_proph</th>\n",
       "      <th>rheum_issue</th>\n",
       "      <th>sex_match</th>\n",
       "      <th>hla_match_b_high</th>\n",
       "      <th>race_group</th>\n",
       "      <th>comorbidity_score</th>\n",
       "      <th>karnofsky_score</th>\n",
       "      <th>hepatic_mild</th>\n",
       "      <th>tce_div_match</th>\n",
       "      <th>donor_related</th>\n",
       "      <th>melphalan_dose</th>\n",
       "      <th>hla_low_res_8</th>\n",
       "      <th>cardiac</th>\n",
       "      <th>hla_match_drb1_high</th>\n",
       "      <th>pulm_moderate</th>\n",
       "      <th>hla_low_res_10</th>\n",
       "      <th>efs</th>\n",
       "      <th>efs_time</th>\n",
       "      <th>target1</th>\n",
       "      <th>target2</th>\n",
       "      <th>target3</th>\n",
       "      <th>target4</th>\n",
       "    </tr>\n",
       "  </thead>\n",
       "  <tbody>\n",
       "    <tr>\n",
       "      <th>0</th>\n",
       "      <td>0</td>\n",
       "      <td>N/A - non-malignant indication</td>\n",
       "      <td>No</td>\n",
       "      <td>Unknown</td>\n",
       "      <td>No</td>\n",
       "      <td>-1.0</td>\n",
       "      <td>6.0</td>\n",
       "      <td>No TBI</td>\n",
       "      <td>No</td>\n",
       "      <td>6.0</td>\n",
       "      <td>Bone marrow</td>\n",
       "      <td>No</td>\n",
       "      <td>No</td>\n",
       "      <td>No</td>\n",
       "      <td>IEA</td>\n",
       "      <td>6.0</td>\n",
       "      <td>+/+</td>\n",
       "      <td>8.0</td>\n",
       "      <td>2.0</td>\n",
       "      <td>Unknown</td>\n",
       "      <td>6.0</td>\n",
       "      <td>2.0</td>\n",
       "      <td>No</td>\n",
       "      <td>2.0</td>\n",
       "      <td>2.0</td>\n",
       "      <td>BM</td>\n",
       "      <td>Unknown</td>\n",
       "      <td>Unknown</td>\n",
       "      <td>Not Hispanic or Latino</td>\n",
       "      <td>2016.0</td>\n",
       "      <td>No</td>\n",
       "      <td>Unknown</td>\n",
       "      <td>Yes</td>\n",
       "      <td>Unknown</td>\n",
       "      <td>2.0</td>\n",
       "      <td>No</td>\n",
       "      <td>-1.000000</td>\n",
       "      <td>No</td>\n",
       "      <td>2.0</td>\n",
       "      <td>No</td>\n",
       "      <td>9.942000</td>\n",
       "      <td>2.0</td>\n",
       "      <td>FKalone</td>\n",
       "      <td>No</td>\n",
       "      <td>M-F</td>\n",
       "      <td>2.0</td>\n",
       "      <td>More than one race</td>\n",
       "      <td>0.0</td>\n",
       "      <td>90.0</td>\n",
       "      <td>No</td>\n",
       "      <td>Unknown</td>\n",
       "      <td>Unrelated</td>\n",
       "      <td>N/A, Mel not given</td>\n",
       "      <td>8.0</td>\n",
       "      <td>No</td>\n",
       "      <td>2.0</td>\n",
       "      <td>No</td>\n",
       "      <td>10.0</td>\n",
       "      <td>0.0</td>\n",
       "      <td>42.355999</td>\n",
       "      <td>0.258209</td>\n",
       "      <td>0.461962</td>\n",
       "      <td>-0.772247</td>\n",
       "      <td>-42.355999</td>\n",
       "    </tr>\n",
       "    <tr>\n",
       "      <th>1</th>\n",
       "      <td>1</td>\n",
       "      <td>Intermediate</td>\n",
       "      <td>No</td>\n",
       "      <td>Intermediate</td>\n",
       "      <td>No</td>\n",
       "      <td>2.0</td>\n",
       "      <td>8.0</td>\n",
       "      <td>TBI +- Other, &gt;cGy</td>\n",
       "      <td>No</td>\n",
       "      <td>6.0</td>\n",
       "      <td>Peripheral blood</td>\n",
       "      <td>No</td>\n",
       "      <td>No</td>\n",
       "      <td>No</td>\n",
       "      <td>AML</td>\n",
       "      <td>6.0</td>\n",
       "      <td>+/+</td>\n",
       "      <td>10.0</td>\n",
       "      <td>2.0</td>\n",
       "      <td>P/P</td>\n",
       "      <td>6.0</td>\n",
       "      <td>2.0</td>\n",
       "      <td>No</td>\n",
       "      <td>2.0</td>\n",
       "      <td>2.0</td>\n",
       "      <td>PB</td>\n",
       "      <td>Intermediate</td>\n",
       "      <td>MAC</td>\n",
       "      <td>Not Hispanic or Latino</td>\n",
       "      <td>2008.0</td>\n",
       "      <td>No</td>\n",
       "      <td>Positive</td>\n",
       "      <td>No</td>\n",
       "      <td>Permissive</td>\n",
       "      <td>2.0</td>\n",
       "      <td>No</td>\n",
       "      <td>72.290001</td>\n",
       "      <td>No</td>\n",
       "      <td>2.0</td>\n",
       "      <td>No</td>\n",
       "      <td>43.705002</td>\n",
       "      <td>2.0</td>\n",
       "      <td>Other GVHD Prophylaxis</td>\n",
       "      <td>No</td>\n",
       "      <td>F-F</td>\n",
       "      <td>2.0</td>\n",
       "      <td>Asian</td>\n",
       "      <td>3.0</td>\n",
       "      <td>90.0</td>\n",
       "      <td>No</td>\n",
       "      <td>Permissive mismatched</td>\n",
       "      <td>Related</td>\n",
       "      <td>N/A, Mel not given</td>\n",
       "      <td>8.0</td>\n",
       "      <td>No</td>\n",
       "      <td>2.0</td>\n",
       "      <td>Yes</td>\n",
       "      <td>10.0</td>\n",
       "      <td>1.0</td>\n",
       "      <td>4.672000</td>\n",
       "      <td>0.964934</td>\n",
       "      <td>0.847723</td>\n",
       "      <td>-0.165197</td>\n",
       "      <td>4.672000</td>\n",
       "    </tr>\n",
       "    <tr>\n",
       "      <th>2</th>\n",
       "      <td>2</td>\n",
       "      <td>N/A - non-malignant indication</td>\n",
       "      <td>No</td>\n",
       "      <td>Unknown</td>\n",
       "      <td>No</td>\n",
       "      <td>2.0</td>\n",
       "      <td>8.0</td>\n",
       "      <td>No TBI</td>\n",
       "      <td>No</td>\n",
       "      <td>6.0</td>\n",
       "      <td>Bone marrow</td>\n",
       "      <td>No</td>\n",
       "      <td>No</td>\n",
       "      <td>No</td>\n",
       "      <td>HIS</td>\n",
       "      <td>6.0</td>\n",
       "      <td>+/+</td>\n",
       "      <td>10.0</td>\n",
       "      <td>2.0</td>\n",
       "      <td>P/P</td>\n",
       "      <td>6.0</td>\n",
       "      <td>2.0</td>\n",
       "      <td>No</td>\n",
       "      <td>2.0</td>\n",
       "      <td>2.0</td>\n",
       "      <td>BM</td>\n",
       "      <td>Unknown</td>\n",
       "      <td>Unknown</td>\n",
       "      <td>Not Hispanic or Latino</td>\n",
       "      <td>2019.0</td>\n",
       "      <td>No</td>\n",
       "      <td>Unknown</td>\n",
       "      <td>Yes</td>\n",
       "      <td>Unknown</td>\n",
       "      <td>2.0</td>\n",
       "      <td>No</td>\n",
       "      <td>-1.000000</td>\n",
       "      <td>No</td>\n",
       "      <td>2.0</td>\n",
       "      <td>No</td>\n",
       "      <td>33.997002</td>\n",
       "      <td>2.0</td>\n",
       "      <td>Cyclophosphamide alone</td>\n",
       "      <td>No</td>\n",
       "      <td>F-M</td>\n",
       "      <td>2.0</td>\n",
       "      <td>More than one race</td>\n",
       "      <td>0.0</td>\n",
       "      <td>90.0</td>\n",
       "      <td>No</td>\n",
       "      <td>Permissive mismatched</td>\n",
       "      <td>Related</td>\n",
       "      <td>N/A, Mel not given</td>\n",
       "      <td>8.0</td>\n",
       "      <td>No</td>\n",
       "      <td>2.0</td>\n",
       "      <td>No</td>\n",
       "      <td>10.0</td>\n",
       "      <td>0.0</td>\n",
       "      <td>19.792999</td>\n",
       "      <td>0.126144</td>\n",
       "      <td>0.460785</td>\n",
       "      <td>-0.774799</td>\n",
       "      <td>-19.792999</td>\n",
       "    </tr>\n",
       "    <tr>\n",
       "      <th>3</th>\n",
       "      <td>3</td>\n",
       "      <td>High</td>\n",
       "      <td>No</td>\n",
       "      <td>Intermediate</td>\n",
       "      <td>No</td>\n",
       "      <td>2.0</td>\n",
       "      <td>8.0</td>\n",
       "      <td>No TBI</td>\n",
       "      <td>No</td>\n",
       "      <td>6.0</td>\n",
       "      <td>Bone marrow</td>\n",
       "      <td>No</td>\n",
       "      <td>No</td>\n",
       "      <td>No</td>\n",
       "      <td>ALL</td>\n",
       "      <td>6.0</td>\n",
       "      <td>+/+</td>\n",
       "      <td>10.0</td>\n",
       "      <td>2.0</td>\n",
       "      <td>P/P</td>\n",
       "      <td>6.0</td>\n",
       "      <td>2.0</td>\n",
       "      <td>No</td>\n",
       "      <td>2.0</td>\n",
       "      <td>2.0</td>\n",
       "      <td>BM</td>\n",
       "      <td>Intermediate</td>\n",
       "      <td>MAC</td>\n",
       "      <td>Not Hispanic or Latino</td>\n",
       "      <td>2009.0</td>\n",
       "      <td>No</td>\n",
       "      <td>Positive</td>\n",
       "      <td>No</td>\n",
       "      <td>Permissive</td>\n",
       "      <td>2.0</td>\n",
       "      <td>No</td>\n",
       "      <td>29.230000</td>\n",
       "      <td>No</td>\n",
       "      <td>2.0</td>\n",
       "      <td>No</td>\n",
       "      <td>43.244999</td>\n",
       "      <td>2.0</td>\n",
       "      <td>FK+ MMF +- others</td>\n",
       "      <td>No</td>\n",
       "      <td>M-M</td>\n",
       "      <td>2.0</td>\n",
       "      <td>White</td>\n",
       "      <td>0.0</td>\n",
       "      <td>90.0</td>\n",
       "      <td>Yes</td>\n",
       "      <td>Permissive mismatched</td>\n",
       "      <td>Unrelated</td>\n",
       "      <td>N/A, Mel not given</td>\n",
       "      <td>8.0</td>\n",
       "      <td>No</td>\n",
       "      <td>2.0</td>\n",
       "      <td>No</td>\n",
       "      <td>10.0</td>\n",
       "      <td>0.0</td>\n",
       "      <td>102.348999</td>\n",
       "      <td>1.338445</td>\n",
       "      <td>0.455588</td>\n",
       "      <td>-0.786139</td>\n",
       "      <td>-102.348999</td>\n",
       "    </tr>\n",
       "    <tr>\n",
       "      <th>4</th>\n",
       "      <td>4</td>\n",
       "      <td>High</td>\n",
       "      <td>No</td>\n",
       "      <td>Unknown</td>\n",
       "      <td>No</td>\n",
       "      <td>2.0</td>\n",
       "      <td>8.0</td>\n",
       "      <td>No TBI</td>\n",
       "      <td>No</td>\n",
       "      <td>6.0</td>\n",
       "      <td>Peripheral blood</td>\n",
       "      <td>No</td>\n",
       "      <td>No</td>\n",
       "      <td>No</td>\n",
       "      <td>MPN</td>\n",
       "      <td>6.0</td>\n",
       "      <td>+/+</td>\n",
       "      <td>10.0</td>\n",
       "      <td>2.0</td>\n",
       "      <td>Unknown</td>\n",
       "      <td>6.0</td>\n",
       "      <td>2.0</td>\n",
       "      <td>No</td>\n",
       "      <td>2.0</td>\n",
       "      <td>2.0</td>\n",
       "      <td>PB</td>\n",
       "      <td>Unknown</td>\n",
       "      <td>MAC</td>\n",
       "      <td>Hispanic or Latino</td>\n",
       "      <td>2018.0</td>\n",
       "      <td>No</td>\n",
       "      <td>Unknown</td>\n",
       "      <td>Yes</td>\n",
       "      <td>Unknown</td>\n",
       "      <td>2.0</td>\n",
       "      <td>No</td>\n",
       "      <td>56.810001</td>\n",
       "      <td>No</td>\n",
       "      <td>2.0</td>\n",
       "      <td>No</td>\n",
       "      <td>29.740000</td>\n",
       "      <td>2.0</td>\n",
       "      <td>TDEPLETION +- other</td>\n",
       "      <td>No</td>\n",
       "      <td>M-F</td>\n",
       "      <td>2.0</td>\n",
       "      <td>American Indian or Alaska Native</td>\n",
       "      <td>1.0</td>\n",
       "      <td>90.0</td>\n",
       "      <td>No</td>\n",
       "      <td>Permissive mismatched</td>\n",
       "      <td>Related</td>\n",
       "      <td>MEL</td>\n",
       "      <td>8.0</td>\n",
       "      <td>No</td>\n",
       "      <td>2.0</td>\n",
       "      <td>No</td>\n",
       "      <td>10.0</td>\n",
       "      <td>0.0</td>\n",
       "      <td>16.223000</td>\n",
       "      <td>0.912547</td>\n",
       "      <td>0.463916</td>\n",
       "      <td>-0.768026</td>\n",
       "      <td>-16.223000</td>\n",
       "    </tr>\n",
       "  </tbody>\n",
       "</table>\n",
       "</div>"
      ],
      "text/plain": [
       "   ID                       dri_score psych_disturb    cyto_score diabetes  \\\n",
       "0   0  N/A - non-malignant indication            No       Unknown       No   \n",
       "1   1                    Intermediate            No  Intermediate       No   \n",
       "2   2  N/A - non-malignant indication            No       Unknown       No   \n",
       "3   3                            High            No  Intermediate       No   \n",
       "4   4                            High            No       Unknown       No   \n",
       "\n",
       "   hla_match_c_high  hla_high_res_8          tbi_status arrhythmia  \\\n",
       "0              -1.0             6.0              No TBI         No   \n",
       "1               2.0             8.0  TBI +- Other, >cGy         No   \n",
       "2               2.0             8.0              No TBI         No   \n",
       "3               2.0             8.0              No TBI         No   \n",
       "4               2.0             8.0              No TBI         No   \n",
       "\n",
       "   hla_low_res_6        graft_type vent_hist renal_issue pulm_severe  \\\n",
       "0            6.0       Bone marrow        No          No          No   \n",
       "1            6.0  Peripheral blood        No          No          No   \n",
       "2            6.0       Bone marrow        No          No          No   \n",
       "3            6.0       Bone marrow        No          No          No   \n",
       "4            6.0  Peripheral blood        No          No          No   \n",
       "\n",
       "  prim_disease_hct  hla_high_res_6 cmv_status  hla_high_res_10  \\\n",
       "0              IEA             6.0        +/+              8.0   \n",
       "1              AML             6.0        +/+             10.0   \n",
       "2              HIS             6.0        +/+             10.0   \n",
       "3              ALL             6.0        +/+             10.0   \n",
       "4              MPN             6.0        +/+             10.0   \n",
       "\n",
       "   hla_match_dqb1_high tce_imm_match  hla_nmdp_6  hla_match_c_low rituximab  \\\n",
       "0                  2.0       Unknown         6.0              2.0        No   \n",
       "1                  2.0           P/P         6.0              2.0        No   \n",
       "2                  2.0           P/P         6.0              2.0        No   \n",
       "3                  2.0           P/P         6.0              2.0        No   \n",
       "4                  2.0       Unknown         6.0              2.0        No   \n",
       "\n",
       "   hla_match_drb1_low  hla_match_dqb1_low prod_type cyto_score_detail  \\\n",
       "0                 2.0                 2.0        BM           Unknown   \n",
       "1                 2.0                 2.0        PB      Intermediate   \n",
       "2                 2.0                 2.0        BM           Unknown   \n",
       "3                 2.0                 2.0        BM      Intermediate   \n",
       "4                 2.0                 2.0        PB           Unknown   \n",
       "\n",
       "  conditioning_intensity               ethnicity  year_hct obesity   mrd_hct  \\\n",
       "0                Unknown  Not Hispanic or Latino    2016.0      No   Unknown   \n",
       "1                    MAC  Not Hispanic or Latino    2008.0      No  Positive   \n",
       "2                Unknown  Not Hispanic or Latino    2019.0      No   Unknown   \n",
       "3                    MAC  Not Hispanic or Latino    2009.0      No  Positive   \n",
       "4                    MAC      Hispanic or Latino    2018.0      No   Unknown   \n",
       "\n",
       "  in_vivo_tcd   tce_match  hla_match_a_high hepatic_severe  donor_age  \\\n",
       "0         Yes     Unknown               2.0             No  -1.000000   \n",
       "1          No  Permissive               2.0             No  72.290001   \n",
       "2         Yes     Unknown               2.0             No  -1.000000   \n",
       "3          No  Permissive               2.0             No  29.230000   \n",
       "4         Yes     Unknown               2.0             No  56.810001   \n",
       "\n",
       "  prior_tumor  hla_match_b_low peptic_ulcer  age_at_hct  hla_match_a_low  \\\n",
       "0          No              2.0           No    9.942000              2.0   \n",
       "1          No              2.0           No   43.705002              2.0   \n",
       "2          No              2.0           No   33.997002              2.0   \n",
       "3          No              2.0           No   43.244999              2.0   \n",
       "4          No              2.0           No   29.740000              2.0   \n",
       "\n",
       "               gvhd_proph rheum_issue sex_match  hla_match_b_high  \\\n",
       "0                 FKalone          No       M-F               2.0   \n",
       "1  Other GVHD Prophylaxis          No       F-F               2.0   \n",
       "2  Cyclophosphamide alone          No       F-M               2.0   \n",
       "3       FK+ MMF +- others          No       M-M               2.0   \n",
       "4     TDEPLETION +- other          No       M-F               2.0   \n",
       "\n",
       "                         race_group  comorbidity_score  karnofsky_score  \\\n",
       "0                More than one race                0.0             90.0   \n",
       "1                             Asian                3.0             90.0   \n",
       "2                More than one race                0.0             90.0   \n",
       "3                             White                0.0             90.0   \n",
       "4  American Indian or Alaska Native                1.0             90.0   \n",
       "\n",
       "  hepatic_mild          tce_div_match donor_related      melphalan_dose  \\\n",
       "0           No                Unknown     Unrelated  N/A, Mel not given   \n",
       "1           No  Permissive mismatched       Related  N/A, Mel not given   \n",
       "2           No  Permissive mismatched       Related  N/A, Mel not given   \n",
       "3          Yes  Permissive mismatched     Unrelated  N/A, Mel not given   \n",
       "4           No  Permissive mismatched       Related                 MEL   \n",
       "\n",
       "   hla_low_res_8 cardiac  hla_match_drb1_high pulm_moderate  hla_low_res_10  \\\n",
       "0            8.0      No                  2.0            No            10.0   \n",
       "1            8.0      No                  2.0           Yes            10.0   \n",
       "2            8.0      No                  2.0            No            10.0   \n",
       "3            8.0      No                  2.0            No            10.0   \n",
       "4            8.0      No                  2.0            No            10.0   \n",
       "\n",
       "   efs    efs_time   target1   target2   target3     target4  \n",
       "0  0.0   42.355999  0.258209  0.461962 -0.772247  -42.355999  \n",
       "1  1.0    4.672000  0.964934  0.847723 -0.165197    4.672000  \n",
       "2  0.0   19.792999  0.126144  0.460785 -0.774799  -19.792999  \n",
       "3  0.0  102.348999  1.338445  0.455588 -0.786139 -102.348999  \n",
       "4  0.0   16.223000  0.912547  0.463916 -0.768026  -16.223000  "
      ]
     },
     "metadata": {},
     "output_type": "display_data"
    }
   ],
   "source": [
    "fe.info(train_data)"
   ]
  },
  {
   "cell_type": "markdown",
   "id": "53e3a049",
   "metadata": {
    "papermill": {
     "duration": 0.010265,
     "end_time": "2025-01-11T07:20:36.700059",
     "exception": false,
     "start_time": "2025-01-11T07:20:36.689794",
     "status": "completed"
    },
    "tags": []
   },
   "source": [
    "<p style=\"background-color: rgb(247, 230, 202); font-size: 300%; text-align: center; border-radius: 40px 40px; color: rgb(162, 87, 79); font-weight: bold; font-family: 'Roboto'; border: 4px solid rgb(162, 87, 79);\">Models with Cox Target</p>"
   ]
  },
  {
   "cell_type": "code",
   "execution_count": 24,
   "id": "b177c41c",
   "metadata": {
    "execution": {
     "iopub.execute_input": "2025-01-11T07:20:36.722322Z",
     "iopub.status.busy": "2025-01-11T07:20:36.722085Z",
     "iopub.status.idle": "2025-01-11T08:26:36.930906Z",
     "shell.execute_reply": "2025-01-11T08:26:36.929923Z"
    },
    "papermill": {
     "duration": 3960.222204,
     "end_time": "2025-01-11T08:26:36.932664",
     "exception": false,
     "start_time": "2025-01-11T07:20:36.710460",
     "status": "completed"
    },
    "tags": []
   },
   "outputs": [
    {
     "data": {
      "text/html": [
       "<iframe\n",
       "    scrolling=\"no\"\n",
       "    width=\"100%\"\n",
       "    height=\"545px\"\n",
       "    src=\"iframe_figures/figure_24.html\"\n",
       "    frameborder=\"0\"\n",
       "    allowfullscreen\n",
       "></iframe>\n"
      ]
     },
     "metadata": {},
     "output_type": "display_data"
    },
    {
     "name": "stdout",
     "output_type": "stream",
     "text": [
      "Overall Stratified C-Index Score for CatBoost: 0.6613\n"
     ]
    }
   ],
   "source": [
    "ctb1_models, ctb1_oof_preds = md.train_model(CFG.ctb_params, target='target1', title='CatBoost')"
   ]
  },
  {
   "cell_type": "code",
   "execution_count": 25,
   "id": "0e1450f0",
   "metadata": {
    "execution": {
     "iopub.execute_input": "2025-01-11T08:26:36.955616Z",
     "iopub.status.busy": "2025-01-11T08:26:36.955290Z",
     "iopub.status.idle": "2025-01-11T08:28:41.372585Z",
     "shell.execute_reply": "2025-01-11T08:28:41.371755Z"
    },
    "papermill": {
     "duration": 124.43084,
     "end_time": "2025-01-11T08:28:41.374566",
     "exception": false,
     "start_time": "2025-01-11T08:26:36.943726",
     "status": "completed"
    },
    "tags": []
   },
   "outputs": [
    {
     "data": {
      "text/html": [
       "<iframe\n",
       "    scrolling=\"no\"\n",
       "    width=\"100%\"\n",
       "    height=\"545px\"\n",
       "    src=\"iframe_figures/figure_25.html\"\n",
       "    frameborder=\"0\"\n",
       "    allowfullscreen\n",
       "></iframe>\n"
      ]
     },
     "metadata": {},
     "output_type": "display_data"
    },
    {
     "name": "stdout",
     "output_type": "stream",
     "text": [
      "Overall Stratified C-Index Score for LightGBM: 0.6596\n"
     ]
    }
   ],
   "source": [
    "lgb1_models, lgb1_oof_preds = md.train_model(CFG.lgb_params, target='target1', title='LightGBM')"
   ]
  },
  {
   "cell_type": "code",
   "execution_count": 26,
   "id": "2d20745c",
   "metadata": {
    "execution": {
     "iopub.execute_input": "2025-01-11T08:28:41.400149Z",
     "iopub.status.busy": "2025-01-11T08:28:41.399538Z",
     "iopub.status.idle": "2025-01-11T08:28:41.442841Z",
     "shell.execute_reply": "2025-01-11T08:28:41.442174Z"
    },
    "papermill": {
     "duration": 0.057102,
     "end_time": "2025-01-11T08:28:41.444524",
     "exception": false,
     "start_time": "2025-01-11T08:28:41.387422",
     "status": "completed"
    },
    "tags": []
   },
   "outputs": [],
   "source": [
    "ctb1_preds = md.infer_model(test_data, ctb1_models)"
   ]
  },
  {
   "cell_type": "code",
   "execution_count": 27,
   "id": "9dc41cdb",
   "metadata": {
    "execution": {
     "iopub.execute_input": "2025-01-11T08:28:41.468085Z",
     "iopub.status.busy": "2025-01-11T08:28:41.467813Z",
     "iopub.status.idle": "2025-01-11T08:28:41.605814Z",
     "shell.execute_reply": "2025-01-11T08:28:41.605079Z"
    },
    "papermill": {
     "duration": 0.151736,
     "end_time": "2025-01-11T08:28:41.607866",
     "exception": false,
     "start_time": "2025-01-11T08:28:41.456130",
     "status": "completed"
    },
    "tags": []
   },
   "outputs": [],
   "source": [
    "lgb1_preds = md.infer_model(test_data, lgb1_models)"
   ]
  },
  {
   "cell_type": "markdown",
   "id": "460b959c",
   "metadata": {
    "papermill": {
     "duration": 0.010919,
     "end_time": "2025-01-11T08:28:41.630197",
     "exception": false,
     "start_time": "2025-01-11T08:28:41.619278",
     "status": "completed"
    },
    "tags": []
   },
   "source": [
    "<p style=\"background-color: rgb(247, 230, 202); font-size: 300%; text-align: center; border-radius: 40px 40px; color: rgb(162, 87, 79); font-weight: bold; font-family: 'Roboto'; border: 4px solid rgb(162, 87, 79);\">Models with Kaplan-Meier Target</p>"
   ]
  },
  {
   "cell_type": "code",
   "execution_count": 28,
   "id": "74c91028",
   "metadata": {
    "execution": {
     "iopub.execute_input": "2025-01-11T08:28:41.653536Z",
     "iopub.status.busy": "2025-01-11T08:28:41.652881Z",
     "iopub.status.idle": "2025-01-11T09:14:05.506329Z",
     "shell.execute_reply": "2025-01-11T09:14:05.505245Z"
    },
    "papermill": {
     "duration": 2723.867058,
     "end_time": "2025-01-11T09:14:05.508131",
     "exception": false,
     "start_time": "2025-01-11T08:28:41.641073",
     "status": "completed"
    },
    "tags": []
   },
   "outputs": [
    {
     "data": {
      "text/html": [
       "<iframe\n",
       "    scrolling=\"no\"\n",
       "    width=\"100%\"\n",
       "    height=\"545px\"\n",
       "    src=\"iframe_figures/figure_28.html\"\n",
       "    frameborder=\"0\"\n",
       "    allowfullscreen\n",
       "></iframe>\n"
      ]
     },
     "metadata": {},
     "output_type": "display_data"
    },
    {
     "name": "stdout",
     "output_type": "stream",
     "text": [
      "Overall Stratified C-Index Score for CatBoost: 0.6751\n"
     ]
    }
   ],
   "source": [
    "ctb2_models, ctb2_oof_preds = md.train_model(CFG.ctb_params, target='target2', title='CatBoost')"
   ]
  },
  {
   "cell_type": "code",
   "execution_count": 29,
   "id": "31d62b85",
   "metadata": {
    "execution": {
     "iopub.execute_input": "2025-01-11T09:14:05.532825Z",
     "iopub.status.busy": "2025-01-11T09:14:05.532528Z",
     "iopub.status.idle": "2025-01-11T09:14:24.671551Z",
     "shell.execute_reply": "2025-01-11T09:14:24.670542Z"
    },
    "papermill": {
     "duration": 19.152707,
     "end_time": "2025-01-11T09:14:24.673301",
     "exception": false,
     "start_time": "2025-01-11T09:14:05.520594",
     "status": "completed"
    },
    "tags": []
   },
   "outputs": [
    {
     "data": {
      "text/html": [
       "<iframe\n",
       "    scrolling=\"no\"\n",
       "    width=\"100%\"\n",
       "    height=\"545px\"\n",
       "    src=\"iframe_figures/figure_29.html\"\n",
       "    frameborder=\"0\"\n",
       "    allowfullscreen\n",
       "></iframe>\n"
      ]
     },
     "metadata": {},
     "output_type": "display_data"
    },
    {
     "name": "stdout",
     "output_type": "stream",
     "text": [
      "Overall Stratified C-Index Score for LightGBM: 0.6668\n"
     ]
    }
   ],
   "source": [
    "lgb2_models, lgb2_oof_preds = md.train_model(CFG.lgb_params, target='target2', title='LightGBM')"
   ]
  },
  {
   "cell_type": "code",
   "execution_count": 30,
   "id": "6132d425",
   "metadata": {
    "execution": {
     "iopub.execute_input": "2025-01-11T09:14:24.697853Z",
     "iopub.status.busy": "2025-01-11T09:14:24.697527Z",
     "iopub.status.idle": "2025-01-11T09:14:24.748463Z",
     "shell.execute_reply": "2025-01-11T09:14:24.747585Z"
    },
    "papermill": {
     "duration": 0.064947,
     "end_time": "2025-01-11T09:14:24.750223",
     "exception": false,
     "start_time": "2025-01-11T09:14:24.685276",
     "status": "completed"
    },
    "tags": []
   },
   "outputs": [],
   "source": [
    "ctb2_preds = md.infer_model(test_data, ctb2_models)"
   ]
  },
  {
   "cell_type": "code",
   "execution_count": 31,
   "id": "06a8775e",
   "metadata": {
    "execution": {
     "iopub.execute_input": "2025-01-11T09:14:24.774757Z",
     "iopub.status.busy": "2025-01-11T09:14:24.774489Z",
     "iopub.status.idle": "2025-01-11T09:14:24.900000Z",
     "shell.execute_reply": "2025-01-11T09:14:24.899253Z"
    },
    "papermill": {
     "duration": 0.139989,
     "end_time": "2025-01-11T09:14:24.902089",
     "exception": false,
     "start_time": "2025-01-11T09:14:24.762100",
     "status": "completed"
    },
    "tags": []
   },
   "outputs": [],
   "source": [
    "lgb2_preds = md.infer_model(test_data, lgb2_models)"
   ]
  },
  {
   "cell_type": "markdown",
   "id": "7bb4d9c5",
   "metadata": {
    "papermill": {
     "duration": 0.011237,
     "end_time": "2025-01-11T09:14:24.926122",
     "exception": false,
     "start_time": "2025-01-11T09:14:24.914885",
     "status": "completed"
    },
    "tags": []
   },
   "source": [
    "<p style=\"background-color: rgb(247, 230, 202); font-size: 300%; text-align: center; border-radius: 40px 40px; color: rgb(162, 87, 79); font-weight: bold; font-family: 'Roboto'; border: 4px solid rgb(162, 87, 79);\">Models with Nelson-Aalen Target</p>"
   ]
  },
  {
   "cell_type": "code",
   "execution_count": 32,
   "id": "c999e798",
   "metadata": {
    "execution": {
     "iopub.execute_input": "2025-01-11T09:14:24.950720Z",
     "iopub.status.busy": "2025-01-11T09:14:24.950052Z",
     "iopub.status.idle": "2025-01-11T09:52:23.975216Z",
     "shell.execute_reply": "2025-01-11T09:52:23.974269Z"
    },
    "papermill": {
     "duration": 2279.039607,
     "end_time": "2025-01-11T09:52:23.977284",
     "exception": false,
     "start_time": "2025-01-11T09:14:24.937677",
     "status": "completed"
    },
    "tags": []
   },
   "outputs": [
    {
     "data": {
      "text/html": [
       "<iframe\n",
       "    scrolling=\"no\"\n",
       "    width=\"100%\"\n",
       "    height=\"545px\"\n",
       "    src=\"iframe_figures/figure_32.html\"\n",
       "    frameborder=\"0\"\n",
       "    allowfullscreen\n",
       "></iframe>\n"
      ]
     },
     "metadata": {},
     "output_type": "display_data"
    },
    {
     "name": "stdout",
     "output_type": "stream",
     "text": [
      "Overall Stratified C-Index Score for CatBoost: 0.6767\n"
     ]
    }
   ],
   "source": [
    "ctb3_models, ctb3_oof_preds = md.train_model(CFG.ctb_params, target='target3', title='CatBoost')"
   ]
  },
  {
   "cell_type": "code",
   "execution_count": 33,
   "id": "c959e584",
   "metadata": {
    "execution": {
     "iopub.execute_input": "2025-01-11T09:52:24.002837Z",
     "iopub.status.busy": "2025-01-11T09:52:24.002522Z",
     "iopub.status.idle": "2025-01-11T09:52:42.337293Z",
     "shell.execute_reply": "2025-01-11T09:52:42.336195Z"
    },
    "papermill": {
     "duration": 18.349365,
     "end_time": "2025-01-11T09:52:42.339159",
     "exception": false,
     "start_time": "2025-01-11T09:52:23.989794",
     "status": "completed"
    },
    "tags": []
   },
   "outputs": [
    {
     "data": {
      "text/html": [
       "<iframe\n",
       "    scrolling=\"no\"\n",
       "    width=\"100%\"\n",
       "    height=\"545px\"\n",
       "    src=\"iframe_figures/figure_33.html\"\n",
       "    frameborder=\"0\"\n",
       "    allowfullscreen\n",
       "></iframe>\n"
      ]
     },
     "metadata": {},
     "output_type": "display_data"
    },
    {
     "name": "stdout",
     "output_type": "stream",
     "text": [
      "Overall Stratified C-Index Score for LightGBM: 0.6691\n"
     ]
    }
   ],
   "source": [
    "lgb3_models, lgb3_oof_preds = md.train_model(CFG.lgb_params, target='target3', title='LightGBM')"
   ]
  },
  {
   "cell_type": "code",
   "execution_count": 34,
   "id": "12e1943b",
   "metadata": {
    "execution": {
     "iopub.execute_input": "2025-01-11T09:52:42.364348Z",
     "iopub.status.busy": "2025-01-11T09:52:42.364059Z",
     "iopub.status.idle": "2025-01-11T09:52:42.406489Z",
     "shell.execute_reply": "2025-01-11T09:52:42.405884Z"
    },
    "papermill": {
     "duration": 0.056488,
     "end_time": "2025-01-11T09:52:42.408056",
     "exception": false,
     "start_time": "2025-01-11T09:52:42.351568",
     "status": "completed"
    },
    "tags": []
   },
   "outputs": [],
   "source": [
    "ctb3_preds = md.infer_model(test_data, ctb3_models)"
   ]
  },
  {
   "cell_type": "code",
   "execution_count": 35,
   "id": "c1b5dcc1",
   "metadata": {
    "execution": {
     "iopub.execute_input": "2025-01-11T09:52:42.432897Z",
     "iopub.status.busy": "2025-01-11T09:52:42.432665Z",
     "iopub.status.idle": "2025-01-11T09:52:42.548532Z",
     "shell.execute_reply": "2025-01-11T09:52:42.547857Z"
    },
    "papermill": {
     "duration": 0.130372,
     "end_time": "2025-01-11T09:52:42.550391",
     "exception": false,
     "start_time": "2025-01-11T09:52:42.420019",
     "status": "completed"
    },
    "tags": []
   },
   "outputs": [],
   "source": [
    "lgb3_preds = md.infer_model(test_data, lgb3_models)"
   ]
  },
  {
   "cell_type": "markdown",
   "id": "25e85734",
   "metadata": {
    "papermill": {
     "duration": 0.011472,
     "end_time": "2025-01-11T09:52:42.574390",
     "exception": false,
     "start_time": "2025-01-11T09:52:42.562918",
     "status": "completed"
    },
    "tags": []
   },
   "source": [
    "<p style=\"background-color: rgb(247, 230, 202); font-size: 300%; text-align: center; border-radius: 40px 40px; color: rgb(162, 87, 79); font-weight: bold; font-family: 'Roboto'; border: 4px solid rgb(162, 87, 79);\">Cox-Loss Models</p>"
   ]
  },
  {
   "cell_type": "code",
   "execution_count": 36,
   "id": "1ca976e8",
   "metadata": {
    "execution": {
     "iopub.execute_input": "2025-01-11T09:52:42.600921Z",
     "iopub.status.busy": "2025-01-11T09:52:42.600097Z",
     "iopub.status.idle": "2025-01-11T09:58:09.115181Z",
     "shell.execute_reply": "2025-01-11T09:58:09.114386Z"
    },
    "papermill": {
     "duration": 326.530755,
     "end_time": "2025-01-11T09:58:09.117054",
     "exception": false,
     "start_time": "2025-01-11T09:52:42.586299",
     "status": "completed"
    },
    "tags": []
   },
   "outputs": [
    {
     "data": {
      "text/html": [
       "<iframe\n",
       "    scrolling=\"no\"\n",
       "    width=\"100%\"\n",
       "    height=\"545px\"\n",
       "    src=\"iframe_figures/figure_36.html\"\n",
       "    frameborder=\"0\"\n",
       "    allowfullscreen\n",
       "></iframe>\n"
      ]
     },
     "metadata": {},
     "output_type": "display_data"
    },
    {
     "name": "stdout",
     "output_type": "stream",
     "text": [
      "Overall Stratified C-Index Score for CatBoost: 0.6708\n"
     ]
    }
   ],
   "source": [
    "cox1_models, cox1_oof_preds = md.train_model(CFG.cox1_params, target='target4', title='CatBoost')"
   ]
  },
  {
   "cell_type": "code",
   "execution_count": 37,
   "id": "36f48f15",
   "metadata": {
    "execution": {
     "iopub.execute_input": "2025-01-11T09:58:09.142287Z",
     "iopub.status.busy": "2025-01-11T09:58:09.141939Z",
     "iopub.status.idle": "2025-01-11T10:06:47.559216Z",
     "shell.execute_reply": "2025-01-11T10:06:47.558444Z"
    },
    "papermill": {
     "duration": 518.431748,
     "end_time": "2025-01-11T10:06:47.561046",
     "exception": false,
     "start_time": "2025-01-11T09:58:09.129298",
     "status": "completed"
    },
    "tags": []
   },
   "outputs": [
    {
     "data": {
      "text/html": [
       "<iframe\n",
       "    scrolling=\"no\"\n",
       "    width=\"100%\"\n",
       "    height=\"545px\"\n",
       "    src=\"iframe_figures/figure_37.html\"\n",
       "    frameborder=\"0\"\n",
       "    allowfullscreen\n",
       "></iframe>\n"
      ]
     },
     "metadata": {},
     "output_type": "display_data"
    },
    {
     "name": "stdout",
     "output_type": "stream",
     "text": [
      "Overall Stratified C-Index Score for CatBoost: 0.6700\n"
     ]
    }
   ],
   "source": [
    "cox2_models, cox2_oof_preds = md.train_model(CFG.cox2_params, target='target4', title='CatBoost')"
   ]
  },
  {
   "cell_type": "code",
   "execution_count": 38,
   "id": "a12a3d4a",
   "metadata": {
    "execution": {
     "iopub.execute_input": "2025-01-11T10:06:47.586308Z",
     "iopub.status.busy": "2025-01-11T10:06:47.586056Z",
     "iopub.status.idle": "2025-01-11T10:06:47.625512Z",
     "shell.execute_reply": "2025-01-11T10:06:47.624890Z"
    },
    "papermill": {
     "duration": 0.053926,
     "end_time": "2025-01-11T10:06:47.627161",
     "exception": false,
     "start_time": "2025-01-11T10:06:47.573235",
     "status": "completed"
    },
    "tags": []
   },
   "outputs": [],
   "source": [
    "cox1_preds = md.infer_model(test_data, cox1_models)"
   ]
  },
  {
   "cell_type": "code",
   "execution_count": 39,
   "id": "302dca07",
   "metadata": {
    "execution": {
     "iopub.execute_input": "2025-01-11T10:06:47.651995Z",
     "iopub.status.busy": "2025-01-11T10:06:47.651738Z",
     "iopub.status.idle": "2025-01-11T10:06:47.689237Z",
     "shell.execute_reply": "2025-01-11T10:06:47.688416Z"
    },
    "papermill": {
     "duration": 0.051703,
     "end_time": "2025-01-11T10:06:47.690867",
     "exception": false,
     "start_time": "2025-01-11T10:06:47.639164",
     "status": "completed"
    },
    "tags": []
   },
   "outputs": [],
   "source": [
    "cox2_preds = md.infer_model(test_data, cox2_models)"
   ]
  },
  {
   "cell_type": "markdown",
   "id": "a29d404b",
   "metadata": {
    "papermill": {
     "duration": 0.01182,
     "end_time": "2025-01-11T10:06:47.714755",
     "exception": false,
     "start_time": "2025-01-11T10:06:47.702935",
     "status": "completed"
    },
    "tags": []
   },
   "source": [
    "<p style=\"background-color: rgb(247, 230, 202); font-size: 300%; text-align: center; border-radius: 40px 40px; color: rgb(162, 87, 79); font-weight: bold; font-family: 'Roboto'; border: 4px solid rgb(162, 87, 79);\">Ensemble Model</p>"
   ]
  },
  {
   "cell_type": "markdown",
   "id": "96dadc7c",
   "metadata": {
    "papermill": {
     "duration": 0.011998,
     "end_time": "2025-01-11T10:06:47.738786",
     "exception": false,
     "start_time": "2025-01-11T10:06:47.726788",
     "status": "completed"
    },
    "tags": []
   },
   "source": [
    "<div style=\"background-color: rgb(247, 230, 202); border: 4px solid rgb(162, 87, 79); border-radius: 40px; padding: 20px; font-family: 'Roboto'; color: rgb(162, 87, 79); text-align: left; font-size: 140%;\">\n",
    "    <b>Calculate C-Index score for Ensemble model using Out-of-Fold (OOF) predictions.</b>\n",
    "</div>"
   ]
  },
  {
   "cell_type": "code",
   "execution_count": 40,
   "id": "c3480aa5",
   "metadata": {
    "execution": {
     "iopub.execute_input": "2025-01-11T10:06:47.763912Z",
     "iopub.status.busy": "2025-01-11T10:06:47.763633Z",
     "iopub.status.idle": "2025-01-11T10:06:47.767270Z",
     "shell.execute_reply": "2025-01-11T10:06:47.766599Z"
    },
    "papermill": {
     "duration": 0.017989,
     "end_time": "2025-01-11T10:06:47.768848",
     "exception": false,
     "start_time": "2025-01-11T10:06:47.750859",
     "status": "completed"
    },
    "tags": []
   },
   "outputs": [],
   "source": [
    "oof_preds = [\n",
    "    ctb1_oof_preds, \n",
    "    lgb1_oof_preds, \n",
    "    ctb2_oof_preds, \n",
    "    lgb2_oof_preds, \n",
    "    ctb3_oof_preds, \n",
    "    lgb3_oof_preds, \n",
    "    cox1_oof_preds,\n",
    "    cox2_oof_preds\n",
    "]"
   ]
  },
  {
   "cell_type": "code",
   "execution_count": 41,
   "id": "a43bd48d",
   "metadata": {
    "execution": {
     "iopub.execute_input": "2025-01-11T10:06:47.793927Z",
     "iopub.status.busy": "2025-01-11T10:06:47.793686Z",
     "iopub.status.idle": "2025-01-11T10:06:47.810205Z",
     "shell.execute_reply": "2025-01-11T10:06:47.809430Z"
    },
    "papermill": {
     "duration": 0.030913,
     "end_time": "2025-01-11T10:06:47.811874",
     "exception": false,
     "start_time": "2025-01-11T10:06:47.780961",
     "status": "completed"
    },
    "tags": []
   },
   "outputs": [],
   "source": [
    "ranked_oof_preds = np.array([rankdata(p) for p in oof_preds])"
   ]
  },
  {
   "cell_type": "code",
   "execution_count": 42,
   "id": "c05b8d50",
   "metadata": {
    "execution": {
     "iopub.execute_input": "2025-01-11T10:06:47.836875Z",
     "iopub.status.busy": "2025-01-11T10:06:47.836654Z",
     "iopub.status.idle": "2025-01-11T10:06:47.841726Z",
     "shell.execute_reply": "2025-01-11T10:06:47.840267Z"
    },
    "papermill": {
     "duration": 0.020774,
     "end_time": "2025-01-11T10:06:47.844667",
     "exception": false,
     "start_time": "2025-01-11T10:06:47.823893",
     "status": "completed"
    },
    "tags": []
   },
   "outputs": [],
   "source": [
    "ensemble_oof_preds = np.dot(CFG.weights, ranked_oof_preds)"
   ]
  },
  {
   "cell_type": "code",
   "execution_count": 43,
   "id": "07b84246",
   "metadata": {
    "execution": {
     "iopub.execute_input": "2025-01-11T10:06:47.924271Z",
     "iopub.status.busy": "2025-01-11T10:06:47.923191Z",
     "iopub.status.idle": "2025-01-11T10:06:48.261975Z",
     "shell.execute_reply": "2025-01-11T10:06:48.261072Z"
    },
    "papermill": {
     "duration": 0.381533,
     "end_time": "2025-01-11T10:06:48.263860",
     "exception": false,
     "start_time": "2025-01-11T10:06:47.882327",
     "status": "completed"
    },
    "tags": []
   },
   "outputs": [
    {
     "name": "stdout",
     "output_type": "stream",
     "text": [
      "Overall Stratified C-Index Score for Ensemble Model: 0.6805\n"
     ]
    }
   ],
   "source": [
    "md.targets.validate_model(ensemble_oof_preds, 'Ensemble Model')"
   ]
  },
  {
   "cell_type": "markdown",
   "id": "1ea168f5",
   "metadata": {
    "papermill": {
     "duration": 0.012054,
     "end_time": "2025-01-11T10:06:48.288456",
     "exception": false,
     "start_time": "2025-01-11T10:06:48.276402",
     "status": "completed"
    },
    "tags": []
   },
   "source": [
    "<div style=\"background-color: rgb(247, 230, 202); border: 4px solid rgb(162, 87, 79); border-radius: 40px; padding: 20px; font-family: 'Roboto'; color: rgb(162, 87, 79); text-align: left; font-size: 140%;\">\n",
    "    <b>Ensemble predictions for the test data.</b>\n",
    "</div>"
   ]
  },
  {
   "cell_type": "code",
   "execution_count": 44,
   "id": "689cc5b7",
   "metadata": {
    "execution": {
     "iopub.execute_input": "2025-01-11T10:06:48.313988Z",
     "iopub.status.busy": "2025-01-11T10:06:48.313717Z",
     "iopub.status.idle": "2025-01-11T10:06:48.317566Z",
     "shell.execute_reply": "2025-01-11T10:06:48.316875Z"
    },
    "papermill": {
     "duration": 0.018433,
     "end_time": "2025-01-11T10:06:48.319018",
     "exception": false,
     "start_time": "2025-01-11T10:06:48.300585",
     "status": "completed"
    },
    "tags": []
   },
   "outputs": [],
   "source": [
    "preds = [\n",
    "    ctb1_preds, \n",
    "    lgb1_preds, \n",
    "    ctb2_preds, \n",
    "    lgb2_preds, \n",
    "    ctb3_preds, \n",
    "    lgb3_preds,\n",
    "    cox1_preds,\n",
    "    cox2_preds\n",
    "]"
   ]
  },
  {
   "cell_type": "code",
   "execution_count": 45,
   "id": "dedbe0f6",
   "metadata": {
    "execution": {
     "iopub.execute_input": "2025-01-11T10:06:48.344717Z",
     "iopub.status.busy": "2025-01-11T10:06:48.344138Z",
     "iopub.status.idle": "2025-01-11T10:06:48.349389Z",
     "shell.execute_reply": "2025-01-11T10:06:48.348630Z"
    },
    "papermill": {
     "duration": 0.019746,
     "end_time": "2025-01-11T10:06:48.350968",
     "exception": false,
     "start_time": "2025-01-11T10:06:48.331222",
     "status": "completed"
    },
    "tags": []
   },
   "outputs": [],
   "source": [
    "ranked_preds = np.array([rankdata(p) for p in preds])"
   ]
  },
  {
   "cell_type": "code",
   "execution_count": 46,
   "id": "855975b0",
   "metadata": {
    "execution": {
     "iopub.execute_input": "2025-01-11T10:06:48.376195Z",
     "iopub.status.busy": "2025-01-11T10:06:48.375980Z",
     "iopub.status.idle": "2025-01-11T10:06:48.379468Z",
     "shell.execute_reply": "2025-01-11T10:06:48.378740Z"
    },
    "papermill": {
     "duration": 0.017861,
     "end_time": "2025-01-11T10:06:48.380945",
     "exception": false,
     "start_time": "2025-01-11T10:06:48.363084",
     "status": "completed"
    },
    "tags": []
   },
   "outputs": [],
   "source": [
    "ensemble_preds = np.dot(CFG.weights, ranked_preds)"
   ]
  },
  {
   "cell_type": "code",
   "execution_count": 47,
   "id": "68d4e246",
   "metadata": {
    "execution": {
     "iopub.execute_input": "2025-01-11T10:06:48.446381Z",
     "iopub.status.busy": "2025-01-11T10:06:48.446063Z",
     "iopub.status.idle": "2025-01-11T10:06:48.457925Z",
     "shell.execute_reply": "2025-01-11T10:06:48.457319Z"
    },
    "papermill": {
     "duration": 0.026741,
     "end_time": "2025-01-11T10:06:48.459347",
     "exception": false,
     "start_time": "2025-01-11T10:06:48.432606",
     "status": "completed"
    },
    "tags": []
   },
   "outputs": [],
   "source": [
    "subm_data = pd.read_csv(CFG.subm_path)\n",
    "subm_data['prediction'] = ensemble_preds"
   ]
  },
  {
   "cell_type": "code",
   "execution_count": 48,
   "id": "e4c80397",
   "metadata": {
    "execution": {
     "iopub.execute_input": "2025-01-11T10:06:48.485169Z",
     "iopub.status.busy": "2025-01-11T10:06:48.484923Z",
     "iopub.status.idle": "2025-01-11T10:06:48.493950Z",
     "shell.execute_reply": "2025-01-11T10:06:48.493230Z"
    },
    "papermill": {
     "duration": 0.023606,
     "end_time": "2025-01-11T10:06:48.495461",
     "exception": false,
     "start_time": "2025-01-11T10:06:48.471855",
     "status": "completed"
    },
    "tags": []
   },
   "outputs": [
    {
     "data": {
      "text/html": [
       "<div>\n",
       "<style scoped>\n",
       "    .dataframe tbody tr th:only-of-type {\n",
       "        vertical-align: middle;\n",
       "    }\n",
       "\n",
       "    .dataframe tbody tr th {\n",
       "        vertical-align: top;\n",
       "    }\n",
       "\n",
       "    .dataframe thead th {\n",
       "        text-align: right;\n",
       "    }\n",
       "</style>\n",
       "<table border=\"1\" class=\"dataframe\">\n",
       "  <thead>\n",
       "    <tr style=\"text-align: right;\">\n",
       "      <th></th>\n",
       "      <th>ID</th>\n",
       "      <th>prediction</th>\n",
       "    </tr>\n",
       "  </thead>\n",
       "  <tbody>\n",
       "    <tr>\n",
       "      <th>0</th>\n",
       "      <td>28800</td>\n",
       "      <td>76.0</td>\n",
       "    </tr>\n",
       "    <tr>\n",
       "      <th>1</th>\n",
       "      <td>28801</td>\n",
       "      <td>114.0</td>\n",
       "    </tr>\n",
       "    <tr>\n",
       "      <th>2</th>\n",
       "      <td>28802</td>\n",
       "      <td>38.0</td>\n",
       "    </tr>\n",
       "  </tbody>\n",
       "</table>\n",
       "</div>"
      ],
      "text/plain": [
       "      ID  prediction\n",
       "0  28800        76.0\n",
       "1  28801       114.0\n",
       "2  28802        38.0"
      ]
     },
     "metadata": {},
     "output_type": "display_data"
    }
   ],
   "source": [
    "subm_data.to_csv('submission.csv', index=False)\n",
    "display(subm_data.head())"
   ]
  }
 ],
 "metadata": {
  "kaggle": {
   "accelerator": "gpu",
   "dataSources": [
    {
     "databundleVersionId": 10381525,
     "sourceId": 70942,
     "sourceType": "competition"
    },
    {
     "sourceId": 211253469,
     "sourceType": "kernelVersion"
    },
    {
     "sourceId": 211322530,
     "sourceType": "kernelVersion"
    }
   ],
   "dockerImageVersionId": 30805,
   "isGpuEnabled": true,
   "isInternetEnabled": false,
   "language": "python",
   "sourceType": "notebook"
  },
  "kernelspec": {
   "display_name": "Python 3",
   "language": "python",
   "name": "python3"
  },
  "language_info": {
   "codemirror_mode": {
    "name": "ipython",
    "version": 3
   },
   "file_extension": ".py",
   "mimetype": "text/x-python",
   "name": "python",
   "nbconvert_exporter": "python",
   "pygments_lexer": "ipython3",
   "version": "3.10.14"
  },
  "papermill": {
   "default_parameters": {},
   "duration": 10316.745956,
   "end_time": "2025-01-11T10:06:49.727042",
   "environment_variables": {},
   "exception": null,
   "input_path": "__notebook__.ipynb",
   "output_path": "__notebook__.ipynb",
   "parameters": {},
   "start_time": "2025-01-11T07:14:52.981086",
   "version": "2.6.0"
  }
 },
 "nbformat": 4,
 "nbformat_minor": 5
}
