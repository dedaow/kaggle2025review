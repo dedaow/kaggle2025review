{
 "cells": [
  {
   "cell_type": "markdown",
   "id": "5667b8f4",
   "metadata": {
    "papermill": {
     "duration": 0.003932,
     "end_time": "2025-01-02T08:25:46.835568",
     "exception": false,
     "start_time": "2025-01-02T08:25:46.831636",
     "status": "completed"
    },
    "tags": []
   },
   "source": [
    "<div style=\"border: 5px solid #2e3b4e; border-radius: 35px; padding: 20px; font-family: Arial, sans-serif; line-height: 1.6; background-color: #FF0000; color: #2e3b4e;\">\n",
    "  <h2>Overview of Kaggle Competition: Playground Series S5E1</h2>\n",
    "  <ol>\n",
    "    <li><b>Objective:</b> Predict the future sales of a retail chain using past sales data, taking into account factors like date, store, and product details.</li>\n",
    "    <li><b>Data:</b>\n",
    "      <ul>\n",
    "        <li>Training data includes historical sales records with features such as date, store, and product category.</li>\n",
    "        <li>Test data contains similar features but without target sales values for prediction.</li>\n",
    "      </ul>\n",
    "    </li>\n",
    "    <li><b>Evaluation Metric:</b> Submissions are evaluated using Root Mean Squared Error (RMSE) on the test dataset. Lower RMSE indicates better performance.</li>\n",
    "    <li><b>Competition Focus:</b>\n",
    "      <ul>\n",
    "        <li>Focus on time-series forecasting techniques and handling structured data with seasonal and promotional patterns.</li>\n",
    "        <li>Leverage feature engineering, including encoding categorical data, handling missing values, and incorporating external features like holidays and events.</li>\n",
    "      </ul>\n",
    "    </li>\n",
    "    <li><b>Learning Opportunity:</b> This competition provides an excellent opportunity to practice and learn time-series forecasting and regression models. It also allows experimentation with different feature engineering approaches to improve predictions.</li>\n",
    "  </ol>\n",
    "</div>\n"
   ]
  },
  {
   "cell_type": "markdown",
   "id": "752bcf1f",
   "metadata": {
    "papermill": {
     "duration": 0.002894,
     "end_time": "2025-01-02T08:25:46.841824",
     "exception": false,
     "start_time": "2025-01-02T08:25:46.838930",
     "status": "completed"
    },
    "tags": []
   },
   "source": [
    "<a id=\"dataset-analysis\"></a>\n",
    "<p style=\"padding:30px;background-color:#FF0000;margin:0;color:#2e3b4e;font-family:Arial,sans-serif;font-size:250%;text-align:center;border-radius:10px;overflow:hidden;font-weight:800\">\n",
    "    🚀 Libraries 🚀"
   ]
  },
  {
   "cell_type": "code",
   "execution_count": 1,
   "id": "6e64fd6a",
   "metadata": {
    "execution": {
     "iopub.execute_input": "2025-01-02T08:25:46.848861Z",
     "iopub.status.busy": "2025-01-02T08:25:46.848619Z",
     "iopub.status.idle": "2025-01-02T08:25:56.308253Z",
     "shell.execute_reply": "2025-01-02T08:25:56.307571Z"
    },
    "papermill": {
     "duration": 9.464849,
     "end_time": "2025-01-02T08:25:56.309778",
     "exception": false,
     "start_time": "2025-01-02T08:25:46.844929",
     "status": "completed"
    },
    "tags": []
   },
   "outputs": [],
   "source": [
    "import numpy as np\n",
    "import pandas as pd\n",
    "from sklearn.preprocessing import StandardScaler\n",
    "from sklearn.model_selection import train_test_split\n",
    "from sklearn.preprocessing import MinMaxScaler, LabelEncoder\n",
    "from tensorflow.keras.models import Sequential\n",
    "from tensorflow.keras.layers import LSTM, GRU, Dense\n",
    "from sklearn.metrics import mean_absolute_percentage_error\n",
    "from tensorflow.keras.optimizers import Adam"
   ]
  },
  {
   "cell_type": "markdown",
   "id": "eb3ee84c",
   "metadata": {
    "papermill": {
     "duration": 0.003151,
     "end_time": "2025-01-02T08:25:56.316457",
     "exception": false,
     "start_time": "2025-01-02T08:25:56.313306",
     "status": "completed"
    },
    "tags": []
   },
   "source": [
    "<a id=\"dataset-analysis\"></a>\n",
    "<p style=\"padding:30px;background-color:#FF0000;margin:0;color:#2e3b4e;font-family:Arial,sans-serif;font-size:250%;text-align:center;border-radius:10px;overflow:hidden;font-weight:800\">\n",
    "    🚀 Data Exploring and Analysis 🚀"
   ]
  },
  {
   "cell_type": "code",
   "execution_count": 2,
   "id": "e286437d",
   "metadata": {
    "execution": {
     "iopub.execute_input": "2025-01-02T08:25:56.324043Z",
     "iopub.status.busy": "2025-01-02T08:25:56.323594Z",
     "iopub.status.idle": "2025-01-02T08:25:56.735563Z",
     "shell.execute_reply": "2025-01-02T08:25:56.734494Z"
    },
    "papermill": {
     "duration": 0.417591,
     "end_time": "2025-01-02T08:25:56.737230",
     "exception": false,
     "start_time": "2025-01-02T08:25:56.319639",
     "status": "completed"
    },
    "tags": []
   },
   "outputs": [],
   "source": [
    "# Load dataset\n",
    "train_data = pd.read_csv('/kaggle/input/playground-series-s5e1/train.csv')\n",
    "test_data=pd.read_csv('/kaggle/input/playground-series-s5e1/test.csv')"
   ]
  },
  {
   "cell_type": "markdown",
   "id": "330e39ab",
   "metadata": {
    "papermill": {
     "duration": 0.003262,
     "end_time": "2025-01-02T08:25:56.744081",
     "exception": false,
     "start_time": "2025-01-02T08:25:56.740819",
     "status": "completed"
    },
    "tags": []
   },
   "source": [
    "<a id=\"dataset-analysis\"></a>\n",
    "<p style=\"padding:30px;background-color:#FF0000;margin:0;color:#2e3b4e;font-family:Arial,sans-serif;font-size:250%;text-align:center;border-radius:10px;overflow:hidden;font-weight:800\">\n",
    "    🚀 Preprocessing 🚀"
   ]
  },
  {
   "cell_type": "code",
   "execution_count": 3,
   "id": "3b4066e7",
   "metadata": {
    "execution": {
     "iopub.execute_input": "2025-01-02T08:25:56.751100Z",
     "iopub.status.busy": "2025-01-02T08:25:56.750856Z",
     "iopub.status.idle": "2025-01-02T08:25:57.021002Z",
     "shell.execute_reply": "2025-01-02T08:25:57.020061Z"
    },
    "papermill": {
     "duration": 0.275232,
     "end_time": "2025-01-02T08:25:57.022356",
     "exception": false,
     "start_time": "2025-01-02T08:25:56.747124",
     "status": "completed"
    },
    "tags": []
   },
   "outputs": [
    {
     "name": "stdout",
     "output_type": "stream",
     "text": [
      "X_train_scaled shape: (177007, 6)\n",
      "y_train_scaled shape: (177007, 1)\n"
     ]
    }
   ],
   "source": [
    "# Preprocessing\n",
    "train_data['date'] = pd.to_datetime(train_data['date'])\n",
    "train_data['Year'] = train_data['date'].dt.year\n",
    "train_data['Month'] = train_data['date'].dt.month\n",
    "train_data['Day'] = train_data['date'].dt.day\n",
    "train_data = train_data.drop(['id', 'date'], axis=1)\n",
    "train_data['num_sold'] = np.log1p(train_data['num_sold'])\n",
    "\n",
    "# Encode categorical columns\n",
    "categorical_cols = ['country', 'store', 'product']\n",
    "label_encoders = {}\n",
    "for col in categorical_cols:\n",
    "    le = LabelEncoder()\n",
    "    train_data[col] = le.fit_transform(train_data[col])\n",
    "    label_encoders[col] = le\n",
    "\n",
    "# Split features and target\n",
    "X = train_data.drop('num_sold', axis=1)\n",
    "y = train_data['num_sold']\n",
    "\n",
    "# Train-validation split\n",
    "X_train, X_valid, y_train, y_valid = train_test_split(X, y, test_size=0.2, random_state=42)\n",
    "\n",
    "# Ensure that X and y have the same number of samples\n",
    "train_data = train_data.dropna(subset=['num_sold'])  # Drop rows where 'num_sold' is NaN\n",
    "\n",
    "# Split features and target again after dropping rows with NaN in the target\n",
    "X = train_data.drop('num_sold', axis=1)\n",
    "y = train_data['num_sold']\n",
    "\n",
    "# Train-validation split\n",
    "X_train, X_valid, y_train, y_valid = train_test_split(X, y, test_size=0.2, random_state=42)\n",
    "\n",
    "# Scale input features\n",
    "scaler = MinMaxScaler()\n",
    "X_train_scaled = scaler.fit_transform(X_train)\n",
    "X_valid_scaled = scaler.transform(X_valid)\n",
    "\n",
    "# Scale target variable\n",
    "target_scaler = StandardScaler()\n",
    "y_train_scaled = target_scaler.fit_transform(y_train.values.reshape(-1, 1))\n",
    "y_valid_scaled = target_scaler.transform(y_valid.values.reshape(-1, 1))\n",
    "\n",
    "# Ensure the same length after scaling\n",
    "print(f\"X_train_scaled shape: {X_train_scaled.shape}\")\n",
    "print(f\"y_train_scaled shape: {y_train_scaled.shape}\")\n",
    "\n",
    "\n",
    "# Reshape inputs for LSTM\n",
    "X_train_reshaped = X_train_scaled.reshape(X_train_scaled.shape[0], 1, X_train_scaled.shape[1])\n",
    "X_valid_reshaped = X_valid_scaled.reshape(X_valid_scaled.shape[0], 1, X_valid_scaled.shape[1])\n"
   ]
  },
  {
   "cell_type": "markdown",
   "id": "c81281ff",
   "metadata": {
    "papermill": {
     "duration": 0.003233,
     "end_time": "2025-01-02T08:25:57.029129",
     "exception": false,
     "start_time": "2025-01-02T08:25:57.025896",
     "status": "completed"
    },
    "tags": []
   },
   "source": [
    "<a id=\"dataset-analysis\"></a>\n",
    "<p style=\"padding:30px;background-color:#FF0000;margin:0;color:#2e3b4e;font-family:Arial,sans-serif;font-size:250%;text-align:center;border-radius:10px;overflow:hidden;font-weight:800\">\n",
    "    🚀 LSTM 🚀"
   ]
  },
  {
   "cell_type": "code",
   "execution_count": 4,
   "id": "8b364048",
   "metadata": {
    "execution": {
     "iopub.execute_input": "2025-01-02T08:25:57.036414Z",
     "iopub.status.busy": "2025-01-02T08:25:57.036139Z",
     "iopub.status.idle": "2025-01-02T08:29:11.520710Z",
     "shell.execute_reply": "2025-01-02T08:29:11.520003Z"
    },
    "papermill": {
     "duration": 194.489693,
     "end_time": "2025-01-02T08:29:11.522033",
     "exception": false,
     "start_time": "2025-01-02T08:25:57.032340",
     "status": "completed"
    },
    "tags": []
   },
   "outputs": [
    {
     "name": "stderr",
     "output_type": "stream",
     "text": [
      "/usr/local/lib/python3.10/dist-packages/keras/src/layers/rnn/rnn.py:204: UserWarning: Do not pass an `input_shape`/`input_dim` argument to a layer. When using Sequential models, prefer using an `Input(shape)` object as the first layer in the model instead.\n",
      "  super().__init__(**kwargs)\n"
     ]
    },
    {
     "data": {
      "text/html": [
       "<pre style=\"white-space:pre;overflow-x:auto;line-height:normal;font-family:Menlo,'DejaVu Sans Mono',consolas,'Courier New',monospace\"><span style=\"font-weight: bold\">Model: \"sequential\"</span>\n",
       "</pre>\n"
      ],
      "text/plain": [
       "\u001b[1mModel: \"sequential\"\u001b[0m\n"
      ]
     },
     "metadata": {},
     "output_type": "display_data"
    },
    {
     "data": {
      "text/html": [
       "<pre style=\"white-space:pre;overflow-x:auto;line-height:normal;font-family:Menlo,'DejaVu Sans Mono',consolas,'Courier New',monospace\">┏━━━━━━━━━━━━━━━━━━━━━━━━━━━━━━━━━━━━━━┳━━━━━━━━━━━━━━━━━━━━━━━━━━━━━┳━━━━━━━━━━━━━━━━━┓\n",
       "┃<span style=\"font-weight: bold\"> Layer (type)                         </span>┃<span style=\"font-weight: bold\"> Output Shape                </span>┃<span style=\"font-weight: bold\">         Param # </span>┃\n",
       "┡━━━━━━━━━━━━━━━━━━━━━━━━━━━━━━━━━━━━━━╇━━━━━━━━━━━━━━━━━━━━━━━━━━━━━╇━━━━━━━━━━━━━━━━━┩\n",
       "│ lstm (<span style=\"color: #0087ff; text-decoration-color: #0087ff\">LSTM</span>)                          │ (<span style=\"color: #00d7ff; text-decoration-color: #00d7ff\">None</span>, <span style=\"color: #00af00; text-decoration-color: #00af00\">1</span>, <span style=\"color: #00af00; text-decoration-color: #00af00\">50</span>)               │          <span style=\"color: #00af00; text-decoration-color: #00af00\">11,400</span> │\n",
       "├──────────────────────────────────────┼─────────────────────────────┼─────────────────┤\n",
       "│ dropout (<span style=\"color: #0087ff; text-decoration-color: #0087ff\">Dropout</span>)                    │ (<span style=\"color: #00d7ff; text-decoration-color: #00d7ff\">None</span>, <span style=\"color: #00af00; text-decoration-color: #00af00\">1</span>, <span style=\"color: #00af00; text-decoration-color: #00af00\">50</span>)               │               <span style=\"color: #00af00; text-decoration-color: #00af00\">0</span> │\n",
       "├──────────────────────────────────────┼─────────────────────────────┼─────────────────┤\n",
       "│ lstm_1 (<span style=\"color: #0087ff; text-decoration-color: #0087ff\">LSTM</span>)                        │ (<span style=\"color: #00d7ff; text-decoration-color: #00d7ff\">None</span>, <span style=\"color: #00af00; text-decoration-color: #00af00\">1</span>, <span style=\"color: #00af00; text-decoration-color: #00af00\">50</span>)               │          <span style=\"color: #00af00; text-decoration-color: #00af00\">20,200</span> │\n",
       "├──────────────────────────────────────┼─────────────────────────────┼─────────────────┤\n",
       "│ dropout_1 (<span style=\"color: #0087ff; text-decoration-color: #0087ff\">Dropout</span>)                  │ (<span style=\"color: #00d7ff; text-decoration-color: #00d7ff\">None</span>, <span style=\"color: #00af00; text-decoration-color: #00af00\">1</span>, <span style=\"color: #00af00; text-decoration-color: #00af00\">50</span>)               │               <span style=\"color: #00af00; text-decoration-color: #00af00\">0</span> │\n",
       "├──────────────────────────────────────┼─────────────────────────────┼─────────────────┤\n",
       "│ lstm_2 (<span style=\"color: #0087ff; text-decoration-color: #0087ff\">LSTM</span>)                        │ (<span style=\"color: #00d7ff; text-decoration-color: #00d7ff\">None</span>, <span style=\"color: #00af00; text-decoration-color: #00af00\">50</span>)                  │          <span style=\"color: #00af00; text-decoration-color: #00af00\">20,200</span> │\n",
       "├──────────────────────────────────────┼─────────────────────────────┼─────────────────┤\n",
       "│ dropout_2 (<span style=\"color: #0087ff; text-decoration-color: #0087ff\">Dropout</span>)                  │ (<span style=\"color: #00d7ff; text-decoration-color: #00d7ff\">None</span>, <span style=\"color: #00af00; text-decoration-color: #00af00\">50</span>)                  │               <span style=\"color: #00af00; text-decoration-color: #00af00\">0</span> │\n",
       "├──────────────────────────────────────┼─────────────────────────────┼─────────────────┤\n",
       "│ dense (<span style=\"color: #0087ff; text-decoration-color: #0087ff\">Dense</span>)                        │ (<span style=\"color: #00d7ff; text-decoration-color: #00d7ff\">None</span>, <span style=\"color: #00af00; text-decoration-color: #00af00\">1</span>)                   │              <span style=\"color: #00af00; text-decoration-color: #00af00\">51</span> │\n",
       "└──────────────────────────────────────┴─────────────────────────────┴─────────────────┘\n",
       "</pre>\n"
      ],
      "text/plain": [
       "┏━━━━━━━━━━━━━━━━━━━━━━━━━━━━━━━━━━━━━━┳━━━━━━━━━━━━━━━━━━━━━━━━━━━━━┳━━━━━━━━━━━━━━━━━┓\n",
       "┃\u001b[1m \u001b[0m\u001b[1mLayer (type)                        \u001b[0m\u001b[1m \u001b[0m┃\u001b[1m \u001b[0m\u001b[1mOutput Shape               \u001b[0m\u001b[1m \u001b[0m┃\u001b[1m \u001b[0m\u001b[1m        Param #\u001b[0m\u001b[1m \u001b[0m┃\n",
       "┡━━━━━━━━━━━━━━━━━━━━━━━━━━━━━━━━━━━━━━╇━━━━━━━━━━━━━━━━━━━━━━━━━━━━━╇━━━━━━━━━━━━━━━━━┩\n",
       "│ lstm (\u001b[38;5;33mLSTM\u001b[0m)                          │ (\u001b[38;5;45mNone\u001b[0m, \u001b[38;5;34m1\u001b[0m, \u001b[38;5;34m50\u001b[0m)               │          \u001b[38;5;34m11,400\u001b[0m │\n",
       "├──────────────────────────────────────┼─────────────────────────────┼─────────────────┤\n",
       "│ dropout (\u001b[38;5;33mDropout\u001b[0m)                    │ (\u001b[38;5;45mNone\u001b[0m, \u001b[38;5;34m1\u001b[0m, \u001b[38;5;34m50\u001b[0m)               │               \u001b[38;5;34m0\u001b[0m │\n",
       "├──────────────────────────────────────┼─────────────────────────────┼─────────────────┤\n",
       "│ lstm_1 (\u001b[38;5;33mLSTM\u001b[0m)                        │ (\u001b[38;5;45mNone\u001b[0m, \u001b[38;5;34m1\u001b[0m, \u001b[38;5;34m50\u001b[0m)               │          \u001b[38;5;34m20,200\u001b[0m │\n",
       "├──────────────────────────────────────┼─────────────────────────────┼─────────────────┤\n",
       "│ dropout_1 (\u001b[38;5;33mDropout\u001b[0m)                  │ (\u001b[38;5;45mNone\u001b[0m, \u001b[38;5;34m1\u001b[0m, \u001b[38;5;34m50\u001b[0m)               │               \u001b[38;5;34m0\u001b[0m │\n",
       "├──────────────────────────────────────┼─────────────────────────────┼─────────────────┤\n",
       "│ lstm_2 (\u001b[38;5;33mLSTM\u001b[0m)                        │ (\u001b[38;5;45mNone\u001b[0m, \u001b[38;5;34m50\u001b[0m)                  │          \u001b[38;5;34m20,200\u001b[0m │\n",
       "├──────────────────────────────────────┼─────────────────────────────┼─────────────────┤\n",
       "│ dropout_2 (\u001b[38;5;33mDropout\u001b[0m)                  │ (\u001b[38;5;45mNone\u001b[0m, \u001b[38;5;34m50\u001b[0m)                  │               \u001b[38;5;34m0\u001b[0m │\n",
       "├──────────────────────────────────────┼─────────────────────────────┼─────────────────┤\n",
       "│ dense (\u001b[38;5;33mDense\u001b[0m)                        │ (\u001b[38;5;45mNone\u001b[0m, \u001b[38;5;34m1\u001b[0m)                   │              \u001b[38;5;34m51\u001b[0m │\n",
       "└──────────────────────────────────────┴─────────────────────────────┴─────────────────┘\n"
      ]
     },
     "metadata": {},
     "output_type": "display_data"
    },
    {
     "data": {
      "text/html": [
       "<pre style=\"white-space:pre;overflow-x:auto;line-height:normal;font-family:Menlo,'DejaVu Sans Mono',consolas,'Courier New',monospace\"><span style=\"font-weight: bold\"> Total params: </span><span style=\"color: #00af00; text-decoration-color: #00af00\">51,851</span> (202.54 KB)\n",
       "</pre>\n"
      ],
      "text/plain": [
       "\u001b[1m Total params: \u001b[0m\u001b[38;5;34m51,851\u001b[0m (202.54 KB)\n"
      ]
     },
     "metadata": {},
     "output_type": "display_data"
    },
    {
     "data": {
      "text/html": [
       "<pre style=\"white-space:pre;overflow-x:auto;line-height:normal;font-family:Menlo,'DejaVu Sans Mono',consolas,'Courier New',monospace\"><span style=\"font-weight: bold\"> Trainable params: </span><span style=\"color: #00af00; text-decoration-color: #00af00\">51,851</span> (202.54 KB)\n",
       "</pre>\n"
      ],
      "text/plain": [
       "\u001b[1m Trainable params: \u001b[0m\u001b[38;5;34m51,851\u001b[0m (202.54 KB)\n"
      ]
     },
     "metadata": {},
     "output_type": "display_data"
    },
    {
     "data": {
      "text/html": [
       "<pre style=\"white-space:pre;overflow-x:auto;line-height:normal;font-family:Menlo,'DejaVu Sans Mono',consolas,'Courier New',monospace\"><span style=\"font-weight: bold\"> Non-trainable params: </span><span style=\"color: #00af00; text-decoration-color: #00af00\">0</span> (0.00 B)\n",
       "</pre>\n"
      ],
      "text/plain": [
       "\u001b[1m Non-trainable params: \u001b[0m\u001b[38;5;34m0\u001b[0m (0.00 B)\n"
      ]
     },
     "metadata": {},
     "output_type": "display_data"
    },
    {
     "name": "stdout",
     "output_type": "stream",
     "text": [
      "Epoch 1/20\n",
      "\u001b[1m5532/5532\u001b[0m \u001b[32m━━━━━━━━━━━━━━━━━━━━\u001b[0m\u001b[37m\u001b[0m \u001b[1m19s\u001b[0m 2ms/step - loss: 0.4002 - val_loss: 0.0195\n",
      "Epoch 2/20\n",
      "\u001b[1m5532/5532\u001b[0m \u001b[32m━━━━━━━━━━━━━━━━━━━━\u001b[0m\u001b[37m\u001b[0m \u001b[1m9s\u001b[0m 2ms/step - loss: 0.0539 - val_loss: 0.0127\n",
      "Epoch 3/20\n",
      "\u001b[1m5532/5532\u001b[0m \u001b[32m━━━━━━━━━━━━━━━━━━━━\u001b[0m\u001b[37m\u001b[0m \u001b[1m9s\u001b[0m 2ms/step - loss: 0.0411 - val_loss: 0.0112\n",
      "Epoch 4/20\n",
      "\u001b[1m5532/5532\u001b[0m \u001b[32m━━━━━━━━━━━━━━━━━━━━\u001b[0m\u001b[37m\u001b[0m \u001b[1m9s\u001b[0m 2ms/step - loss: 0.0360 - val_loss: 0.0096\n",
      "Epoch 5/20\n",
      "\u001b[1m5532/5532\u001b[0m \u001b[32m━━━━━━━━━━━━━━━━━━━━\u001b[0m\u001b[37m\u001b[0m \u001b[1m9s\u001b[0m 2ms/step - loss: 0.0331 - val_loss: 0.0101\n",
      "Epoch 6/20\n",
      "\u001b[1m5532/5532\u001b[0m \u001b[32m━━━━━━━━━━━━━━━━━━━━\u001b[0m\u001b[37m\u001b[0m \u001b[1m9s\u001b[0m 2ms/step - loss: 0.0314 - val_loss: 0.0097\n",
      "Epoch 7/20\n",
      "\u001b[1m5532/5532\u001b[0m \u001b[32m━━━━━━━━━━━━━━━━━━━━\u001b[0m\u001b[37m\u001b[0m \u001b[1m9s\u001b[0m 2ms/step - loss: 0.0302 - val_loss: 0.0088\n",
      "Epoch 8/20\n",
      "\u001b[1m5532/5532\u001b[0m \u001b[32m━━━━━━━━━━━━━━━━━━━━\u001b[0m\u001b[37m\u001b[0m \u001b[1m9s\u001b[0m 2ms/step - loss: 0.0293 - val_loss: 0.0080\n",
      "Epoch 9/20\n",
      "\u001b[1m5532/5532\u001b[0m \u001b[32m━━━━━━━━━━━━━━━━━━━━\u001b[0m\u001b[37m\u001b[0m \u001b[1m9s\u001b[0m 2ms/step - loss: 0.0283 - val_loss: 0.0086\n",
      "Epoch 10/20\n",
      "\u001b[1m5532/5532\u001b[0m \u001b[32m━━━━━━━━━━━━━━━━━━━━\u001b[0m\u001b[37m\u001b[0m \u001b[1m9s\u001b[0m 2ms/step - loss: 0.0279 - val_loss: 0.0078\n",
      "Epoch 11/20\n",
      "\u001b[1m5532/5532\u001b[0m \u001b[32m━━━━━━━━━━━━━━━━━━━━\u001b[0m\u001b[37m\u001b[0m \u001b[1m9s\u001b[0m 2ms/step - loss: 0.0276 - val_loss: 0.0084\n",
      "Epoch 12/20\n",
      "\u001b[1m5532/5532\u001b[0m \u001b[32m━━━━━━━━━━━━━━━━━━━━\u001b[0m\u001b[37m\u001b[0m \u001b[1m9s\u001b[0m 2ms/step - loss: 0.0271 - val_loss: 0.0079\n",
      "Epoch 13/20\n",
      "\u001b[1m5532/5532\u001b[0m \u001b[32m━━━━━━━━━━━━━━━━━━━━\u001b[0m\u001b[37m\u001b[0m \u001b[1m9s\u001b[0m 2ms/step - loss: 0.0269 - val_loss: 0.0077\n",
      "Epoch 14/20\n",
      "\u001b[1m5532/5532\u001b[0m \u001b[32m━━━━━━━━━━━━━━━━━━━━\u001b[0m\u001b[37m\u001b[0m \u001b[1m9s\u001b[0m 2ms/step - loss: 0.0265 - val_loss: 0.0085\n",
      "Epoch 15/20\n",
      "\u001b[1m5532/5532\u001b[0m \u001b[32m━━━━━━━━━━━━━━━━━━━━\u001b[0m\u001b[37m\u001b[0m \u001b[1m9s\u001b[0m 2ms/step - loss: 0.0263 - val_loss: 0.0083\n",
      "Epoch 16/20\n",
      "\u001b[1m5532/5532\u001b[0m \u001b[32m━━━━━━━━━━━━━━━━━━━━\u001b[0m\u001b[37m\u001b[0m \u001b[1m9s\u001b[0m 2ms/step - loss: 0.0261 - val_loss: 0.0080\n",
      "Epoch 17/20\n",
      "\u001b[1m5532/5532\u001b[0m \u001b[32m━━━━━━━━━━━━━━━━━━━━\u001b[0m\u001b[37m\u001b[0m \u001b[1m9s\u001b[0m 2ms/step - loss: 0.0254 - val_loss: 0.0080\n",
      "Epoch 18/20\n",
      "\u001b[1m5532/5532\u001b[0m \u001b[32m━━━━━━━━━━━━━━━━━━━━\u001b[0m\u001b[37m\u001b[0m \u001b[1m9s\u001b[0m 2ms/step - loss: 0.0257 - val_loss: 0.0071\n",
      "Epoch 19/20\n",
      "\u001b[1m5532/5532\u001b[0m \u001b[32m━━━━━━━━━━━━━━━━━━━━\u001b[0m\u001b[37m\u001b[0m \u001b[1m9s\u001b[0m 2ms/step - loss: 0.0254 - val_loss: 0.0075\n",
      "Epoch 20/20\n",
      "\u001b[1m5532/5532\u001b[0m \u001b[32m━━━━━━━━━━━━━━━━━━━━\u001b[0m\u001b[37m\u001b[0m \u001b[1m9s\u001b[0m 2ms/step - loss: 0.0253 - val_loss: 0.0070\n"
     ]
    }
   ],
   "source": [
    "from tensorflow.keras.layers import Dropout\n",
    "\n",
    "lstm_model = Sequential()\n",
    "lstm_model.add(LSTM(units=50, activation='relu', return_sequences=True, input_shape=(X_train_reshaped.shape[1], X_train_reshaped.shape[2])))\n",
    "lstm_model.add(Dropout(0.2))\n",
    "lstm_model.add(LSTM(units=50, activation='relu', return_sequences=True))\n",
    "lstm_model.add(Dropout(0.2))\n",
    "lstm_model.add(LSTM(units=50, activation='relu'))\n",
    "lstm_model.add(Dropout(0.2))\n",
    "lstm_model.add(Dense(1))\n",
    "\n",
    "lstm_model.compile(optimizer=Adam(learning_rate=0.001), loss='mse')\n",
    "lstm_model.summary()\n",
    "\n",
    "\n",
    "# Train the model\n",
    "history = lstm_model.fit(X_train_reshaped, y_train_scaled, epochs=20, batch_size=32, validation_data=(X_valid_reshaped, y_valid_scaled))\n"
   ]
  },
  {
   "cell_type": "code",
   "execution_count": 5,
   "id": "a62878a4",
   "metadata": {
    "execution": {
     "iopub.execute_input": "2025-01-02T08:29:11.861029Z",
     "iopub.status.busy": "2025-01-02T08:29:11.860721Z",
     "iopub.status.idle": "2025-01-02T08:29:15.422252Z",
     "shell.execute_reply": "2025-01-02T08:29:15.421449Z"
    },
    "papermill": {
     "duration": 3.716677,
     "end_time": "2025-01-02T08:29:15.423677",
     "exception": false,
     "start_time": "2025-01-02T08:29:11.707000",
     "status": "completed"
    },
    "tags": []
   },
   "outputs": [
    {
     "name": "stdout",
     "output_type": "stream",
     "text": [
      "\u001b[1m1383/1383\u001b[0m \u001b[32m━━━━━━━━━━━━━━━━━━━━\u001b[0m\u001b[37m\u001b[0m \u001b[1m3s\u001b[0m 2ms/step\n",
      "[[1373.4017  ]\n",
      " [1057.8514  ]\n",
      " [ 328.99124 ]\n",
      " ...\n",
      " [  21.340075]\n",
      " [1239.5334  ]\n",
      " [1077.538   ]]\n",
      "LSTM Validation MAPE: 0.10206269295470809\n"
     ]
    }
   ],
   "source": [
    "y_valid_pred = lstm_model.predict(X_valid_reshaped)\n",
    "y_valid_pred = target_scaler.inverse_transform(y_valid_pred)  # Convert predictions back to original scale\n",
    "y_valid_pred_original = np.expm1(y_valid_pred)\n",
    "print(y_valid_pred_original)\n",
    "\n",
    "# Calculate MAPE on the validation data\n",
    "from sklearn.metrics import mean_absolute_percentage_error\n",
    "mape = mean_absolute_percentage_error(np.expm1(y_valid), np.expm1(y_valid_pred))\n",
    "print(f\"LSTM Validation MAPE: {mape}\")"
   ]
  },
  {
   "cell_type": "code",
   "execution_count": 6,
   "id": "f9402677",
   "metadata": {
    "execution": {
     "iopub.execute_input": "2025-01-02T08:29:15.713403Z",
     "iopub.status.busy": "2025-01-02T08:29:15.713068Z",
     "iopub.status.idle": "2025-01-02T08:29:15.999033Z",
     "shell.execute_reply": "2025-01-02T08:29:15.998161Z"
    },
    "papermill": {
     "duration": 0.431157,
     "end_time": "2025-01-02T08:29:16.000441",
     "exception": false,
     "start_time": "2025-01-02T08:29:15.569284",
     "status": "completed"
    },
    "tags": []
   },
   "outputs": [
    {
     "data": {
      "image/png": "[encoded data removed]",
      "text/plain": [
       "<Figure size 640x480 with 1 Axes>"
      ]
     },
     "metadata": {},
     "output_type": "display_data"
    }
   ],
   "source": [
    "import matplotlib.pyplot as plt\n",
    "plt.plot(history.history['loss'], label='Train')\n",
    "plt.plot(history.history['val_loss'], label='Val')\n",
    "plt.title('Loss Curve')\n",
    "plt.xlabel('Epochs')\n",
    "plt.ylabel('Loss')\n",
    "plt.legend()\n",
    "plt.show()\n"
   ]
  },
  {
   "cell_type": "markdown",
   "id": "1fab02d7",
   "metadata": {
    "papermill": {
     "duration": 0.145564,
     "end_time": "2025-01-02T08:29:16.294478",
     "exception": false,
     "start_time": "2025-01-02T08:29:16.148914",
     "status": "completed"
    },
    "tags": []
   },
   "source": [
    "<a id=\"dataset-analysis\"></a>\n",
    "<p style=\"padding:30px;background-color:#FF0000;margin:0;color:#2e3b4e;font-family:Arial,sans-serif;font-size:250%;text-align:center;border-radius:10px;overflow:hidden;font-weight:800\">\n",
    "    🚀 GRU 🚀"
   ]
  },
  {
   "cell_type": "code",
   "execution_count": 7,
   "id": "1c62465f",
   "metadata": {
    "execution": {
     "iopub.execute_input": "2025-01-02T08:29:16.590234Z",
     "iopub.status.busy": "2025-01-02T08:29:16.589950Z",
     "iopub.status.idle": "2025-01-02T08:35:50.355688Z",
     "shell.execute_reply": "2025-01-02T08:35:50.354782Z"
    },
    "papermill": {
     "duration": 393.915462,
     "end_time": "2025-01-02T08:35:50.357051",
     "exception": false,
     "start_time": "2025-01-02T08:29:16.441589",
     "status": "completed"
    },
    "tags": []
   },
   "outputs": [
    {
     "name": "stdout",
     "output_type": "stream",
     "text": [
      "Epoch 1/50\n"
     ]
    },
    {
     "name": "stderr",
     "output_type": "stream",
     "text": [
      "/usr/local/lib/python3.10/dist-packages/keras/src/layers/rnn/rnn.py:204: UserWarning: Do not pass an `input_shape`/`input_dim` argument to a layer. When using Sequential models, prefer using an `Input(shape)` object as the first layer in the model instead.\n",
      "  super().__init__(**kwargs)\n"
     ]
    },
    {
     "name": "stdout",
     "output_type": "stream",
     "text": [
      "\u001b[1m5532/5532\u001b[0m \u001b[32m━━━━━━━━━━━━━━━━━━━━\u001b[0m\u001b[37m\u001b[0m \u001b[1m11s\u001b[0m 2ms/step - loss: 4.7604 - val_loss: 0.8325\n",
      "Epoch 2/50\n",
      "\u001b[1m5532/5532\u001b[0m \u001b[32m━━━━━━━━━━━━━━━━━━━━\u001b[0m\u001b[37m\u001b[0m \u001b[1m8s\u001b[0m 1ms/step - loss: 0.6601 - val_loss: 0.0820\n",
      "Epoch 3/50\n",
      "\u001b[1m5532/5532\u001b[0m \u001b[32m━━━━━━━━━━━━━━━━━━━━\u001b[0m\u001b[37m\u001b[0m \u001b[1m8s\u001b[0m 1ms/step - loss: 0.0458 - val_loss: 0.0216\n",
      "Epoch 4/50\n",
      "\u001b[1m5532/5532\u001b[0m \u001b[32m━━━━━━━━━━━━━━━━━━━━\u001b[0m\u001b[37m\u001b[0m \u001b[1m8s\u001b[0m 1ms/step - loss: 0.0187 - val_loss: 0.0165\n",
      "Epoch 5/50\n",
      "\u001b[1m5532/5532\u001b[0m \u001b[32m━━━━━━━━━━━━━━━━━━━━\u001b[0m\u001b[37m\u001b[0m \u001b[1m8s\u001b[0m 1ms/step - loss: 0.0177 - val_loss: 0.0190\n",
      "Epoch 6/50\n",
      "\u001b[1m5532/5532\u001b[0m \u001b[32m━━━━━━━━━━━━━━━━━━━━\u001b[0m\u001b[37m\u001b[0m \u001b[1m8s\u001b[0m 1ms/step - loss: 0.0172 - val_loss: 0.0162\n",
      "Epoch 7/50\n",
      "\u001b[1m5532/5532\u001b[0m \u001b[32m━━━━━━━━━━━━━━━━━━━━\u001b[0m\u001b[37m\u001b[0m \u001b[1m8s\u001b[0m 1ms/step - loss: 0.0159 - val_loss: 0.0154\n",
      "Epoch 8/50\n",
      "\u001b[1m5532/5532\u001b[0m \u001b[32m━━━━━━━━━━━━━━━━━━━━\u001b[0m\u001b[37m\u001b[0m \u001b[1m8s\u001b[0m 1ms/step - loss: 0.0155 - val_loss: 0.0198\n",
      "Epoch 9/50\n",
      "\u001b[1m5532/5532\u001b[0m \u001b[32m━━━━━━━━━━━━━━━━━━━━\u001b[0m\u001b[37m\u001b[0m \u001b[1m8s\u001b[0m 1ms/step - loss: 0.0152 - val_loss: 0.0139\n",
      "Epoch 10/50\n",
      "\u001b[1m5532/5532\u001b[0m \u001b[32m━━━━━━━━━━━━━━━━━━━━\u001b[0m\u001b[37m\u001b[0m \u001b[1m8s\u001b[0m 1ms/step - loss: 0.0148 - val_loss: 0.0154\n",
      "Epoch 11/50\n",
      "\u001b[1m5532/5532\u001b[0m \u001b[32m━━━━━━━━━━━━━━━━━━━━\u001b[0m\u001b[37m\u001b[0m \u001b[1m8s\u001b[0m 1ms/step - loss: 0.0144 - val_loss: 0.0174\n",
      "Epoch 12/50\n",
      "\u001b[1m5532/5532\u001b[0m \u001b[32m━━━━━━━━━━━━━━━━━━━━\u001b[0m\u001b[37m\u001b[0m \u001b[1m8s\u001b[0m 1ms/step - loss: 0.0142 - val_loss: 0.0158\n",
      "Epoch 13/50\n",
      "\u001b[1m5532/5532\u001b[0m \u001b[32m━━━━━━━━━━━━━━━━━━━━\u001b[0m\u001b[37m\u001b[0m \u001b[1m8s\u001b[0m 1ms/step - loss: 0.0141 - val_loss: 0.0136\n",
      "Epoch 14/50\n",
      "\u001b[1m5532/5532\u001b[0m \u001b[32m━━━━━━━━━━━━━━━━━━━━\u001b[0m\u001b[37m\u001b[0m \u001b[1m8s\u001b[0m 1ms/step - loss: 0.0141 - val_loss: 0.0125\n",
      "Epoch 15/50\n",
      "\u001b[1m5532/5532\u001b[0m \u001b[32m━━━━━━━━━━━━━━━━━━━━\u001b[0m\u001b[37m\u001b[0m \u001b[1m8s\u001b[0m 1ms/step - loss: 0.0135 - val_loss: 0.0128\n",
      "Epoch 16/50\n",
      "\u001b[1m5532/5532\u001b[0m \u001b[32m━━━━━━━━━━━━━━━━━━━━\u001b[0m\u001b[37m\u001b[0m \u001b[1m8s\u001b[0m 1ms/step - loss: 0.0136 - val_loss: 0.0132\n",
      "Epoch 17/50\n",
      "\u001b[1m5532/5532\u001b[0m \u001b[32m━━━━━━━━━━━━━━━━━━━━\u001b[0m\u001b[37m\u001b[0m \u001b[1m8s\u001b[0m 1ms/step - loss: 0.0135 - val_loss: 0.0161\n",
      "Epoch 18/50\n",
      "\u001b[1m5532/5532\u001b[0m \u001b[32m━━━━━━━━━━━━━━━━━━━━\u001b[0m\u001b[37m\u001b[0m \u001b[1m8s\u001b[0m 1ms/step - loss: 0.0134 - val_loss: 0.0119\n",
      "Epoch 19/50\n",
      "\u001b[1m5532/5532\u001b[0m \u001b[32m━━━━━━━━━━━━━━━━━━━━\u001b[0m\u001b[37m\u001b[0m \u001b[1m8s\u001b[0m 1ms/step - loss: 0.0132 - val_loss: 0.0132\n",
      "Epoch 20/50\n",
      "\u001b[1m5532/5532\u001b[0m \u001b[32m━━━━━━━━━━━━━━━━━━━━\u001b[0m\u001b[37m\u001b[0m \u001b[1m8s\u001b[0m 1ms/step - loss: 0.0131 - val_loss: 0.0140\n",
      "Epoch 21/50\n",
      "\u001b[1m5532/5532\u001b[0m \u001b[32m━━━━━━━━━━━━━━━━━━━━\u001b[0m\u001b[37m\u001b[0m \u001b[1m8s\u001b[0m 1ms/step - loss: 0.0132 - val_loss: 0.0138\n",
      "Epoch 22/50\n",
      "\u001b[1m5532/5532\u001b[0m \u001b[32m━━━━━━━━━━━━━━━━━━━━\u001b[0m\u001b[37m\u001b[0m \u001b[1m8s\u001b[0m 1ms/step - loss: 0.0130 - val_loss: 0.0122\n",
      "Epoch 23/50\n",
      "\u001b[1m5532/5532\u001b[0m \u001b[32m━━━━━━━━━━━━━━━━━━━━\u001b[0m\u001b[37m\u001b[0m \u001b[1m8s\u001b[0m 1ms/step - loss: 0.0128 - val_loss: 0.0132\n",
      "Epoch 24/50\n",
      "\u001b[1m5532/5532\u001b[0m \u001b[32m━━━━━━━━━━━━━━━━━━━━\u001b[0m\u001b[37m\u001b[0m \u001b[1m8s\u001b[0m 1ms/step - loss: 0.0128 - val_loss: 0.0115\n",
      "Epoch 25/50\n",
      "\u001b[1m5532/5532\u001b[0m \u001b[32m━━━━━━━━━━━━━━━━━━━━\u001b[0m\u001b[37m\u001b[0m \u001b[1m8s\u001b[0m 1ms/step - loss: 0.0127 - val_loss: 0.0141\n",
      "Epoch 26/50\n",
      "\u001b[1m5532/5532\u001b[0m \u001b[32m━━━━━━━━━━━━━━━━━━━━\u001b[0m\u001b[37m\u001b[0m \u001b[1m8s\u001b[0m 1ms/step - loss: 0.0127 - val_loss: 0.0131\n",
      "Epoch 27/50\n",
      "\u001b[1m5532/5532\u001b[0m \u001b[32m━━━━━━━━━━━━━━━━━━━━\u001b[0m\u001b[37m\u001b[0m \u001b[1m8s\u001b[0m 1ms/step - loss: 0.0125 - val_loss: 0.0123\n",
      "Epoch 28/50\n",
      "\u001b[1m5532/5532\u001b[0m \u001b[32m━━━━━━━━━━━━━━━━━━━━\u001b[0m\u001b[37m\u001b[0m \u001b[1m8s\u001b[0m 1ms/step - loss: 0.0125 - val_loss: 0.0112\n",
      "Epoch 29/50\n",
      "\u001b[1m5532/5532\u001b[0m \u001b[32m━━━━━━━━━━━━━━━━━━━━\u001b[0m\u001b[37m\u001b[0m \u001b[1m8s\u001b[0m 1ms/step - loss: 0.0125 - val_loss: 0.0122\n",
      "Epoch 30/50\n",
      "\u001b[1m5532/5532\u001b[0m \u001b[32m━━━━━━━━━━━━━━━━━━━━\u001b[0m\u001b[37m\u001b[0m \u001b[1m8s\u001b[0m 1ms/step - loss: 0.0124 - val_loss: 0.0129\n",
      "Epoch 31/50\n",
      "\u001b[1m5532/5532\u001b[0m \u001b[32m━━━━━━━━━━━━━━━━━━━━\u001b[0m\u001b[37m\u001b[0m \u001b[1m8s\u001b[0m 1ms/step - loss: 0.0125 - val_loss: 0.0155\n",
      "Epoch 32/50\n",
      "\u001b[1m5532/5532\u001b[0m \u001b[32m━━━━━━━━━━━━━━━━━━━━\u001b[0m\u001b[37m\u001b[0m \u001b[1m8s\u001b[0m 1ms/step - loss: 0.0125 - val_loss: 0.0152\n",
      "Epoch 33/50\n",
      "\u001b[1m5532/5532\u001b[0m \u001b[32m━━━━━━━━━━━━━━━━━━━━\u001b[0m\u001b[37m\u001b[0m \u001b[1m8s\u001b[0m 1ms/step - loss: 0.0124 - val_loss: 0.0115\n",
      "Epoch 34/50\n",
      "\u001b[1m5532/5532\u001b[0m \u001b[32m━━━━━━━━━━━━━━━━━━━━\u001b[0m\u001b[37m\u001b[0m \u001b[1m8s\u001b[0m 1ms/step - loss: 0.0124 - val_loss: 0.0115\n",
      "Epoch 35/50\n",
      "\u001b[1m5532/5532\u001b[0m \u001b[32m━━━━━━━━━━━━━━━━━━━━\u001b[0m\u001b[37m\u001b[0m \u001b[1m8s\u001b[0m 1ms/step - loss: 0.0124 - val_loss: 0.0123\n",
      "Epoch 36/50\n",
      "\u001b[1m5532/5532\u001b[0m \u001b[32m━━━━━━━━━━━━━━━━━━━━\u001b[0m\u001b[37m\u001b[0m \u001b[1m8s\u001b[0m 1ms/step - loss: 0.0124 - val_loss: 0.0118\n",
      "Epoch 37/50\n",
      "\u001b[1m5532/5532\u001b[0m \u001b[32m━━━━━━━━━━━━━━━━━━━━\u001b[0m\u001b[37m\u001b[0m \u001b[1m8s\u001b[0m 1ms/step - loss: 0.0124 - val_loss: 0.0169\n",
      "Epoch 38/50\n",
      "\u001b[1m5532/5532\u001b[0m \u001b[32m━━━━━━━━━━━━━━━━━━━━\u001b[0m\u001b[37m\u001b[0m \u001b[1m8s\u001b[0m 1ms/step - loss: 0.0122 - val_loss: 0.0139\n",
      "Epoch 39/50\n",
      "\u001b[1m5532/5532\u001b[0m \u001b[32m━━━━━━━━━━━━━━━━━━━━\u001b[0m\u001b[37m\u001b[0m \u001b[1m8s\u001b[0m 1ms/step - loss: 0.0123 - val_loss: 0.0116\n",
      "Epoch 40/50\n",
      "\u001b[1m5532/5532\u001b[0m \u001b[32m━━━━━━━━━━━━━━━━━━━━\u001b[0m\u001b[37m\u001b[0m \u001b[1m8s\u001b[0m 1ms/step - loss: 0.0121 - val_loss: 0.0122\n",
      "Epoch 41/50\n",
      "\u001b[1m5532/5532\u001b[0m \u001b[32m━━━━━━━━━━━━━━━━━━━━\u001b[0m\u001b[37m\u001b[0m \u001b[1m8s\u001b[0m 1ms/step - loss: 0.0121 - val_loss: 0.0133\n",
      "Epoch 42/50\n",
      "\u001b[1m5532/5532\u001b[0m \u001b[32m━━━━━━━━━━━━━━━━━━━━\u001b[0m\u001b[37m\u001b[0m \u001b[1m8s\u001b[0m 1ms/step - loss: 0.0122 - val_loss: 0.0123\n",
      "Epoch 43/50\n",
      "\u001b[1m5532/5532\u001b[0m \u001b[32m━━━━━━━━━━━━━━━━━━━━\u001b[0m\u001b[37m\u001b[0m \u001b[1m8s\u001b[0m 1ms/step - loss: 0.0121 - val_loss: 0.0117\n",
      "Epoch 44/50\n",
      "\u001b[1m5532/5532\u001b[0m \u001b[32m━━━━━━━━━━━━━━━━━━━━\u001b[0m\u001b[37m\u001b[0m \u001b[1m8s\u001b[0m 1ms/step - loss: 0.0122 - val_loss: 0.0124\n",
      "Epoch 45/50\n",
      "\u001b[1m5532/5532\u001b[0m \u001b[32m━━━━━━━━━━━━━━━━━━━━\u001b[0m\u001b[37m\u001b[0m \u001b[1m8s\u001b[0m 1ms/step - loss: 0.0121 - val_loss: 0.0116\n",
      "Epoch 46/50\n",
      "\u001b[1m5532/5532\u001b[0m \u001b[32m━━━━━━━━━━━━━━━━━━━━\u001b[0m\u001b[37m\u001b[0m \u001b[1m8s\u001b[0m 1ms/step - loss: 0.0120 - val_loss: 0.0116\n",
      "Epoch 47/50\n",
      "\u001b[1m5532/5532\u001b[0m \u001b[32m━━━━━━━━━━━━━━━━━━━━\u001b[0m\u001b[37m\u001b[0m \u001b[1m8s\u001b[0m 1ms/step - loss: 0.0121 - val_loss: 0.0112\n",
      "Epoch 48/50\n",
      "\u001b[1m5532/5532\u001b[0m \u001b[32m━━━━━━━━━━━━━━━━━━━━\u001b[0m\u001b[37m\u001b[0m \u001b[1m8s\u001b[0m 1ms/step - loss: 0.0120 - val_loss: 0.0114\n",
      "Epoch 49/50\n",
      "\u001b[1m5532/5532\u001b[0m \u001b[32m━━━━━━━━━━━━━━━━━━━━\u001b[0m\u001b[37m\u001b[0m \u001b[1m8s\u001b[0m 1ms/step - loss: 0.0119 - val_loss: 0.0113\n",
      "Epoch 50/50\n",
      "\u001b[1m5532/5532\u001b[0m \u001b[32m━━━━━━━━━━━━━━━━━━━━\u001b[0m\u001b[37m\u001b[0m \u001b[1m8s\u001b[0m 1ms/step - loss: 0.0121 - val_loss: 0.0119\n"
     ]
    },
    {
     "data": {
      "text/plain": [
       "<keras.src.callbacks.history.History at 0x78d2c81f7430>"
      ]
     },
     "execution_count": 7,
     "metadata": {},
     "output_type": "execute_result"
    }
   ],
   "source": [
    "gru_model = Sequential()\n",
    "gru_model.add(GRU(64, activation='relu', input_shape=(1, X_train_reshaped.shape[2])))\n",
    "gru_model.add(Dense(1))\n",
    "\n",
    "gru_model.compile(optimizer='adam', loss='mse')\n",
    "\n",
    "gru_model.fit(X_train_reshaped, y_train, epochs=50, batch_size=32, validation_data=(X_valid_reshaped, y_valid))\n"
   ]
  },
  {
   "cell_type": "code",
   "execution_count": 8,
   "id": "ec1c3156",
   "metadata": {
    "execution": {
     "iopub.execute_input": "2025-01-02T08:35:51.273076Z",
     "iopub.status.busy": "2025-01-02T08:35:51.272775Z",
     "iopub.status.idle": "2025-01-02T08:35:53.934252Z",
     "shell.execute_reply": "2025-01-02T08:35:53.933218Z"
    },
    "papermill": {
     "duration": 3.109044,
     "end_time": "2025-01-02T08:35:53.935852",
     "exception": false,
     "start_time": "2025-01-02T08:35:50.826808",
     "status": "completed"
    },
    "tags": []
   },
   "outputs": [
    {
     "name": "stdout",
     "output_type": "stream",
     "text": [
      "\u001b[1m1383/1383\u001b[0m \u001b[32m━━━━━━━━━━━━━━━━━━━━\u001b[0m\u001b[37m\u001b[0m \u001b[1m2s\u001b[0m 1ms/step\n",
      "GRU Validation MAPE: 0.08287625444021057\n"
     ]
    }
   ],
   "source": [
    "# GRU Predictions\n",
    "gru_preds = np.expm1(gru_model.predict(X_valid_reshaped))\n",
    "gru_mape = mean_absolute_percentage_error(np.expm1(y_valid), gru_preds)\n",
    "print(f\"GRU Validation MAPE: {gru_mape}\")"
   ]
  },
  {
   "cell_type": "code",
   "execution_count": 9,
   "id": "c6196ecf",
   "metadata": {
    "execution": {
     "iopub.execute_input": "2025-01-02T08:35:54.980802Z",
     "iopub.status.busy": "2025-01-02T08:35:54.980414Z",
     "iopub.status.idle": "2025-01-02T08:35:54.986339Z",
     "shell.execute_reply": "2025-01-02T08:35:54.985485Z"
    },
    "papermill": {
     "duration": 0.466075,
     "end_time": "2025-01-02T08:35:54.987788",
     "exception": false,
     "start_time": "2025-01-02T08:35:54.521713",
     "status": "completed"
    },
    "tags": []
   },
   "outputs": [
    {
     "data": {
      "text/plain": [
       "array([[1317.8733  ],\n",
       "       [1034.6088  ],\n",
       "       [ 309.00308 ],\n",
       "       ...,\n",
       "       [  21.550407],\n",
       "       [1251.8961  ],\n",
       "       [1001.7323  ]], dtype=float32)"
      ]
     },
     "execution_count": 9,
     "metadata": {},
     "output_type": "execute_result"
    }
   ],
   "source": [
    "gru_preds"
   ]
  },
  {
   "cell_type": "code",
   "execution_count": 10,
   "id": "1ba6ebf4",
   "metadata": {
    "execution": {
     "iopub.execute_input": "2025-01-02T08:35:55.938255Z",
     "iopub.status.busy": "2025-01-02T08:35:55.937947Z",
     "iopub.status.idle": "2025-01-02T08:35:56.206831Z",
     "shell.execute_reply": "2025-01-02T08:35:56.205964Z"
    },
    "papermill": {
     "duration": 0.763296,
     "end_time": "2025-01-02T08:35:56.208368",
     "exception": false,
     "start_time": "2025-01-02T08:35:55.445072",
     "status": "completed"
    },
    "tags": []
   },
   "outputs": [
    {
     "data": {
      "image/png": "[encoded data removed]",
      "text/plain": [
       "<Figure size 640x480 with 1 Axes>"
      ]
     },
     "metadata": {},
     "output_type": "display_data"
    }
   ],
   "source": [
    "import matplotlib.pyplot as plt\n",
    "plt.plot(history.history['loss'], label='Train')\n",
    "plt.plot(history.history['val_loss'], label='Val')\n",
    "plt.title('Loss Curve')\n",
    "plt.xlabel('Epochs')\n",
    "plt.ylabel('Loss')\n",
    "plt.legend()\n",
    "plt.show()\n"
   ]
  },
  {
   "cell_type": "code",
   "execution_count": 11,
   "id": "54e7d3ef",
   "metadata": {
    "execution": {
     "iopub.execute_input": "2025-01-02T08:35:57.187757Z",
     "iopub.status.busy": "2025-01-02T08:35:57.187438Z",
     "iopub.status.idle": "2025-01-02T08:36:02.323465Z",
     "shell.execute_reply": "2025-01-02T08:36:02.322511Z"
    },
    "papermill": {
     "duration": 5.634661,
     "end_time": "2025-01-02T08:36:02.325009",
     "exception": false,
     "start_time": "2025-01-02T08:35:56.690348",
     "status": "completed"
    },
    "tags": []
   },
   "outputs": [
    {
     "name": "stdout",
     "output_type": "stream",
     "text": [
      "\u001b[1m3080/3080\u001b[0m \u001b[32m━━━━━━━━━━━━━━━━━━━━\u001b[0m\u001b[37m\u001b[0m \u001b[1m3s\u001b[0m 1ms/step\n"
     ]
    }
   ],
   "source": [
    "# Preprocess test data (apply the same transformations as done for training data)\n",
    "test_data['date'] = pd.to_datetime(test_data['date'])\n",
    "test_data['Year'] = test_data['date'].dt.year\n",
    "test_data['Month'] = test_data['date'].dt.month\n",
    "test_data['Day'] = test_data['date'].dt.day\n",
    "test_data = test_data.drop(['id', 'date'], axis=1)\n",
    "\n",
    "# Encode categorical columns in test data (use the same label encoders as for training)\n",
    "for col in categorical_cols:\n",
    "    test_data[col] = label_encoders[col].transform(test_data[col])\n",
    "\n",
    "# Extract features (X_test) for the test data\n",
    "X_test = test_data  # Replace this if there are any additional feature transformations\n",
    "\n",
    "# Scale the test features\n",
    "X_test_scaled = scaler.transform(X_test)\n",
    "\n",
    "# Reshape the test features for GRU\n",
    "X_test_reshaped = X_test_scaled.reshape(X_test_scaled.shape[0], 1, X_test_scaled.shape[1])\n",
    "\n",
    "# Predict on the test data using the GRU model\n",
    "gru_test_preds = np.expm1(gru_model.predict(X_test_reshaped))  # Reverse log1p transformation\n"
   ]
  },
  {
   "cell_type": "code",
   "execution_count": 12,
   "id": "3c5a5c82",
   "metadata": {
    "execution": {
     "iopub.execute_input": "2025-01-02T08:36:03.238711Z",
     "iopub.status.busy": "2025-01-02T08:36:03.238378Z",
     "iopub.status.idle": "2025-01-02T08:36:03.461108Z",
     "shell.execute_reply": "2025-01-02T08:36:03.460216Z"
    },
    "papermill": {
     "duration": 0.673496,
     "end_time": "2025-01-02T08:36:03.462742",
     "exception": false,
     "start_time": "2025-01-02T08:36:02.789246",
     "status": "completed"
    },
    "tags": []
   },
   "outputs": [
    {
     "data": {
      "text/html": [
       "<div>\n",
       "<style scoped>\n",
       "    .dataframe tbody tr th:only-of-type {\n",
       "        vertical-align: middle;\n",
       "    }\n",
       "\n",
       "    .dataframe tbody tr th {\n",
       "        vertical-align: top;\n",
       "    }\n",
       "\n",
       "    .dataframe thead th {\n",
       "        text-align: right;\n",
       "    }\n",
       "</style>\n",
       "<table border=\"1\" class=\"dataframe\">\n",
       "  <thead>\n",
       "    <tr style=\"text-align: right;\">\n",
       "      <th></th>\n",
       "      <th>id</th>\n",
       "      <th>num_sold</th>\n",
       "    </tr>\n",
       "  </thead>\n",
       "  <tbody>\n",
       "    <tr>\n",
       "      <th>0</th>\n",
       "      <td>230130</td>\n",
       "      <td>104.937462</td>\n",
       "    </tr>\n",
       "    <tr>\n",
       "      <th>1</th>\n",
       "      <td>230131</td>\n",
       "      <td>662.619690</td>\n",
       "    </tr>\n",
       "    <tr>\n",
       "      <th>2</th>\n",
       "      <td>230132</td>\n",
       "      <td>542.161499</td>\n",
       "    </tr>\n",
       "    <tr>\n",
       "      <th>3</th>\n",
       "      <td>230133</td>\n",
       "      <td>295.590607</td>\n",
       "    </tr>\n",
       "    <tr>\n",
       "      <th>4</th>\n",
       "      <td>230134</td>\n",
       "      <td>337.755554</td>\n",
       "    </tr>\n",
       "    <tr>\n",
       "      <th>...</th>\n",
       "      <td>...</td>\n",
       "      <td>...</td>\n",
       "    </tr>\n",
       "    <tr>\n",
       "      <th>98545</th>\n",
       "      <td>328675</td>\n",
       "      <td>285.505646</td>\n",
       "    </tr>\n",
       "    <tr>\n",
       "      <th>98546</th>\n",
       "      <td>328676</td>\n",
       "      <td>1754.570435</td>\n",
       "    </tr>\n",
       "    <tr>\n",
       "      <th>98547</th>\n",
       "      <td>328677</td>\n",
       "      <td>1411.246948</td>\n",
       "    </tr>\n",
       "    <tr>\n",
       "      <th>98548</th>\n",
       "      <td>328678</td>\n",
       "      <td>875.754089</td>\n",
       "    </tr>\n",
       "    <tr>\n",
       "      <th>98549</th>\n",
       "      <td>328679</td>\n",
       "      <td>946.764404</td>\n",
       "    </tr>\n",
       "  </tbody>\n",
       "</table>\n",
       "<p>98550 rows × 2 columns</p>\n",
       "</div>"
      ],
      "text/plain": [
       "           id     num_sold\n",
       "0      230130   104.937462\n",
       "1      230131   662.619690\n",
       "2      230132   542.161499\n",
       "3      230133   295.590607\n",
       "4      230134   337.755554\n",
       "...       ...          ...\n",
       "98545  328675   285.505646\n",
       "98546  328676  1754.570435\n",
       "98547  328677  1411.246948\n",
       "98548  328678   875.754089\n",
       "98549  328679   946.764404\n",
       "\n",
       "[98550 rows x 2 columns]"
      ]
     },
     "execution_count": 12,
     "metadata": {},
     "output_type": "execute_result"
    }
   ],
   "source": [
    "# Prepare the submission DataFrame\n",
    "test_data=pd.read_csv('/kaggle/input/playground-series-s5e1/test.csv')\n",
    "submission = pd.DataFrame({\n",
    "    'id': test_data['id'],  # Assuming the 'id' column is in the test data\n",
    "    'num_sold': gru_test_preds.flatten()  # Flatten the predictions and reverse the log1p transformation\n",
    "})\n",
    "\n",
    "# Save the submission file\n",
    "submission.to_csv('submission_gru.csv', index=False)\n",
    "submission"
   ]
  },
  {
   "cell_type": "code",
   "execution_count": null,
   "id": "3f3a4969",
   "metadata": {
    "papermill": {
     "duration": 0.464307,
     "end_time": "2025-01-02T08:36:04.445442",
     "exception": false,
     "start_time": "2025-01-02T08:36:03.981135",
     "status": "completed"
    },
    "tags": []
   },
   "outputs": [],
   "source": []
  }
 ],
 "metadata": {
  "kaggle": {
   "accelerator": "nvidiaTeslaT4",
   "dataSources": [
    {
     "databundleVersionId": 10652996,
     "sourceId": 85723,
     "sourceType": "competition"
    }
   ],
   "dockerImageVersionId": 30823,
   "isGpuEnabled": true,
   "isInternetEnabled": true,
   "language": "python",
   "sourceType": "notebook"
  },
  "kernelspec": {
   "display_name": "Python 3",
   "language": "python",
   "name": "python3"
  },
  "language_info": {
   "codemirror_mode": {
    "name": "ipython",
    "version": 3
   },
   "file_extension": ".py",
   "mimetype": "text/x-python",
   "name": "python",
   "nbconvert_exporter": "python",
   "pygments_lexer": "ipython3",
   "version": "3.10.12"
  },
  "papermill": {
   "default_parameters": {},
   "duration": 622.146687,
   "end_time": "2025-01-02T08:36:06.761481",
   "environment_variables": {},
   "exception": null,
   "input_path": "__notebook__.ipynb",
   "output_path": "__notebook__.ipynb",
   "parameters": {},
   "start_time": "2025-01-02T08:25:44.614794",
   "version": "2.6.0"
  }
 },
 "nbformat": 4,
 "nbformat_minor": 5
}
